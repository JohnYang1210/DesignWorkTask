{
 "cells": [
  {
   "cell_type": "code",
   "execution_count": 1,
   "metadata": {},
   "outputs": [],
   "source": [
    "import sys"
   ]
  },
  {
   "cell_type": "code",
   "execution_count": 2,
   "metadata": {},
   "outputs": [],
   "source": [
    "sys.path.append(r'G:\\PycharmProject\\DesignWorkTask\\sjqy2midas')"
   ]
  },
  {
   "cell_type": "code",
   "execution_count": 3,
   "metadata": {},
   "outputs": [],
   "source": [
    "from sjqy2midas import *"
   ]
  },
  {
   "cell_type": "code",
   "execution_count": 4,
   "metadata": {},
   "outputs": [],
   "source": [
    "import pandas as pd"
   ]
  },
  {
   "cell_type": "code",
   "execution_count": 5,
   "metadata": {},
   "outputs": [],
   "source": [
    "model=Model(r'G:\\PycharmProject\\DesignWorkTask\\sjqy2midas\\葛伦打洛.s2k')"
   ]
  },
  {
   "cell_type": "code",
   "execution_count": 6,
   "metadata": {},
   "outputs": [
    {
     "data": {
      "text/html": [
       "<div>\n",
       "<style scoped>\n",
       "    .dataframe tbody tr th:only-of-type {\n",
       "        vertical-align: middle;\n",
       "    }\n",
       "\n",
       "    .dataframe tbody tr th {\n",
       "        vertical-align: top;\n",
       "    }\n",
       "\n",
       "    .dataframe thead th {\n",
       "        text-align: right;\n",
       "    }\n",
       "</style>\n",
       "<table border=\"1\" class=\"dataframe\">\n",
       "  <thead>\n",
       "    <tr style=\"text-align: right;\">\n",
       "      <th></th>\n",
       "      <th>type</th>\n",
       "      <th>imat</th>\n",
       "      <th>ipro</th>\n",
       "      <th>Node1</th>\n",
       "      <th>Node2</th>\n",
       "      <th>Node3</th>\n",
       "      <th>Node4</th>\n",
       "      <th>x1</th>\n",
       "      <th>y1</th>\n",
       "      <th>z1</th>\n",
       "      <th>x2</th>\n",
       "      <th>y2</th>\n",
       "      <th>z2</th>\n",
       "      <th>x3</th>\n",
       "      <th>y3</th>\n",
       "      <th>z3</th>\n",
       "      <th>x4</th>\n",
       "      <th>y4</th>\n",
       "      <th>z4</th>\n",
       "    </tr>\n",
       "    <tr>\n",
       "      <th>element number</th>\n",
       "      <th></th>\n",
       "      <th></th>\n",
       "      <th></th>\n",
       "      <th></th>\n",
       "      <th></th>\n",
       "      <th></th>\n",
       "      <th></th>\n",
       "      <th></th>\n",
       "      <th></th>\n",
       "      <th></th>\n",
       "      <th></th>\n",
       "      <th></th>\n",
       "      <th></th>\n",
       "      <th></th>\n",
       "      <th></th>\n",
       "      <th></th>\n",
       "      <th></th>\n",
       "      <th></th>\n",
       "      <th></th>\n",
       "    </tr>\n",
       "  </thead>\n",
       "  <tbody>\n",
       "    <tr>\n",
       "      <th>1</th>\n",
       "      <td>PLATE</td>\n",
       "      <td>1</td>\n",
       "      <td>1</td>\n",
       "      <td>41</td>\n",
       "      <td>1</td>\n",
       "      <td>72</td>\n",
       "      <td>73</td>\n",
       "      <td>0.0</td>\n",
       "      <td>15.0</td>\n",
       "      <td>-7.215</td>\n",
       "      <td>0.0</td>\n",
       "      <td>15.0</td>\n",
       "      <td>-8.0</td>\n",
       "      <td>0.7</td>\n",
       "      <td>15.0</td>\n",
       "      <td>-8.0</td>\n",
       "      <td>0.7</td>\n",
       "      <td>15.0</td>\n",
       "      <td>-7.215</td>\n",
       "    </tr>\n",
       "    <tr>\n",
       "      <th>2</th>\n",
       "      <td>PLATE</td>\n",
       "      <td>1</td>\n",
       "      <td>1</td>\n",
       "      <td>73</td>\n",
       "      <td>72</td>\n",
       "      <td>71</td>\n",
       "      <td>74</td>\n",
       "      <td>0.7</td>\n",
       "      <td>15.0</td>\n",
       "      <td>-7.215</td>\n",
       "      <td>0.7</td>\n",
       "      <td>15.0</td>\n",
       "      <td>-8.0</td>\n",
       "      <td>1.4</td>\n",
       "      <td>15.0</td>\n",
       "      <td>-8.0</td>\n",
       "      <td>1.4</td>\n",
       "      <td>15.0</td>\n",
       "      <td>-7.215</td>\n",
       "    </tr>\n",
       "    <tr>\n",
       "      <th>3</th>\n",
       "      <td>PLATE</td>\n",
       "      <td>1</td>\n",
       "      <td>1</td>\n",
       "      <td>74</td>\n",
       "      <td>71</td>\n",
       "      <td>70</td>\n",
       "      <td>75</td>\n",
       "      <td>1.4</td>\n",
       "      <td>15.0</td>\n",
       "      <td>-7.215</td>\n",
       "      <td>1.4</td>\n",
       "      <td>15.0</td>\n",
       "      <td>-8.0</td>\n",
       "      <td>2.1</td>\n",
       "      <td>15.0</td>\n",
       "      <td>-8.0</td>\n",
       "      <td>2.1</td>\n",
       "      <td>15.0</td>\n",
       "      <td>-7.215</td>\n",
       "    </tr>\n",
       "    <tr>\n",
       "      <th>4</th>\n",
       "      <td>PLATE</td>\n",
       "      <td>1</td>\n",
       "      <td>1</td>\n",
       "      <td>75</td>\n",
       "      <td>70</td>\n",
       "      <td>69</td>\n",
       "      <td>76</td>\n",
       "      <td>2.1</td>\n",
       "      <td>15.0</td>\n",
       "      <td>-7.215</td>\n",
       "      <td>2.1</td>\n",
       "      <td>15.0</td>\n",
       "      <td>-8.0</td>\n",
       "      <td>2.8</td>\n",
       "      <td>15.0</td>\n",
       "      <td>-8.0</td>\n",
       "      <td>2.8</td>\n",
       "      <td>15.0</td>\n",
       "      <td>-7.215</td>\n",
       "    </tr>\n",
       "    <tr>\n",
       "      <th>5</th>\n",
       "      <td>PLATE</td>\n",
       "      <td>1</td>\n",
       "      <td>1</td>\n",
       "      <td>76</td>\n",
       "      <td>69</td>\n",
       "      <td>68</td>\n",
       "      <td>77</td>\n",
       "      <td>2.8</td>\n",
       "      <td>15.0</td>\n",
       "      <td>-7.215</td>\n",
       "      <td>2.8</td>\n",
       "      <td>15.0</td>\n",
       "      <td>-8.0</td>\n",
       "      <td>3.5</td>\n",
       "      <td>15.0</td>\n",
       "      <td>-8.0</td>\n",
       "      <td>3.5</td>\n",
       "      <td>15.0</td>\n",
       "      <td>-7.215</td>\n",
       "    </tr>\n",
       "  </tbody>\n",
       "</table>\n",
       "</div>"
      ],
      "text/plain": [
       "                 type  imat  ipro  Node1  Node2  Node3  Node4   x1    y1  \\\n",
       "element number                                                             \n",
       "1               PLATE     1     1     41      1     72     73  0.0  15.0   \n",
       "2               PLATE     1     1     73     72     71     74  0.7  15.0   \n",
       "3               PLATE     1     1     74     71     70     75  1.4  15.0   \n",
       "4               PLATE     1     1     75     70     69     76  2.1  15.0   \n",
       "5               PLATE     1     1     76     69     68     77  2.8  15.0   \n",
       "\n",
       "                   z1   x2    y2   z2   x3    y3   z3   x4    y4     z4  \n",
       "element number                                                           \n",
       "1              -7.215  0.0  15.0 -8.0  0.7  15.0 -8.0  0.7  15.0 -7.215  \n",
       "2              -7.215  0.7  15.0 -8.0  1.4  15.0 -8.0  1.4  15.0 -7.215  \n",
       "3              -7.215  1.4  15.0 -8.0  2.1  15.0 -8.0  2.1  15.0 -7.215  \n",
       "4              -7.215  2.1  15.0 -8.0  2.8  15.0 -8.0  2.8  15.0 -7.215  \n",
       "5              -7.215  2.8  15.0 -8.0  3.5  15.0 -8.0  3.5  15.0 -7.215  "
      ]
     },
     "execution_count": 6,
     "metadata": {},
     "output_type": "execute_result"
    }
   ],
   "source": [
    "model.fullEle.head()"
   ]
  },
  {
   "cell_type": "code",
   "execution_count": 7,
   "metadata": {},
   "outputs": [
    {
     "data": {
      "text/plain": [
       "True"
      ]
     },
     "execution_count": 7,
     "metadata": {},
     "output_type": "execute_result"
    }
   ],
   "source": [
    "set(model.fullEle['x3'].drop_duplicates().values)==set(model.fullEle['x2'].drop_duplicates().values)"
   ]
  },
  {
   "cell_type": "code",
   "execution_count": 8,
   "metadata": {
    "scrolled": true
   },
   "outputs": [
    {
     "data": {
      "text/plain": [
       "array([ 0.     ,  0.7    ,  1.4    ,  2.1    ,  2.8    ,  3.5    ,\n",
       "        4.2    ,  4.9    ,  5.6    ,  6.35909,  7.11818,  7.87727,\n",
       "        8.63636,  9.39545, 10.15455, 10.91364, 11.67273, 12.43182,\n",
       "       13.19091, 13.95   , 14.70909, 15.46818, 16.22727, 16.98636,\n",
       "       17.74545, 18.50455, 19.26364, 20.02273, 20.78182, 21.54091,\n",
       "       22.3    , 23.075  , 23.85   , 24.625  , 25.4    , 26.175  ,\n",
       "       26.95   , 27.725  , 28.5    , 29.25   , 30.     , 30.75   ,\n",
       "       31.5    , 32.25   , 33.     , 33.75   , 34.5    , 35.25   ,\n",
       "       36.     , 36.75   , 37.5    ])"
      ]
     },
     "execution_count": 8,
     "metadata": {},
     "output_type": "execute_result"
    }
   ],
   "source": [
    "model.fullEle['x2'].drop_duplicates().values"
   ]
  },
  {
   "cell_type": "code",
   "execution_count": 9,
   "metadata": {},
   "outputs": [],
   "source": [
    "xsets=model.fullEle['x1'].drop_duplicates().values"
   ]
  },
  {
   "cell_type": "code",
   "execution_count": 10,
   "metadata": {},
   "outputs": [
    {
     "data": {
      "text/plain": [
       "7.118180000000001"
      ]
     },
     "execution_count": 10,
     "metadata": {},
     "output_type": "execute_result"
    }
   ],
   "source": [
    "xsets[10]"
   ]
  },
  {
   "cell_type": "code",
   "execution_count": 11,
   "metadata": {
    "scrolled": true
   },
   "outputs": [
    {
     "data": {
      "text/html": [
       "<div>\n",
       "<style scoped>\n",
       "    .dataframe tbody tr th:only-of-type {\n",
       "        vertical-align: middle;\n",
       "    }\n",
       "\n",
       "    .dataframe tbody tr th {\n",
       "        vertical-align: top;\n",
       "    }\n",
       "\n",
       "    .dataframe thead th {\n",
       "        text-align: right;\n",
       "    }\n",
       "</style>\n",
       "<table border=\"1\" class=\"dataframe\">\n",
       "  <thead>\n",
       "    <tr style=\"text-align: right;\">\n",
       "      <th></th>\n",
       "      <th>type</th>\n",
       "      <th>imat</th>\n",
       "      <th>ipro</th>\n",
       "      <th>Node1</th>\n",
       "      <th>Node2</th>\n",
       "      <th>Node3</th>\n",
       "      <th>Node4</th>\n",
       "      <th>x1</th>\n",
       "      <th>y1</th>\n",
       "      <th>z1</th>\n",
       "      <th>x2</th>\n",
       "      <th>y2</th>\n",
       "      <th>z2</th>\n",
       "      <th>x3</th>\n",
       "      <th>y3</th>\n",
       "      <th>z3</th>\n",
       "      <th>x4</th>\n",
       "      <th>y4</th>\n",
       "      <th>z4</th>\n",
       "    </tr>\n",
       "    <tr>\n",
       "      <th>element number</th>\n",
       "      <th></th>\n",
       "      <th></th>\n",
       "      <th></th>\n",
       "      <th></th>\n",
       "      <th></th>\n",
       "      <th></th>\n",
       "      <th></th>\n",
       "      <th></th>\n",
       "      <th></th>\n",
       "      <th></th>\n",
       "      <th></th>\n",
       "      <th></th>\n",
       "      <th></th>\n",
       "      <th></th>\n",
       "      <th></th>\n",
       "      <th></th>\n",
       "      <th></th>\n",
       "      <th></th>\n",
       "      <th></th>\n",
       "    </tr>\n",
       "  </thead>\n",
       "  <tbody>\n",
       "  </tbody>\n",
       "</table>\n",
       "</div>"
      ],
      "text/plain": [
       "Empty DataFrame\n",
       "Columns: [type, imat, ipro, Node1, Node2, Node3, Node4, x1, y1, z1, x2, y2, z2, x3, y3, z3, x4, y4, z4]\n",
       "Index: []"
      ]
     },
     "execution_count": 11,
     "metadata": {},
     "output_type": "execute_result"
    }
   ],
   "source": [
    "model.SelectEle(x=[xsets[2]]) "
   ]
  },
  {
   "cell_type": "code",
   "execution_count": 12,
   "metadata": {},
   "outputs": [
    {
     "data": {
      "text/plain": [
       "432"
      ]
     },
     "execution_count": 12,
     "metadata": {},
     "output_type": "execute_result"
    }
   ],
   "source": [
    "len(model.SelectEle(x=[xsets[-1]]))"
   ]
  },
  {
   "cell_type": "code",
   "execution_count": 13,
   "metadata": {},
   "outputs": [
    {
     "name": "stdout",
     "output_type": "stream",
     "text": [
      "0.0\n",
      "5.6\n",
      "22.3\n",
      "28.5\n",
      "37.5\n"
     ]
    }
   ],
   "source": [
    "for i in xsets:\n",
    "    se=model.SelectEle(x=[i])\n",
    "    if len(se)>1:\n",
    "        print(i)"
   ]
  },
  {
   "cell_type": "code",
   "execution_count": 14,
   "metadata": {},
   "outputs": [
    {
     "data": {
      "text/plain": [
       "240"
      ]
     },
     "execution_count": 14,
     "metadata": {},
     "output_type": "execute_result"
    }
   ],
   "source": [
    "len(model.SelectEle(x=[0]))"
   ]
  },
  {
   "cell_type": "code",
   "execution_count": 15,
   "metadata": {},
   "outputs": [
    {
     "data": {
      "text/plain": [
       "432"
      ]
     },
     "execution_count": 15,
     "metadata": {},
     "output_type": "execute_result"
    }
   ],
   "source": [
    "len(model.SelectEle(x=[5.6]))"
   ]
  },
  {
   "cell_type": "code",
   "execution_count": 16,
   "metadata": {},
   "outputs": [
    {
     "data": {
      "text/plain": [
       "624"
      ]
     },
     "execution_count": 16,
     "metadata": {},
     "output_type": "execute_result"
    }
   ],
   "source": [
    "len(model.SelectEle(x=[22.3]))"
   ]
  },
  {
   "cell_type": "code",
   "execution_count": 25,
   "metadata": {},
   "outputs": [
    {
     "data": {
      "text/plain": [
       "dict_keys(['x_wall_0.0', 'x_wall_5.6', 'x_wall_22.3', 'x_wall_28.5', 'x_wall_37.5'])"
      ]
     },
     "execution_count": 25,
     "metadata": {},
     "output_type": "execute_result"
    }
   ],
   "source": [
    "model.xWalls.keys()"
   ]
  },
  {
   "cell_type": "markdown",
   "metadata": {},
   "source": []
  }
 ],
 "metadata": {
  "kernelspec": {
   "display_name": "Python 3",
   "language": "python",
   "name": "python3"
  },
  "language_info": {
   "codemirror_mode": {
    "name": "ipython",
    "version": 3
   },
   "file_extension": ".py",
   "mimetype": "text/x-python",
   "name": "python",
   "nbconvert_exporter": "python",
   "pygments_lexer": "ipython3",
   "version": "3.7.0"
  }
 },
 "nbformat": 4,
 "nbformat_minor": 2
}
