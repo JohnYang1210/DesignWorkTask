{
 "cells": [
  {
   "cell_type": "code",
   "execution_count": 1,
   "metadata": {
    "collapsed": true
   },
   "outputs": [],
   "source": [
    "import sys"
   ]
  },
  {
   "cell_type": "code",
   "execution_count": 2,
   "metadata": {
    "collapsed": true
   },
   "outputs": [],
   "source": [
    "sys.path.append(r'F:\\PycharmProject\\DesignWorkTask\\sjqy2midas')"
   ]
  },
  {
   "cell_type": "code",
   "execution_count": 3,
   "metadata": {
    "collapsed": false
   },
   "outputs": [],
   "source": [
    "from midas import *"
   ]
  },
  {
   "cell_type": "code",
   "execution_count": 4,
   "metadata": {
    "collapsed": false,
    "scrolled": false
   },
   "outputs": [
    {
     "name": "stdout",
     "output_type": "stream",
     "text": [
      "1\n",
      "3\n",
      "3\n",
      "3\n",
      "3\n",
      "1\n",
      "1\n",
      "1\n",
      "1\n",
      "1\n",
      "1\n",
      "1\n",
      "1\n",
      "1\n",
      "1\n",
      "1\n",
      "3\n",
      "3\n",
      "3\n",
      "3\n",
      "1\n",
      "1\n",
      "1\n",
      "1\n",
      "1\n",
      "1\n",
      "1\n",
      "1\n",
      "1\n",
      "1\n",
      "1\n",
      "3\n",
      "3\n",
      "3\n",
      "3\n",
      "1\n",
      "5\n",
      "5\n",
      "5\n",
      "5\n",
      "1\n",
      "5\n",
      "5\n",
      "5\n",
      "5\n"
     ]
    }
   ],
   "source": [
    "model=Mmodel(r'palu虹吸井.mgt',dele=True)"
   ]
  },
  {
   "cell_type": "code",
   "execution_count": 5,
   "metadata": {
    "collapsed": true
   },
   "outputs": [],
   "source": [
    "import pandas as pd"
   ]
  },
  {
   "cell_type": "code",
   "execution_count": 6,
   "metadata": {
    "collapsed": true
   },
   "outputs": [],
   "source": [
    "import re"
   ]
  },
  {
   "cell_type": "code",
   "execution_count": 7,
   "metadata": {
    "collapsed": true
   },
   "outputs": [],
   "source": [
    "with open(r'palu虹吸井.mgt') as f:\n",
    "    content=f.read()"
   ]
  },
  {
   "cell_type": "code",
   "execution_count": 8,
   "metadata": {
    "collapsed": false
   },
   "outputs": [
    {
     "data": {
      "text/plain": [
       "True"
      ]
     },
     "execution_count": 8,
     "metadata": {},
     "output_type": "execute_result"
    }
   ],
   "source": [
    "'*DOMAIN-ELEMENT'  in content"
   ]
  },
  {
   "cell_type": "code",
   "execution_count": 9,
   "metadata": {
    "collapsed": false
   },
   "outputs": [],
   "source": [
    "domain=re.findall(r'(?s)\\*DOMAIN-ELEMENT  ; Domain Element\\n; iKEY, iTYPE, iDOMAIN, MADONAME(.*)\\*MAIN-DOMAIN',content)"
   ]
  },
  {
   "cell_type": "code",
   "execution_count": 10,
   "metadata": {
    "collapsed": false,
    "scrolled": false
   },
   "outputs": [
    {
     "data": {
      "text/plain": [
       "['\\n   1, 0, 4, 12wall\\n   2, 0, 4, 12wall\\n   3, 0, 4, 12wall\\n   4, 0, 4, 12wall\\n   5, 0, 4, 12wall\\n   6, 0, 4, 12wall\\n   7, 0, 4, 12wall\\n   8, 0, 4, 12wall\\n   9, 0, 4, 12wall\\n   10, 0, 4, 12wall\\n   11, 0, 4, 12wall\\n   12, 0, 4, 12wall\\n   13, 0, 4, 12wall\\n   14, 0, 4, 12wall\\n   15, 0, 4, 12wall\\n   16, 0, 4, 12wall\\n   17, 0, 4, 12wall\\n   18, 0, 4, 12wall\\n   19, 0, 4, 12wall\\n   20, 0, 4, 12wall\\n   21, 0, 4, 12wall\\n   22, 0, 4, 12wall\\n   23, 0, 4, 12wall\\n   24, 0, 4, 12wall\\n   25, 0, 4, 12wall\\n   26, 0, 4, 12wall\\n   27, 0, 4, 12wall\\n   28, 0, 4, 12wall\\n   29, 0, 4, 12wall\\n   30, 0, 4, 12wall\\n   31, 0, 4, 12wall\\n   32, 0, 4, 12wall\\n   33, 0, 4, 12wall\\n   34, 0, 4, 12wall\\n   35, 0, 4, 12wall\\n   36, 0, 4, 12wall\\n   37, 0, 4, 12wall\\n   38, 0, 4, 12wall\\n   39, 0, 4, 12wall\\n   40, 0, 4, 12wall\\n   41, 0, 4, 12wall\\n   42, 0, 4, 12wall\\n   43, 0, 4, 12wall\\n   44, 0, 4, 12wall\\n   45, 0, 4, 12wall\\n   46, 0, 4, 12wall\\n   47, 0, 4, 12wall\\n   48, 0, 4, 12wall\\n   49, 0, 4, 12wall\\n   50, 0, 4, 12wall\\n   51, 0, 4, 12wall\\n   52, 0, 4, 12wall\\n   53, 0, 4, 12wall\\n   54, 0, 4, 12wall\\n   55, 0, 4, 12wall\\n   56, 0, 4, 12wall\\n   57, 0, 4, 12wall\\n   58, 0, 4, 12wall\\n   59, 0, 4, 12wall\\n   60, 0, 4, 12wall\\n   61, 0, 4, 12wall\\n   62, 0, 4, 12wall\\n   63, 0, 4, 12wall\\n   64, 0, 4, 12wall\\n   65, 0, 4, 12wall\\n   66, 0, 4, 12wall\\n   67, 0, 4, 12wall\\n   68, 0, 4, 12wall\\n   69, 0, 4, 12wall\\n   70, 0, 4, 12wall\\n   71, 0, 4, 12wall\\n   72, 0, 4, 12wall\\n   73, 0, 4, 12wall\\n   74, 0, 4, 12wall\\n   75, 0, 4, 12wall\\n   76, 0, 4, 12wall\\n   77, 0, 4, 12wall\\n   78, 0, 4, 12wall\\n   79, 0, 4, 12wall\\n   80, 0, 4, 12wall\\n   81, 0, 4, 12wall\\n   82, 0, 4, 12wall\\n   83, 0, 4, 12wall\\n   84, 0, 4, 12wall\\n   85, 0, 4, 12wall\\n   86, 0, 4, 12wall\\n   87, 0, 4, 12wall\\n   88, 0, 4, 12wall\\n   89, 0, 4, 12wall\\n   90, 0, 4, 12wall\\n   91, 0, 4, 12wall\\n   92, 0, 4, 12wall\\n   93, 0, 4, 12wall\\n   94, 0, 4, 12wall\\n   95, 0, 4, 12wall\\n   96, 0, 4, 12wall\\n   97, 0, 4, 12wall\\n   98, 0, 4, 12wall\\n   99, 0, 4, 12wall\\n   100, 0, 4, 12wall\\n   101, 0, 4, 12wall\\n   102, 0, 4, 12wall\\n   103, 0, 4, 12wall\\n   104, 0, 4, 12wall\\n   105, 0, 4, 12wall\\n   106, 0, 4, 12wall\\n   107, 0, 4, 12wall\\n   108, 0, 4, 12wall\\n   109, 0, 4, 12wall\\n   110, 0, 4, 12wall\\n   111, 0, 4, 12wall\\n   112, 0, 4, 12wall\\n   113, 0, 4, 12wall\\n   114, 0, 4, 12wall\\n   115, 0, 4, 12wall\\n   116, 0, 4, 12wall\\n   117, 0, 4, 12wall\\n   118, 0, 4, 12wall\\n   119, 0, 4, 12wall\\n   120, 0, 4, 12wall\\n   121, 0, 4, 12wall\\n   122, 0, 4, 12wall\\n   123, 0, 4, 12wall\\n   124, 0, 4, 12wall\\n   125, 0, 4, 12wall\\n   126, 0, 4, 12wall\\n   127, 0, 4, 12wall\\n   128, 0, 4, 12wall\\n   129, 0, 4, 12wall\\n   130, 0, 4, 12wall\\n   131, 0, 4, 12wall\\n   132, 0, 4, 12wall\\n   133, 0, 4, 12wall\\n   134, 0, 4, 12wall\\n   135, 0, 4, 12wall\\n   136, 0, 4, 12wall\\n   137, 0, 4, 12wall\\n   138, 0, 4, 12wall\\n   139, 0, 4, 12wall\\n   140, 0, 4, 12wall\\n   141, 0, 4, 12wall\\n   142, 0, 4, 12wall\\n   143, 0, 4, 12wall\\n   144, 0, 4, 12wall\\n   145, 0, 4, 12wall\\n   146, 0, 4, 12wall\\n   147, 0, 4, 12wall\\n   148, 0, 4, 12wall\\n   149, 0, 4, 12wall\\n   150, 0, 4, 12wall\\n   151, 0, 4, 12wall\\n   152, 0, 4, 12wall\\n   153, 0, 4, 12wall\\n   154, 0, 4, 12wall\\n   155, 0, 4, 12wall\\n   156, 0, 4, 12wall\\n   157, 0, 4, 12wall\\n   158, 0, 4, 12wall\\n   159, 0, 4, 12wall\\n   160, 0, 4, 12wall\\n   161, 0, 3, 13wall\\n   162, 0, 3, 13wall\\n   163, 0, 3, 13wall\\n   164, 0, 3, 13wall\\n   165, 0, 3, 13wall\\n   166, 0, 3, 13wall\\n   167, 0, 3, 13wall\\n   168, 0, 3, 13wall\\n   169, 0, 3, 13wall\\n   170, 0, 3, 13wall\\n   171, 0, 3, 13wall\\n   172, 0, 3, 13wall\\n   173, 0, 3, 13wall\\n   174, 0, 3, 13wall\\n   175, 0, 3, 13wall\\n   176, 0, 3, 13wall\\n   177, 0, 3, 13wall\\n   178, 0, 3, 13wall\\n   179, 0, 3, 13wall\\n   180, 0, 3, 13wall\\n   181, 0, 3, 13wall\\n   182, 0, 3, 13wall\\n   183, 0, 3, 13wall\\n   184, 0, 3, 13wall\\n   185, 0, 3, 13wall\\n   186, 0, 3, 13wall\\n   187, 0, 3, 13wall\\n   188, 0, 3, 13wall\\n   189, 0, 3, 13wall\\n   190, 0, 3, 13wall\\n   191, 0, 3, 13wall\\n   192, 0, 3, 13wall\\n   193, 0, 3, 13wall\\n   194, 0, 3, 13wall\\n   195, 0, 3, 13wall\\n   196, 0, 3, 13wall\\n   197, 0, 3, 13wall\\n   198, 0, 3, 13wall\\n   199, 0, 3, 13wall\\n   200, 0, 3, 13wall\\n   201, 0, 3, 13wall\\n   202, 0, 3, 13wall\\n   203, 0, 3, 13wall\\n   204, 0, 3, 13wall\\n   205, 0, 3, 13wall\\n   206, 0, 3, 13wall\\n   207, 0, 3, 13wall\\n   208, 0, 3, 13wall\\n   209, 0, 3, 13wall\\n   210, 0, 3, 13wall\\n   211, 0, 3, 13wall\\n   212, 0, 3, 13wall\\n   213, 0, 3, 13wall\\n   214, 0, 3, 13wall\\n   215, 0, 3, 13wall\\n   216, 0, 3, 13wall\\n   217, 0, 3, 13wall\\n   218, 0, 3, 13wall\\n   219, 0, 3, 13wall\\n   220, 0, 3, 13wall\\n   221, 0, 3, 13wall\\n   222, 0, 3, 13wall\\n   223, 0, 3, 13wall\\n   224, 0, 3, 13wall\\n   225, 0, 3, 13wall\\n   226, 0, 3, 13wall\\n   227, 0, 3, 13wall\\n   228, 0, 3, 13wall\\n   229, 0, 3, 13wall\\n   230, 0, 3, 13wall\\n   231, 0, 3, 13wall\\n   232, 0, 3, 13wall\\n   233, 0, 3, 13wall\\n   234, 0, 3, 13wall\\n   235, 0, 3, 13wall\\n   236, 0, 3, 13wall\\n   237, 0, 3, 13wall\\n   238, 0, 3, 13wall\\n   239, 0, 3, 13wall\\n   240, 0, 3, 13wall\\n   241, 0, 3, 13wall\\n   242, 0, 3, 13wall\\n   243, 0, 3, 13wall\\n   244, 0, 3, 13wall\\n   245, 0, 3, 13wall\\n   246, 0, 3, 13wall\\n   247, 0, 3, 13wall\\n   248, 0, 3, 13wall\\n   249, 0, 3, 13wall\\n   250, 0, 3, 13wall\\n   251, 0, 3, 13wall\\n   252, 0, 3, 13wall\\n   253, 0, 3, 13wall\\n   254, 0, 3, 13wall\\n   255, 0, 3, 13wall\\n   256, 0, 3, 13wall\\n   257, 0, 3, 13wall\\n   258, 0, 3, 13wall\\n   259, 0, 3, 13wall\\n   260, 0, 3, 13wall\\n   261, 0, 3, 13wall\\n   262, 0, 3, 13wall\\n   263, 0, 3, 13wall\\n   264, 0, 3, 13wall\\n   265, 0, 3, 13wall\\n   266, 0, 3, 13wall\\n   267, 0, 3, 13wall\\n   268, 0, 3, 13wall\\n   269, 0, 3, 13wall\\n   270, 0, 3, 13wall\\n   271, 0, 3, 13wall\\n   272, 0, 3, 13wall\\n   273, 0, 3, 13wall\\n   274, 0, 3, 13wall\\n   275, 0, 3, 13wall\\n   276, 0, 3, 13wall\\n   277, 0, 3, 13wall\\n   278, 0, 3, 13wall\\n   279, 0, 3, 13wall\\n   280, 0, 3, 13wall\\n   281, 0, 3, 13wall\\n   282, 0, 3, 13wall\\n   283, 0, 3, 13wall\\n   284, 0, 3, 13wall\\n   285, 0, 3, 13wall\\n   286, 0, 3, 13wall\\n   287, 0, 3, 13wall\\n   288, 0, 3, 13wall\\n   289, 0, 3, 13wall\\n   290, 0, 3, 13wall\\n   291, 0, 3, 13wall\\n   292, 0, 3, 13wall\\n   293, 0, 3, 13wall\\n   294, 0, 3, 13wall\\n   295, 0, 3, 13wall\\n   296, 0, 3, 13wall\\n   297, 0, 3, 13wall\\n   298, 0, 3, 13wall\\n   299, 0, 3, 13wall\\n   300, 0, 3, 13wall\\n   301, 0, 3, 13wall\\n   302, 0, 3, 13wall\\n   303, 0, 3, 13wall\\n   304, 0, 3, 13wall\\n   305, 0, 3, 13wall\\n   306, 0, 3, 13wall\\n   307, 0, 3, 13wall\\n   308, 0, 3, 13wall\\n   309, 0, 3, 13wall\\n   310, 0, 3, 13wall\\n   311, 0, 3, 13wall\\n   312, 0, 3, 13wall\\n   313, 0, 3, 13wall\\n   314, 0, 3, 13wall\\n   315, 0, 3, 13wall\\n   316, 0, 3, 13wall\\n   317, 0, 3, 13wall\\n   318, 0, 3, 13wall\\n   319, 0, 3, 13wall\\n   320, 0, 3, 13wall\\n   321, 0, 3, 13wall\\n   322, 0, 3, 13wall\\n   323, 0, 3, 13wall\\n   324, 0, 3, 13wall\\n   325, 0, 3, 13wall\\n   326, 0, 3, 13wall\\n   327, 0, 3, 13wall\\n   328, 0, 3, 13wall\\n   329, 0, 3, 13wall\\n   330, 0, 3, 13wall\\n   331, 0, 3, 13wall\\n   332, 0, 3, 13wall\\n   333, 0, 3, 13wall\\n   334, 0, 3, 13wall\\n   335, 0, 3, 13wall\\n   336, 0, 3, 13wall\\n   337, 0, 3, 13wall\\n   338, 0, 3, 13wall\\n   339, 0, 3, 13wall\\n   340, 0, 3, 13wall\\n   341, 0, 3, 13wall\\n   342, 0, 3, 13wall\\n   343, 0, 3, 13wall\\n   344, 0, 3, 13wall\\n   345, 0, 3, 13wall\\n   346, 0, 3, 13wall\\n   347, 0, 3, 13wall\\n   348, 0, 3, 13wall\\n   349, 0, 3, 13wall\\n   350, 0, 3, 13wall\\n   351, 0, 3, 13wall\\n   352, 0, 3, 13wall\\n   353, 0, 3, 13wall\\n   354, 0, 3, 13wall\\n   355, 0, 3, 13wall\\n   356, 0, 3, 13wall\\n   357, 0, 3, 13wall\\n   358, 0, 3, 13wall\\n   359, 0, 3, 13wall\\n   360, 0, 3, 13wall\\n   361, 0, 7, 24wall\\n   362, 0, 7, 24wall\\n   363, 0, 7, 24wall\\n   364, 0, 7, 24wall\\n   365, 0, 7, 24wall\\n   366, 0, 7, 24wall\\n   367, 0, 7, 24wall\\n   368, 0, 7, 24wall\\n   369, 0, 7, 24wall\\n   370, 0, 7, 24wall\\n   371, 0, 7, 24wall\\n   372, 0, 7, 24wall\\n   373, 0, 7, 24wall\\n   374, 0, 7, 24wall\\n   375, 0, 7, 24wall\\n   376, 0, 7, 24wall\\n   377, 0, 7, 24wall\\n   378, 0, 7, 24wall\\n   379, 0, 7, 24wall\\n   380, 0, 7, 24wall\\n   381, 0, 7, 24wall\\n   382, 0, 7, 24wall\\n   383, 0, 7, 24wall\\n   384, 0, 7, 24wall\\n   385, 0, 7, 24wall\\n   386, 0, 7, 24wall\\n   387, 0, 7, 24wall\\n   388, 0, 7, 24wall\\n   389, 0, 7, 24wall\\n   390, 0, 7, 24wall\\n   391, 0, 7, 24wall\\n   392, 0, 7, 24wall\\n   393, 0, 7, 24wall\\n   394, 0, 7, 24wall\\n   395, 0, 7, 24wall\\n   396, 0, 7, 24wall\\n   397, 0, 7, 24wall\\n   398, 0, 7, 24wall\\n   399, 0, 7, 24wall\\n   400, 0, 7, 24wall\\n   401, 0, 7, 24wall\\n   402, 0, 7, 24wall\\n   403, 0, 7, 24wall\\n   404, 0, 7, 24wall\\n   405, 0, 7, 24wall\\n   406, 0, 7, 24wall\\n   407, 0, 7, 24wall\\n   408, 0, 7, 24wall\\n   409, 0, 7, 24wall\\n   410, 0, 7, 24wall\\n   411, 0, 7, 24wall\\n   412, 0, 7, 24wall\\n   413, 0, 7, 24wall\\n   414, 0, 7, 24wall\\n   415, 0, 7, 24wall\\n   416, 0, 7, 24wall\\n   417, 0, 7, 24wall\\n   418, 0, 7, 24wall\\n   419, 0, 7, 24wall\\n   420, 0, 7, 24wall\\n   421, 0, 7, 24wall\\n   422, 0, 7, 24wall\\n   423, 0, 7, 24wall\\n   424, 0, 7, 24wall\\n   425, 0, 7, 24wall\\n   426, 0, 7, 24wall\\n   427, 0, 7, 24wall\\n   428, 0, 7, 24wall\\n   429, 0, 7, 24wall\\n   430, 0, 7, 24wall\\n   431, 0, 7, 24wall\\n   432, 0, 7, 24wall\\n   433, 0, 7, 24wall\\n   434, 0, 7, 24wall\\n   435, 0, 7, 24wall\\n   436, 0, 7, 24wall\\n   437, 0, 7, 24wall\\n   438, 0, 7, 24wall\\n   439, 0, 7, 24wall\\n   440, 0, 7, 24wall\\n   441, 0, 7, 24wall\\n   442, 0, 7, 24wall\\n   443, 0, 7, 24wall\\n   444, 0, 7, 24wall\\n   445, 0, 7, 24wall\\n   446, 0, 7, 24wall\\n   447, 0, 7, 24wall\\n   448, 0, 7, 24wall\\n   449, 0, 7, 24wall\\n   450, 0, 7, 24wall\\n   451, 0, 7, 24wall\\n   452, 0, 7, 24wall\\n   453, 0, 7, 24wall\\n   454, 0, 7, 24wall\\n   455, 0, 7, 24wall\\n   456, 0, 7, 24wall\\n   457, 0, 7, 24wall\\n   458, 0, 7, 24wall\\n   459, 0, 7, 24wall\\n   460, 0, 7, 24wall\\n   461, 0, 7, 24wall\\n   462, 0, 7, 24wall\\n   463, 0, 7, 24wall\\n   464, 0, 7, 24wall\\n   465, 0, 7, 24wall\\n   466, 0, 7, 24wall\\n   467, 0, 7, 24wall\\n   468, 0, 7, 24wall\\n   469, 0, 7, 24wall\\n   470, 0, 7, 24wall\\n   471, 0, 7, 24wall\\n   472, 0, 7, 24wall\\n   473, 0, 7, 24wall\\n   474, 0, 7, 24wall\\n   475, 0, 7, 24wall\\n   476, 0, 7, 24wall\\n   477, 0, 7, 24wall\\n   478, 0, 7, 24wall\\n   479, 0, 7, 24wall\\n   480, 0, 7, 24wall\\n   481, 0, 7, 24wall\\n   482, 0, 7, 24wall\\n   483, 0, 7, 24wall\\n   484, 0, 7, 24wall\\n   485, 0, 7, 24wall\\n   486, 0, 7, 24wall\\n   487, 0, 7, 24wall\\n   488, 0, 7, 24wall\\n   489, 0, 7, 24wall\\n   490, 0, 7, 24wall\\n   491, 0, 7, 24wall\\n   492, 0, 7, 24wall\\n   493, 0, 7, 24wall\\n   494, 0, 7, 24wall\\n   495, 0, 7, 24wall\\n   496, 0, 7, 24wall\\n   497, 0, 7, 24wall\\n   498, 0, 7, 24wall\\n   499, 0, 7, 24wall\\n   500, 0, 7, 24wall\\n   501, 0, 7, 24wall\\n   502, 0, 7, 24wall\\n   503, 0, 7, 24wall\\n   504, 0, 7, 24wall\\n   505, 0, 7, 24wall\\n   506, 0, 7, 24wall\\n   507, 0, 7, 24wall\\n   508, 0, 7, 24wall\\n   509, 0, 7, 24wall\\n   510, 0, 7, 24wall\\n   511, 0, 7, 24wall\\n   512, 0, 7, 24wall\\n   513, 0, 7, 24wall\\n   514, 0, 7, 24wall\\n   515, 0, 7, 24wall\\n   516, 0, 7, 24wall\\n   517, 0, 7, 24wall\\n   518, 0, 7, 24wall\\n   519, 0, 7, 24wall\\n   520, 0, 7, 24wall\\n   521, 0, 7, 24wall\\n   522, 0, 7, 24wall\\n   523, 0, 7, 24wall\\n   524, 0, 7, 24wall\\n   525, 0, 7, 24wall\\n   526, 0, 7, 24wall\\n   527, 0, 7, 24wall\\n   528, 0, 7, 24wall\\n   529, 0, 7, 24wall\\n   530, 0, 7, 24wall\\n   531, 0, 7, 24wall\\n   532, 0, 7, 24wall\\n   533, 0, 7, 24wall\\n   534, 0, 7, 24wall\\n   535, 0, 7, 24wall\\n   536, 0, 7, 24wall\\n   537, 0, 7, 24wall\\n   538, 0, 7, 24wall\\n   539, 0, 7, 24wall\\n   540, 0, 7, 24wall\\n   541, 0, 7, 24wall\\n   542, 0, 7, 24wall\\n   543, 0, 7, 24wall\\n   544, 0, 7, 24wall\\n   545, 0, 7, 24wall\\n   546, 0, 7, 24wall\\n   547, 0, 7, 24wall\\n   548, 0, 7, 24wall\\n   549, 0, 7, 24wall\\n   550, 0, 7, 24wall\\n   551, 0, 7, 24wall\\n   552, 0, 7, 24wall\\n   553, 0, 7, 24wall\\n   554, 0, 7, 24wall\\n   555, 0, 7, 24wall\\n   556, 0, 7, 24wall\\n   557, 0, 7, 24wall\\n   558, 0, 7, 24wall\\n   559, 0, 7, 24wall\\n   560, 0, 7, 24wall\\n   561, 0, 6, 34wall\\n   562, 0, 6, 34wall\\n   563, 0, 6, 34wall\\n   564, 0, 6, 34wall\\n   565, 0, 6, 34wall\\n   566, 0, 6, 34wall\\n   567, 0, 6, 34wall\\n   568, 0, 6, 34wall\\n   569, 0, 6, 34wall\\n   570, 0, 6, 34wall\\n   571, 0, 6, 34wall\\n   572, 0, 6, 34wall\\n   573, 0, 6, 34wall\\n   574, 0, 6, 34wall\\n   575, 0, 6, 34wall\\n   576, 0, 6, 34wall\\n   577, 0, 6, 34wall\\n   578, 0, 6, 34wall\\n   579, 0, 6, 34wall\\n   580, 0, 6, 34wall\\n   581, 0, 6, 34wall\\n   582, 0, 6, 34wall\\n   583, 0, 6, 34wall\\n   584, 0, 6, 34wall\\n   585, 0, 6, 34wall\\n   586, 0, 6, 34wall\\n   587, 0, 6, 34wall\\n   588, 0, 6, 34wall\\n   589, 0, 6, 34wall\\n   590, 0, 6, 34wall\\n   591, 0, 6, 34wall\\n   592, 0, 6, 34wall\\n   593, 0, 6, 34wall\\n   594, 0, 6, 34wall\\n   595, 0, 6, 34wall\\n   596, 0, 6, 34wall\\n   597, 0, 6, 34wall\\n   598, 0, 6, 34wall\\n   599, 0, 6, 34wall\\n   600, 0, 6, 34wall\\n   601, 0, 6, 34wall\\n   602, 0, 6, 34wall\\n   603, 0, 6, 34wall\\n   604, 0, 6, 34wall\\n   605, 0, 6, 34wall\\n   606, 0, 6, 34wall\\n   607, 0, 6, 34wall\\n   608, 0, 6, 34wall\\n   609, 0, 6, 34wall\\n   610, 0, 6, 34wall\\n   611, 0, 6, 34wall\\n   612, 0, 6, 34wall\\n   613, 0, 6, 34wall\\n   614, 0, 6, 34wall\\n   615, 0, 6, 34wall\\n   616, 0, 6, 34wall\\n   617, 0, 6, 34wall\\n   618, 0, 6, 34wall\\n   619, 0, 6, 34wall\\n   620, 0, 6, 34wall\\n   621, 0, 6, 34wall\\n   622, 0, 6, 34wall\\n   623, 0, 6, 34wall\\n   624, 0, 6, 34wall\\n   625, 0, 6, 34wall\\n   626, 0, 6, 34wall\\n   627, 0, 6, 34wall\\n   628, 0, 6, 34wall\\n   629, 0, 6, 34wall\\n   630, 0, 6, 34wall\\n   631, 0, 6, 34wall\\n   632, 0, 6, 34wall\\n   633, 0, 6, 34wall\\n   634, 0, 6, 34wall\\n   635, 0, 6, 34wall\\n   636, 0, 6, 34wall\\n   637, 0, 6, 34wall\\n   638, 0, 6, 34wall\\n   639, 0, 6, 34wall\\n   640, 0, 6, 34wall\\n   641, 0, 6, 34wall\\n   642, 0, 6, 34wall\\n   643, 0, 6, 34wall\\n   644, 0, 6, 34wall\\n   645, 0, 6, 34wall\\n   646, 0, 6, 34wall\\n   647, 0, 6, 34wall\\n   648, 0, 6, 34wall\\n   649, 0, 6, 34wall\\n   650, 0, 6, 34wall\\n   651, 0, 6, 34wall\\n   652, 0, 6, 34wall\\n   653, 0, 6, 34wall\\n   654, 0, 6, 34wall\\n   655, 0, 6, 34wall\\n   656, 0, 6, 34wall\\n   657, 0, 6, 34wall\\n   658, 0, 6, 34wall\\n   659, 0, 6, 34wall\\n   660, 0, 6, 34wall\\n   661, 0, 6, 34wall\\n   662, 0, 6, 34wall\\n   663, 0, 6, 34wall\\n   664, 0, 6, 34wall\\n   665, 0, 6, 34wall\\n   666, 0, 6, 34wall\\n   667, 0, 6, 34wall\\n   668, 0, 6, 34wall\\n   669, 0, 6, 34wall\\n   670, 0, 6, 34wall\\n   671, 0, 6, 34wall\\n   672, 0, 6, 34wall\\n   673, 0, 6, 34wall\\n   674, 0, 6, 34wall\\n   675, 0, 6, 34wall\\n   676, 0, 6, 34wall\\n   677, 0, 6, 34wall\\n   678, 0, 6, 34wall\\n   679, 0, 6, 34wall\\n   680, 0, 6, 34wall\\n   681, 0, 6, 34wall\\n   682, 0, 6, 34wall\\n   683, 0, 6, 34wall\\n   684, 0, 6, 34wall\\n   685, 0, 6, 34wall\\n   686, 0, 6, 34wall\\n   687, 0, 6, 34wall\\n   688, 0, 6, 34wall\\n   689, 0, 8, 35wall\\n   690, 0, 8, 35wall\\n   691, 0, 8, 35wall\\n   692, 0, 8, 35wall\\n   693, 0, 8, 35wall\\n   694, 0, 8, 35wall\\n   695, 0, 8, 35wall\\n   696, 0, 8, 35wall\\n   697, 0, 8, 35wall\\n   698, 0, 8, 35wall\\n   699, 0, 8, 35wall\\n   700, 0, 8, 35wall\\n   701, 0, 8, 35wall\\n   702, 0, 8, 35wall\\n   703, 0, 8, 35wall\\n   704, 0, 8, 35wall\\n   705, 0, 8, 35wall\\n   706, 0, 8, 35wall\\n   707, 0, 8, 35wall\\n   708, 0, 8, 35wall\\n   709, 0, 8, 35wall\\n   710, 0, 8, 35wall\\n   711, 0, 8, 35wall\\n   712, 0, 8, 35wall\\n   713, 0, 8, 35wall\\n   714, 0, 8, 35wall\\n   715, 0, 8, 35wall\\n   716, 0, 8, 35wall\\n   717, 0, 8, 35wall\\n   718, 0, 8, 35wall\\n   719, 0, 8, 35wall\\n   720, 0, 8, 35wall\\n   721, 0, 8, 35wall\\n   722, 0, 8, 35wall\\n   723, 0, 8, 35wall\\n   724, 0, 8, 35wall\\n   725, 0, 8, 35wall\\n   726, 0, 8, 35wall\\n   727, 0, 8, 35wall\\n   728, 0, 8, 35wall\\n   729, 0, 8, 35wall\\n   730, 0, 8, 35wall\\n   731, 0, 8, 35wall\\n   732, 0, 8, 35wall\\n   733, 0, 8, 35wall\\n   734, 0, 8, 35wall\\n   735, 0, 8, 35wall\\n   736, 0, 8, 35wall\\n   737, 0, 8, 35wall\\n   738, 0, 8, 35wall\\n   739, 0, 8, 35wall\\n   740, 0, 8, 35wall\\n   741, 0, 8, 35wall\\n   742, 0, 8, 35wall\\n   743, 0, 8, 35wall\\n   744, 0, 8, 35wall\\n   745, 0, 8, 35wall\\n   746, 0, 8, 35wall\\n   747, 0, 8, 35wall\\n   748, 0, 8, 35wall\\n   749, 0, 8, 35wall\\n   750, 0, 8, 35wall\\n   751, 0, 8, 35wall\\n   752, 0, 8, 35wall\\n   753, 0, 8, 35wall\\n   754, 0, 8, 35wall\\n   755, 0, 8, 35wall\\n   756, 0, 8, 35wall\\n   757, 0, 8, 35wall\\n   758, 0, 8, 35wall\\n   759, 0, 8, 35wall\\n   760, 0, 8, 35wall\\n   761, 0, 8, 35wall\\n   762, 0, 8, 35wall\\n   763, 0, 8, 35wall\\n   764, 0, 8, 35wall\\n   765, 0, 8, 35wall\\n   766, 0, 8, 35wall\\n   767, 0, 8, 35wall\\n   768, 0, 8, 35wall\\n   769, 0, 8, 35wall\\n   770, 0, 8, 35wall\\n   771, 0, 8, 35wall\\n   772, 0, 8, 35wall\\n   773, 0, 8, 35wall\\n   774, 0, 8, 35wall\\n   775, 0, 8, 35wall\\n   776, 0, 8, 35wall\\n   777, 0, 8, 35wall\\n   778, 0, 8, 35wall\\n   779, 0, 8, 35wall\\n   780, 0, 8, 35wall\\n   781, 0, 8, 35wall\\n   782, 0, 8, 35wall\\n   783, 0, 8, 35wall\\n   784, 0, 8, 35wall\\n   785, 0, 8, 35wall\\n   786, 0, 8, 35wall\\n   787, 0, 8, 35wall\\n   788, 0, 8, 35wall\\n   789, 0, 8, 35wall\\n   790, 0, 8, 35wall\\n   791, 0, 8, 35wall\\n   792, 0, 8, 35wall\\n   793, 0, 8, 35wall\\n   794, 0, 8, 35wall\\n   795, 0, 8, 35wall\\n   796, 0, 8, 35wall\\n   797, 0, 8, 35wall\\n   798, 0, 8, 35wall\\n   799, 0, 8, 35wall\\n   800, 0, 8, 35wall\\n   801, 0, 8, 35wall\\n   802, 0, 8, 35wall\\n   803, 0, 8, 35wall\\n   804, 0, 8, 35wall\\n   805, 0, 8, 35wall\\n   806, 0, 8, 35wall\\n   807, 0, 8, 35wall\\n   808, 0, 8, 35wall\\n   809, 0, 8, 35wall\\n   810, 0, 8, 35wall\\n   811, 0, 8, 35wall\\n   812, 0, 8, 35wall\\n   813, 0, 8, 35wall\\n   814, 0, 8, 35wall\\n   815, 0, 8, 35wall\\n   816, 0, 8, 35wall\\n   817, 0, 8, 35wall\\n   818, 0, 8, 35wall\\n   819, 0, 8, 35wall\\n   820, 0, 8, 35wall\\n   821, 0, 8, 35wall\\n   822, 0, 8, 35wall\\n   823, 0, 8, 35wall\\n   824, 0, 8, 35wall\\n   825, 0, 8, 35wall\\n   826, 0, 8, 35wall\\n   827, 0, 8, 35wall\\n   828, 0, 8, 35wall\\n   829, 0, 8, 35wall\\n   830, 0, 8, 35wall\\n   831, 0, 8, 35wall\\n   832, 0, 8, 35wall\\n   833, 0, 8, 35wall\\n   834, 0, 8, 35wall\\n   835, 0, 8, 35wall\\n   836, 0, 8, 35wall\\n   837, 0, 8, 35wall\\n   838, 0, 8, 35wall\\n   839, 0, 8, 35wall\\n   840, 0, 8, 35wall\\n   841, 0, 8, 35wall\\n   842, 0, 8, 35wall\\n   843, 0, 8, 35wall\\n   844, 0, 8, 35wall\\n   845, 0, 8, 35wall\\n   846, 0, 8, 35wall\\n   847, 0, 8, 35wall\\n   848, 0, 8, 35wall\\n   849, 0, 9, 46wall\\n   850, 0, 9, 46wall\\n   851, 0, 9, 46wall\\n   852, 0, 9, 46wall\\n   853, 0, 9, 46wall\\n   854, 0, 9, 46wall\\n   855, 0, 9, 46wall\\n   856, 0, 9, 46wall\\n   857, 0, 9, 46wall\\n   858, 0, 9, 46wall\\n   859, 0, 9, 46wall\\n   860, 0, 9, 46wall\\n   861, 0, 9, 46wall\\n   862, 0, 9, 46wall\\n   863, 0, 9, 46wall\\n   864, 0, 9, 46wall\\n   865, 0, 9, 46wall\\n   866, 0, 9, 46wall\\n   867, 0, 9, 46wall\\n   868, 0, 9, 46wall\\n   869, 0, 9, 46wall\\n   870, 0, 9, 46wall\\n   871, 0, 9, 46wall\\n   872, 0, 9, 46wall\\n   873, 0, 9, 46wall\\n   874, 0, 9, 46wall\\n   875, 0, 9, 46wall\\n   876, 0, 9, 46wall\\n   877, 0, 9, 46wall\\n   878, 0, 9, 46wall\\n   879, 0, 9, 46wall\\n   880, 0, 9, 46wall\\n   881, 0, 9, 46wall\\n   882, 0, 9, 46wall\\n   883, 0, 9, 46wall\\n   884, 0, 9, 46wall\\n   885, 0, 9, 46wall\\n   886, 0, 9, 46wall\\n   887, 0, 9, 46wall\\n   888, 0, 9, 46wall\\n   889, 0, 9, 46wall\\n   890, 0, 9, 46wall\\n   891, 0, 9, 46wall\\n   892, 0, 9, 46wall\\n   893, 0, 9, 46wall\\n   894, 0, 9, 46wall\\n   895, 0, 9, 46wall\\n   896, 0, 9, 46wall\\n   897, 0, 9, 46wall\\n   898, 0, 9, 46wall\\n   899, 0, 9, 46wall\\n   900, 0, 9, 46wall\\n   901, 0, 9, 46wall\\n   902, 0, 9, 46wall\\n   903, 0, 9, 46wall\\n   904, 0, 9, 46wall\\n   905, 0, 9, 46wall\\n   906, 0, 9, 46wall\\n   907, 0, 9, 46wall\\n   908, 0, 9, 46wall\\n   909, 0, 9, 46wall\\n   910, 0, 9, 46wall\\n   911, 0, 9, 46wall\\n   912, 0, 9, 46wall\\n   913, 0, 9, 46wall\\n   914, 0, 9, 46wall\\n   915, 0, 9, 46wall\\n   916, 0, 9, 46wall\\n   917, 0, 9, 46wall\\n   918, 0, 9, 46wall\\n   919, 0, 9, 46wall\\n   920, 0, 9, 46wall\\n   921, 0, 9, 46wall\\n   922, 0, 9, 46wall\\n   923, 0, 9, 46wall\\n   924, 0, 9, 46wall\\n   925, 0, 9, 46wall\\n   926, 0, 9, 46wall\\n   927, 0, 9, 46wall\\n   928, 0, 9, 46wall\\n   929, 0, 9, 46wall\\n   930, 0, 9, 46wall\\n   931, 0, 9, 46wall\\n   932, 0, 9, 46wall\\n   933, 0, 9, 46wall\\n   934, 0, 9, 46wall\\n   935, 0, 9, 46wall\\n   936, 0, 9, 46wall\\n   937, 0, 9, 46wall\\n   938, 0, 9, 46wall\\n   939, 0, 9, 46wall\\n   940, 0, 9, 46wall\\n   941, 0, 9, 46wall\\n   942, 0, 9, 46wall\\n   943, 0, 9, 46wall\\n   944, 0, 9, 46wall\\n   945, 0, 9, 46wall\\n   946, 0, 9, 46wall\\n   947, 0, 9, 46wall\\n   948, 0, 9, 46wall\\n   949, 0, 9, 46wall\\n   950, 0, 9, 46wall\\n   951, 0, 9, 46wall\\n   952, 0, 9, 46wall\\n   953, 0, 9, 46wall\\n   954, 0, 9, 46wall\\n   955, 0, 9, 46wall\\n   956, 0, 9, 46wall\\n   957, 0, 9, 46wall\\n   958, 0, 9, 46wall\\n   959, 0, 9, 46wall\\n   960, 0, 9, 46wall\\n   961, 0, 9, 46wall\\n   962, 0, 9, 46wall\\n   963, 0, 9, 46wall\\n   964, 0, 9, 46wall\\n   965, 0, 9, 46wall\\n   966, 0, 9, 46wall\\n   967, 0, 9, 46wall\\n   968, 0, 9, 46wall\\n   969, 0, 9, 46wall\\n   970, 0, 9, 46wall\\n   971, 0, 9, 46wall\\n   972, 0, 9, 46wall\\n   973, 0, 9, 46wall\\n   974, 0, 9, 46wall\\n   975, 0, 9, 46wall\\n   976, 0, 9, 46wall\\n   977, 0, 9, 46wall\\n   978, 0, 9, 46wall\\n   979, 0, 9, 46wall\\n   980, 0, 9, 46wall\\n   981, 0, 9, 46wall\\n   982, 0, 9, 46wall\\n   983, 0, 9, 46wall\\n   984, 0, 9, 46wall\\n   985, 0, 9, 46wall\\n   986, 0, 9, 46wall\\n   987, 0, 9, 46wall\\n   988, 0, 9, 46wall\\n   989, 0, 9, 46wall\\n   990, 0, 9, 46wall\\n   991, 0, 9, 46wall\\n   992, 0, 9, 46wall\\n   993, 0, 9, 46wall\\n   994, 0, 9, 46wall\\n   995, 0, 9, 46wall\\n   996, 0, 9, 46wall\\n   997, 0, 9, 46wall\\n   998, 0, 9, 46wall\\n   999, 0, 9, 46wall\\n   1000, 0, 9, 46wall\\n   1001, 0, 9, 46wall\\n   1002, 0, 9, 46wall\\n   1003, 0, 9, 46wall\\n   1004, 0, 9, 46wall\\n   1005, 0, 9, 46wall\\n   1006, 0, 9, 46wall\\n   1007, 0, 9, 46wall\\n   1008, 0, 9, 46wall\\n   1009, 0, 5, 56wall\\n   1010, 0, 5, 56wall\\n   1011, 0, 5, 56wall\\n   1012, 0, 5, 56wall\\n   1013, 0, 5, 56wall\\n   1014, 0, 5, 56wall\\n   1015, 0, 5, 56wall\\n   1016, 0, 5, 56wall\\n   1017, 0, 5, 56wall\\n   1018, 0, 5, 56wall\\n   1019, 0, 5, 56wall\\n   1020, 0, 5, 56wall\\n   1021, 0, 5, 56wall\\n   1022, 0, 5, 56wall\\n   1023, 0, 5, 56wall\\n   1024, 0, 5, 56wall\\n   1025, 0, 5, 56wall\\n   1026, 0, 5, 56wall\\n   1027, 0, 5, 56wall\\n   1028, 0, 5, 56wall\\n   1029, 0, 5, 56wall\\n   1030, 0, 5, 56wall\\n   1031, 0, 5, 56wall\\n   1032, 0, 5, 56wall\\n   1033, 0, 5, 56wall\\n   1034, 0, 5, 56wall\\n   1035, 0, 5, 56wall\\n   1036, 0, 5, 56wall\\n   1037, 0, 5, 56wall\\n   1038, 0, 5, 56wall\\n   1039, 0, 5, 56wall\\n   1040, 0, 5, 56wall\\n   1041, 0, 5, 56wall\\n   1042, 0, 5, 56wall\\n   1043, 0, 5, 56wall\\n   1044, 0, 5, 56wall\\n   1045, 0, 5, 56wall\\n   1046, 0, 5, 56wall\\n   1047, 0, 5, 56wall\\n   1048, 0, 5, 56wall\\n   1049, 0, 5, 56wall\\n   1050, 0, 5, 56wall\\n   1051, 0, 5, 56wall\\n   1052, 0, 5, 56wall\\n   1053, 0, 5, 56wall\\n   1054, 0, 5, 56wall\\n   1055, 0, 5, 56wall\\n   1056, 0, 5, 56wall\\n   1057, 0, 5, 56wall\\n   1058, 0, 5, 56wall\\n   1059, 0, 5, 56wall\\n   1060, 0, 5, 56wall\\n   1061, 0, 5, 56wall\\n   1062, 0, 5, 56wall\\n   1063, 0, 5, 56wall\\n   1064, 0, 5, 56wall\\n   1065, 0, 5, 56wall\\n   1066, 0, 5, 56wall\\n   1067, 0, 5, 56wall\\n   1068, 0, 5, 56wall\\n   1069, 0, 5, 56wall\\n   1070, 0, 5, 56wall\\n   1071, 0, 5, 56wall\\n   1072, 0, 5, 56wall\\n   1073, 0, 5, 56wall\\n   1074, 0, 5, 56wall\\n   1075, 0, 5, 56wall\\n   1076, 0, 5, 56wall\\n   1077, 0, 5, 56wall\\n   1078, 0, 5, 56wall\\n   1079, 0, 5, 56wall\\n   1080, 0, 5, 56wall\\n   1081, 0, 5, 56wall\\n   1082, 0, 5, 56wall\\n   1083, 0, 5, 56wall\\n   1084, 0, 5, 56wall\\n   1085, 0, 5, 56wall\\n   1086, 0, 5, 56wall\\n   1087, 0, 5, 56wall\\n   1088, 0, 5, 56wall\\n   1089, 0, 5, 56wall\\n   1090, 0, 5, 56wall\\n   1091, 0, 5, 56wall\\n   1092, 0, 5, 56wall\\n   1093, 0, 5, 56wall\\n   1094, 0, 5, 56wall\\n   1095, 0, 5, 56wall\\n   1096, 0, 5, 56wall\\n   1097, 0, 5, 56wall\\n   1098, 0, 5, 56wall\\n   1099, 0, 5, 56wall\\n   1100, 0, 5, 56wall\\n   1101, 0, 5, 56wall\\n   1102, 0, 5, 56wall\\n   1103, 0, 5, 56wall\\n   1104, 0, 5, 56wall\\n   1105, 0, 5, 56wall\\n   1106, 0, 5, 56wall\\n   1107, 0, 5, 56wall\\n   1108, 0, 5, 56wall\\n   1109, 0, 5, 56wall\\n   1110, 0, 5, 56wall\\n   1111, 0, 5, 56wall\\n   1112, 0, 5, 56wall\\n   1113, 0, 5, 56wall\\n   1114, 0, 5, 56wall\\n   1115, 0, 5, 56wall\\n   1116, 0, 5, 56wall\\n   1117, 0, 5, 56wall\\n   1118, 0, 5, 56wall\\n   1119, 0, 5, 56wall\\n   1120, 0, 5, 56wall\\n   1121, 0, 5, 56wall\\n   1122, 0, 5, 56wall\\n   1123, 0, 5, 56wall\\n   1124, 0, 5, 56wall\\n   1125, 0, 5, 56wall\\n   1126, 0, 5, 56wall\\n   1127, 0, 5, 56wall\\n   1128, 0, 5, 56wall\\n   1129, 0, 5, 56wall\\n   1130, 0, 5, 56wall\\n   1131, 0, 5, 56wall\\n   1132, 0, 5, 56wall\\n   1133, 0, 5, 56wall\\n   1134, 0, 5, 56wall\\n   1135, 0, 5, 56wall\\n   1136, 0, 5, 56wall\\n   1137, 0, 5, 56wall\\n   1138, 0, 5, 56wall\\n   1139, 0, 5, 56wall\\n   1140, 0, 5, 56wall\\n   1141, 0, 5, 56wall\\n   1142, 0, 5, 56wall\\n   1143, 0, 5, 56wall\\n   1144, 0, 5, 56wall\\n   1145, 0, 5, 56wall\\n   1146, 0, 5, 56wall\\n   1147, 0, 5, 56wall\\n   1148, 0, 5, 56wall\\n   1149, 0, 5, 56wall\\n   1150, 0, 5, 56wall\\n   1151, 0, 5, 56wall\\n   1152, 0, 5, 56wall\\n   1153, 0, 5, 56wall\\n   1154, 0, 5, 56wall\\n   1155, 0, 5, 56wall\\n   1156, 0, 5, 56wall\\n   1157, 0, 5, 56wall\\n   1158, 0, 5, 56wall\\n   1159, 0, 5, 56wall\\n   1160, 0, 5, 56wall\\n   1161, 0, 5, 56wall\\n   1162, 0, 5, 56wall\\n   1163, 0, 5, 56wall\\n   1164, 0, 5, 56wall\\n   1165, 0, 5, 56wall\\n   1166, 0, 5, 56wall\\n   1167, 0, 5, 56wall\\n   1168, 0, 5, 56wall\\n   1169, 0, 1, 底板1342\\n   1170, 0, 1, 底板1342\\n   1171, 0, 1, 底板1342\\n   1172, 0, 1, 底板1342\\n   1173, 0, 1, 底板1342\\n   1174, 0, 1, 底板1342\\n   1175, 0, 1, 底板1342\\n   1176, 0, 1, 底板1342\\n   1177, 0, 1, 底板1342\\n   1178, 0, 1, 底板1342\\n   1179, 0, 1, 底板1342\\n   1180, 0, 1, 底板1342\\n   1181, 0, 1, 底板1342\\n   1182, 0, 1, 底板1342\\n   1183, 0, 1, 底板1342\\n   1184, 0, 1, 底板1342\\n   1185, 0, 1, 底板1342\\n   1186, 0, 1, 底板1342\\n   1187, 0, 1, 底板1342\\n   1188, 0, 1, 底板1342\\n   1189, 0, 1, 底板1342\\n   1190, 0, 1, 底板1342\\n   1191, 0, 1, 底板1342\\n   1192, 0, 1, 底板1342\\n   1193, 0, 1, 底板1342\\n   1194, 0, 1, 底板1342\\n   1195, 0, 1, 底板1342\\n   1196, 0, 1, 底板1342\\n   1197, 0, 1, 底板1342\\n   1198, 0, 1, 底板1342\\n   1199, 0, 1, 底板1342\\n   1200, 0, 1, 底板1342\\n   1201, 0, 1, 底板1342\\n   1202, 0, 1, 底板1342\\n   1203, 0, 1, 底板1342\\n   1204, 0, 1, 底板1342\\n   1205, 0, 1, 底板1342\\n   1206, 0, 1, 底板1342\\n   1207, 0, 1, 底板1342\\n   1208, 0, 1, 底板1342\\n   1209, 0, 1, 底板1342\\n   1210, 0, 1, 底板1342\\n   1211, 0, 1, 底板1342\\n   1212, 0, 1, 底板1342\\n   1213, 0, 1, 底板1342\\n   1214, 0, 1, 底板1342\\n   1215, 0, 1, 底板1342\\n   1216, 0, 1, 底板1342\\n   1217, 0, 1, 底板1342\\n   1218, 0, 1, 底板1342\\n   1219, 0, 1, 底板1342\\n   1220, 0, 1, 底板1342\\n   1221, 0, 1, 底板1342\\n   1222, 0, 1, 底板1342\\n   1223, 0, 1, 底板1342\\n   1224, 0, 1, 底板1342\\n   1225, 0, 1, 底板1342\\n   1226, 0, 1, 底板1342\\n   1227, 0, 1, 底板1342\\n   1228, 0, 1, 底板1342\\n   1229, 0, 1, 底板1342\\n   1230, 0, 1, 底板1342\\n   1231, 0, 1, 底板1342\\n   1232, 0, 1, 底板1342\\n   1233, 0, 1, 底板1342\\n   1234, 0, 1, 底板1342\\n   1235, 0, 1, 底板1342\\n   1236, 0, 1, 底板1342\\n   1237, 0, 1, 底板1342\\n   1238, 0, 1, 底板1342\\n   1239, 0, 1, 底板1342\\n   1240, 0, 1, 底板1342\\n   1241, 0, 1, 底板1342\\n   1242, 0, 1, 底板1342\\n   1243, 0, 1, 底板1342\\n   1244, 0, 1, 底板1342\\n   1245, 0, 1, 底板1342\\n   1246, 0, 1, 底板1342\\n   1247, 0, 1, 底板1342\\n   1249, 0, 2, 底板3456\\n   1250, 0, 2, 底板3456\\n   1251, 0, 2, 底板3456\\n   1252, 0, 2, 底板3456\\n   1253, 0, 2, 底板3456\\n   1254, 0, 2, 底板3456\\n   1255, 0, 2, 底板3456\\n   1256, 0, 2, 底板3456\\n   1257, 0, 2, 底板3456\\n   1258, 0, 2, 底板3456\\n   1259, 0, 2, 底板3456\\n   1260, 0, 2, 底板3456\\n   1261, 0, 2, 底板3456\\n   1262, 0, 2, 底板3456\\n   1263, 0, 2, 底板3456\\n   1264, 0, 2, 底板3456\\n   1265, 0, 2, 底板3456\\n   1266, 0, 2, 底板3456\\n   1267, 0, 2, 底板3456\\n   1268, 0, 2, 底板3456\\n   1269, 0, 2, 底板3456\\n   1270, 0, 2, 底板3456\\n   1271, 0, 2, 底板3456\\n   1272, 0, 2, 底板3456\\n   1273, 0, 2, 底板3456\\n   1274, 0, 2, 底板3456\\n   1275, 0, 2, 底板3456\\n   1276, 0, 2, 底板3456\\n   1277, 0, 2, 底板3456\\n   1278, 0, 2, 底板3456\\n   1279, 0, 2, 底板3456\\n   1280, 0, 2, 底板3456\\n   1281, 0, 2, 底板3456\\n   1282, 0, 2, 底板3456\\n   1283, 0, 2, 底板3456\\n   1284, 0, 2, 底板3456\\n   1285, 0, 2, 底板3456\\n   1286, 0, 2, 底板3456\\n   1287, 0, 2, 底板3456\\n   1288, 0, 2, 底板3456\\n   1289, 0, 2, 底板3456\\n   1290, 0, 2, 底板3456\\n   1291, 0, 2, 底板3456\\n   1292, 0, 2, 底板3456\\n   1293, 0, 2, 底板3456\\n   1294, 0, 2, 底板3456\\n   1295, 0, 2, 底板3456\\n   1296, 0, 2, 底板3456\\n   1297, 0, 2, 底板3456\\n   1298, 0, 2, 底板3456\\n   1299, 0, 2, 底板3456\\n   1300, 0, 2, 底板3456\\n   1301, 0, 2, 底板3456\\n   1302, 0, 2, 底板3456\\n   1303, 0, 2, 底板3456\\n   1304, 0, 2, 底板3456\\n   1305, 0, 2, 底板3456\\n   1306, 0, 2, 底板3456\\n   1307, 0, 2, 底板3456\\n   1308, 0, 2, 底板3456\\n   1309, 0, 2, 底板3456\\n   1310, 0, 2, 底板3456\\n   1311, 0, 2, 底板3456\\n   1312, 0, 2, 底板3456\\n\\n']"
      ]
     },
     "execution_count": 10,
     "metadata": {},
     "output_type": "execute_result"
    }
   ],
   "source": [
    "domain"
   ]
  },
  {
   "cell_type": "code",
   "execution_count": 11,
   "metadata": {
    "collapsed": true
   },
   "outputs": [],
   "source": [
    "with open(r'domain.csv','w') as f:\n",
    "    f.write(domain[0])"
   ]
  },
  {
   "cell_type": "code",
   "execution_count": 12,
   "metadata": {
    "collapsed": true
   },
   "outputs": [],
   "source": [
    "df=pd.read_csv(r'domain.csv',engine='python',names=['ikey','itype','idomain','madoname'])"
   ]
  },
  {
   "cell_type": "code",
   "execution_count": 13,
   "metadata": {
    "collapsed": false
   },
   "outputs": [
    {
     "data": {
      "text/plain": [
       "0          1\n",
       "1          2\n",
       "2          3\n",
       "3          4\n",
       "4          5\n",
       "5          6\n",
       "6          7\n",
       "7          8\n",
       "8          9\n",
       "9         10\n",
       "10        11\n",
       "11        12\n",
       "12        13\n",
       "13        14\n",
       "14        15\n",
       "15        16\n",
       "16        17\n",
       "17        18\n",
       "18        19\n",
       "19        20\n",
       "20        21\n",
       "21        22\n",
       "22        23\n",
       "23        24\n",
       "24        25\n",
       "25        26\n",
       "26        27\n",
       "27        28\n",
       "28        29\n",
       "29        30\n",
       "        ... \n",
       "1281    1283\n",
       "1282    1284\n",
       "1283    1285\n",
       "1284    1286\n",
       "1285    1287\n",
       "1286    1288\n",
       "1287    1289\n",
       "1288    1290\n",
       "1289    1291\n",
       "1290    1292\n",
       "1291    1293\n",
       "1292    1294\n",
       "1293    1295\n",
       "1294    1296\n",
       "1295    1297\n",
       "1296    1298\n",
       "1297    1299\n",
       "1298    1300\n",
       "1299    1301\n",
       "1300    1302\n",
       "1301    1303\n",
       "1302    1304\n",
       "1303    1305\n",
       "1304    1306\n",
       "1305    1307\n",
       "1306    1308\n",
       "1307    1309\n",
       "1308    1310\n",
       "1309    1311\n",
       "1310    1312\n",
       "Name: ikey, dtype: int64"
      ]
     },
     "execution_count": 13,
     "metadata": {},
     "output_type": "execute_result"
    }
   ],
   "source": [
    "df.__getattr__('ikey')"
   ]
  },
  {
   "cell_type": "code",
   "execution_count": 14,
   "metadata": {
    "collapsed": false,
    "scrolled": true
   },
   "outputs": [
    {
     "data": {
      "text/html": [
       "<div>\n",
       "<table border=\"1\" class=\"dataframe\">\n",
       "  <thead>\n",
       "    <tr style=\"text-align: right;\">\n",
       "      <th></th>\n",
       "      <th>ikey</th>\n",
       "      <th>itype</th>\n",
       "      <th>idomain</th>\n",
       "      <th>madoname</th>\n",
       "    </tr>\n",
       "  </thead>\n",
       "  <tbody>\n",
       "    <tr>\n",
       "      <th>0</th>\n",
       "      <td>1</td>\n",
       "      <td>0</td>\n",
       "      <td>4</td>\n",
       "      <td>12wall</td>\n",
       "    </tr>\n",
       "    <tr>\n",
       "      <th>1</th>\n",
       "      <td>2</td>\n",
       "      <td>0</td>\n",
       "      <td>4</td>\n",
       "      <td>12wall</td>\n",
       "    </tr>\n",
       "    <tr>\n",
       "      <th>2</th>\n",
       "      <td>3</td>\n",
       "      <td>0</td>\n",
       "      <td>4</td>\n",
       "      <td>12wall</td>\n",
       "    </tr>\n",
       "    <tr>\n",
       "      <th>3</th>\n",
       "      <td>4</td>\n",
       "      <td>0</td>\n",
       "      <td>4</td>\n",
       "      <td>12wall</td>\n",
       "    </tr>\n",
       "    <tr>\n",
       "      <th>4</th>\n",
       "      <td>5</td>\n",
       "      <td>0</td>\n",
       "      <td>4</td>\n",
       "      <td>12wall</td>\n",
       "    </tr>\n",
       "  </tbody>\n",
       "</table>\n",
       "</div>"
      ],
      "text/plain": [
       "   ikey  itype  idomain madoname\n",
       "0     1      0        4   12wall\n",
       "1     2      0        4   12wall\n",
       "2     3      0        4   12wall\n",
       "3     4      0        4   12wall\n",
       "4     5      0        4   12wall"
      ]
     },
     "execution_count": 14,
     "metadata": {},
     "output_type": "execute_result"
    }
   ],
   "source": [
    "df.head()"
   ]
  },
  {
   "cell_type": "code",
   "execution_count": 15,
   "metadata": {
    "collapsed": false
   },
   "outputs": [],
   "source": [
    "aset=df['madoname'].drop_duplicates()"
   ]
  },
  {
   "cell_type": "code",
   "execution_count": 16,
   "metadata": {
    "collapsed": false,
    "scrolled": true
   },
   "outputs": [
    {
     "data": {
      "text/plain": [
       "0        12wall\n",
       "160      13wall\n",
       "360      24wall\n",
       "560      34wall\n",
       "688      35wall\n",
       "848      46wall\n",
       "1008     56wall\n",
       "1168     底板1342\n",
       "1247     底板3456\n",
       "Name: madoname, dtype: object"
      ]
     },
     "execution_count": 16,
     "metadata": {},
     "output_type": "execute_result"
    }
   ],
   "source": [
    "aset"
   ]
  },
  {
   "cell_type": "code",
   "execution_count": 17,
   "metadata": {
    "collapsed": false
   },
   "outputs": [
    {
     "data": {
      "text/plain": [
       "array([' 12wall', ' 13wall', ' 24wall', ' 34wall', ' 35wall', ' 46wall',\n",
       "       ' 56wall', ' 底板1342', ' 底板3456'], dtype=object)"
      ]
     },
     "execution_count": 17,
     "metadata": {},
     "output_type": "execute_result"
    }
   ],
   "source": [
    "aset.values"
   ]
  },
  {
   "cell_type": "code",
   "execution_count": 18,
   "metadata": {
    "collapsed": false
   },
   "outputs": [],
   "source": [
    "p=df.loc[df['madoname']==aset.values[1]].index"
   ]
  },
  {
   "cell_type": "code",
   "execution_count": 19,
   "metadata": {
    "collapsed": false,
    "scrolled": true
   },
   "outputs": [
    {
     "data": {
      "text/plain": [
       "Int64Index([160, 161, 162, 163, 164, 165, 166, 167, 168, 169,\n",
       "            ...\n",
       "            350, 351, 352, 353, 354, 355, 356, 357, 358, 359],\n",
       "           dtype='int64', length=200)"
      ]
     },
     "execution_count": 19,
     "metadata": {},
     "output_type": "execute_result"
    }
   ],
   "source": [
    "p"
   ]
  },
  {
   "cell_type": "code",
   "execution_count": 20,
   "metadata": {
    "collapsed": false
   },
   "outputs": [
    {
     "data": {
      "text/plain": [
       "{'all': Int64Index([689, 690, 691, 692, 693, 694, 695, 696, 697, 698,\n",
       "             ...\n",
       "             839, 840, 841, 842, 843, 844, 845, 846, 847, 848],\n",
       "            dtype='int64', name='ikey', length=160),\n",
       " 'midspan': Int64Index([756, 757, 763, 764, 765, 766, 772, 773], dtype='int64', name='element number'),\n",
       " 'support_y_large': Int64Index([704, 712, 720, 728, 736, 744, 752, 760, 768, 776, 784, 792, 800,\n",
       "             808, 816, 696, 824, 832, 840, 848],\n",
       "            dtype='int64', name='element number'),\n",
       " 'support_y_small': Int64Index([689, 697, 705, 713, 721, 729, 737, 745, 753, 761, 769, 777, 785,\n",
       "             793, 801, 809, 817, 825, 833, 841],\n",
       "            dtype='int64', name='element number'),\n",
       " 'support_z_large': Int64Index([841, 842, 843, 844, 845, 846, 847, 848], dtype='int64', name='element number'),\n",
       " 'support_z_small': Int64Index([696, 689, 690, 691, 692, 693, 694, 695], dtype='int64', name='element number')}"
      ]
     },
     "execution_count": 20,
     "metadata": {},
     "output_type": "execute_result"
    }
   ],
   "source": [
    "model.domainSet[' 35wall']"
   ]
  },
  {
   "cell_type": "code",
   "execution_count": 21,
   "metadata": {
    "collapsed": false
   },
   "outputs": [],
   "source": [
    "p=model.domainSet[' 12wall']['all']"
   ]
  },
  {
   "cell_type": "code",
   "execution_count": 22,
   "metadata": {
    "collapsed": true
   },
   "outputs": [],
   "source": [
    "with open('12wall.txt','w') as f:\n",
    "    for i in p:\n",
    "        f.write(str(i)+',')"
   ]
  },
  {
   "cell_type": "code",
   "execution_count": 23,
   "metadata": {
    "collapsed": false,
    "scrolled": true
   },
   "outputs": [
    {
     "data": {
      "text/plain": [
       "ikey\n",
       "1    0.0000\n",
       "2    0.4375\n",
       "3    0.8750\n",
       "4    1.3125\n",
       "5    1.7500\n",
       "6    2.1875\n",
       "7    2.6250\n",
       "8    3.0625\n",
       "Name: x1, dtype: float64"
      ]
     },
     "execution_count": 23,
     "metadata": {},
     "output_type": "execute_result"
    }
   ],
   "source": [
    "wall12_x=model.fullEle.loc[p]['x1'].drop_duplicates();wall12_x"
   ]
  },
  {
   "cell_type": "code",
   "execution_count": 24,
   "metadata": {
    "collapsed": false
   },
   "outputs": [
    {
     "data": {
      "text/plain": [
       "ikey\n",
       "1    0.4375\n",
       "2    0.8750\n",
       "3    1.3125\n",
       "4    1.7500\n",
       "5    2.1875\n",
       "6    2.6250\n",
       "7    3.0625\n",
       "8    3.5000\n",
       "Name: x3, dtype: float64"
      ]
     },
     "execution_count": 24,
     "metadata": {},
     "output_type": "execute_result"
    }
   ],
   "source": [
    "model.fullEle.loc[p]['x3'].drop_duplicates()"
   ]
  },
  {
   "cell_type": "code",
   "execution_count": 25,
   "metadata": {
    "collapsed": false
   },
   "outputs": [
    {
     "data": {
      "text/plain": [
       "Int64Index([  1,   2,   3,   4,   5,   6,   7,   8,   9,  10,\n",
       "            ...\n",
       "            151, 152, 153, 154, 155, 156, 157, 158, 159, 160],\n",
       "           dtype='int64', name='ikey', length=160)"
      ]
     },
     "execution_count": 25,
     "metadata": {},
     "output_type": "execute_result"
    }
   ],
   "source": [
    "p"
   ]
  },
  {
   "cell_type": "code",
   "execution_count": 26,
   "metadata": {
    "collapsed": false
   },
   "outputs": [
    {
     "data": {
      "text/plain": [
       "array([ 0.    ,  0.4375,  0.875 ,  1.3125,  1.75  ,  2.1875,  2.625 ,\n",
       "        3.0625])"
      ]
     },
     "execution_count": 26,
     "metadata": {},
     "output_type": "execute_result"
    }
   ],
   "source": [
    "model.fullEle.loc[p]['x1'].drop_duplicates().values"
   ]
  },
  {
   "cell_type": "code",
   "execution_count": 27,
   "metadata": {
    "collapsed": false,
    "scrolled": true
   },
   "outputs": [
    {
     "data": {
      "text/plain": [
       "ikey\n",
       "1    8.5\n",
       "Name: y1, dtype: float64"
      ]
     },
     "execution_count": 27,
     "metadata": {},
     "output_type": "execute_result"
    }
   ],
   "source": [
    "wall13_y=model.fullEle.loc[p]['y1'].drop_duplicates();wall13_y"
   ]
  },
  {
   "cell_type": "code",
   "execution_count": 28,
   "metadata": {
    "collapsed": false
   },
   "outputs": [
    {
     "data": {
      "text/plain": [
       "ikey\n",
       "1    8.5\n",
       "Name: y1, dtype: float64"
      ]
     },
     "execution_count": 28,
     "metadata": {},
     "output_type": "execute_result"
    }
   ],
   "source": [
    "model.fullEle.loc[p]['y1'].drop_duplicates().sort_values()"
   ]
  },
  {
   "cell_type": "code",
   "execution_count": 29,
   "metadata": {
    "collapsed": false
   },
   "outputs": [
    {
     "data": {
      "text/plain": [
       "ikey\n",
       "1     -3.75625\n",
       "9     -3.31250\n",
       "17    -2.86875\n",
       "25    -2.42500\n",
       "33    -1.98125\n",
       "41    -1.53750\n",
       "49    -1.09375\n",
       "57    -0.65000\n",
       "65    -0.20625\n",
       "73     0.23750\n",
       "81     0.68125\n",
       "89     1.12500\n",
       "97     1.56875\n",
       "105    2.01250\n",
       "113    2.45625\n",
       "121    2.90000\n",
       "129    3.22500\n",
       "137    3.55000\n",
       "145    3.87500\n",
       "153    4.20000\n",
       "Name: z1, dtype: float64"
      ]
     },
     "execution_count": 29,
     "metadata": {},
     "output_type": "execute_result"
    }
   ],
   "source": [
    "wall13_z=model.fullEle.loc[p]['z1'].drop_duplicates();wall13_z"
   ]
  },
  {
   "cell_type": "code",
   "execution_count": 30,
   "metadata": {
    "collapsed": true
   },
   "outputs": [],
   "source": [
    "def distance(y,z):\n",
    "    return (y-5.75)**2+(z-0.2)**2"
   ]
  },
  {
   "cell_type": "code",
   "execution_count": 31,
   "metadata": {
    "collapsed": false,
    "scrolled": true
   },
   "outputs": [
    {
     "name": "stdout",
     "output_type": "stream",
     "text": [
      "1\n"
     ]
    },
    {
     "data": {
      "text/plain": [
       "Int64Index([235, 244, 245, 246, 253, 254, 255, 256, 257, 263, 264, 265, 266,\n",
       "            267, 274, 275, 276, 285],\n",
       "           dtype='int64', name='element number')"
      ]
     },
     "execution_count": 31,
     "metadata": {},
     "output_type": "execute_result"
    }
   ],
   "source": [
    "model.SelectEle(x=[0],f=distance,args=['y','z'],logic='<',constant=2).index"
   ]
  },
  {
   "cell_type": "code",
   "execution_count": 32,
   "metadata": {
    "collapsed": false
   },
   "outputs": [
    {
     "data": {
      "text/plain": [
       "['x1', 'y1']"
      ]
     },
     "execution_count": 32,
     "metadata": {},
     "output_type": "execute_result"
    }
   ],
   "source": [
    "p=list(map(lambda k:k+'1',['x','y']));p"
   ]
  },
  {
   "cell_type": "code",
   "execution_count": 33,
   "metadata": {
    "collapsed": false
   },
   "outputs": [
    {
     "name": "stdout",
     "output_type": "stream",
     "text": [
      "3\n"
     ]
    },
    {
     "data": {
      "text/plain": [
       "Int64Index([  1,   9,  17,  25,  33,  41,  49,  57,  65,  73,  81,  89,  97,\n",
       "            105, 113, 121, 129, 137, 145, 153],\n",
       "           dtype='int64', name='element number')"
      ]
     },
     "execution_count": 33,
     "metadata": {},
     "output_type": "execute_result"
    }
   ],
   "source": [
    "model.SelectEle(y=[8.5],x=[-0.1,0.5]).index"
   ]
  },
  {
   "cell_type": "code",
   "execution_count": 34,
   "metadata": {
    "collapsed": false
   },
   "outputs": [
    {
     "data": {
      "text/plain": [
       "array([' 12wall', ' 13wall', ' 24wall', ' 34wall', ' 35wall', ' 46wall',\n",
       "       ' 56wall', ' 底板1342', ' 底板3456'], dtype=object)"
      ]
     },
     "execution_count": 34,
     "metadata": {},
     "output_type": "execute_result"
    }
   ],
   "source": [
    "domainKeys=model.domainDf['madoname'].drop_duplicates().values;domainKeys"
   ]
  },
  {
   "cell_type": "code",
   "execution_count": 35,
   "metadata": {
    "collapsed": false,
    "scrolled": false
   },
   "outputs": [
    {
     "data": {
      "text/plain": [
       "{' 12wall': {'all': Int64Index([  1,   2,   3,   4,   5,   6,   7,   8,   9,  10,\n",
       "              ...\n",
       "              151, 152, 153, 154, 155, 156, 157, 158, 159, 160],\n",
       "             dtype='int64', name='ikey', length=160),\n",
       "  'midspan': Int64Index([68, 69, 75, 76, 77, 78, 84, 85], dtype='int64', name='element number'),\n",
       "  'support_x_large': Int64Index([  8,  16,  24,  32,  40,  48,  56,  64,  72,  80,  88,  96, 104,\n",
       "              112, 120, 128, 136, 144, 152, 160],\n",
       "             dtype='int64', name='element number'),\n",
       "  'support_x_small': Int64Index([  1,   9,  17,  25,  33,  41,  49,  57,  65,  73,  81,  89,  97,\n",
       "              105, 113, 121, 129, 137, 145, 153],\n",
       "             dtype='int64', name='element number'),\n",
       "  'support_z_large': Int64Index([153, 154, 155, 156, 157, 158, 159, 160], dtype='int64', name='element number'),\n",
       "  'support_z_small': Int64Index([1, 2, 3, 4, 5, 6, 7, 8], dtype='int64', name='element number')},\n",
       " ' 13wall': {'all': Int64Index([161, 162, 163, 164, 165, 166, 167, 168, 169, 170,\n",
       "              ...\n",
       "              351, 352, 353, 354, 355, 356, 357, 358, 359, 360],\n",
       "             dtype='int64', name='ikey', length=200),\n",
       "  'midspan': Int64Index([245, 246, 255, 256, 265, 266], dtype='int64', name='element number'),\n",
       "  'support_y_large': Int64Index([170, 180, 190, 200, 210, 220, 230, 240, 250, 260, 270, 280, 290,\n",
       "              300, 310, 320, 330, 340, 350, 360],\n",
       "             dtype='int64', name='element number'),\n",
       "  'support_y_small': Int64Index([161, 171, 181, 191, 201, 211, 221, 231, 241, 251, 261, 271, 281,\n",
       "              291, 301, 311, 321, 331, 341, 351],\n",
       "             dtype='int64', name='element number'),\n",
       "  'support_z_large': Int64Index([351, 352, 353, 354, 355, 356, 357, 358, 359, 360], dtype='int64', name='element number'),\n",
       "  'support_z_small': Int64Index([161, 162, 163, 164, 165, 166, 167, 168, 169, 170], dtype='int64', name='element number')},\n",
       " ' 24wall': {'all': Int64Index([361, 362, 363, 364, 365, 366, 367, 368, 369, 370,\n",
       "              ...\n",
       "              551, 552, 553, 554, 555, 556, 557, 558, 559, 560],\n",
       "             dtype='int64', name='ikey', length=200),\n",
       "  'midspan': Int64Index([449, 450, 451, 469, 470, 471], dtype='int64', name='element number'),\n",
       "  'support_y_large': Int64Index([361, 362, 363, 364, 365, 366, 367, 368, 369, 370, 371, 372, 373,\n",
       "              374, 375, 376, 377, 378, 379, 380],\n",
       "             dtype='int64', name='element number'),\n",
       "  'support_y_small': Int64Index([541, 542, 543, 544, 545, 546, 547, 548, 549, 550, 551, 552, 553,\n",
       "              554, 555, 556, 557, 558, 559, 560],\n",
       "             dtype='int64', name='element number'),\n",
       "  'support_z_large': Int64Index([380, 400, 420, 440, 460, 480, 500, 520, 540, 560], dtype='int64', name='element number'),\n",
       "  'support_z_small': Int64Index([361, 381, 401, 421, 441, 461, 481, 501, 521, 541], dtype='int64', name='element number')},\n",
       " ' 34wall': {'all': Int64Index([561, 562, 563, 564, 565, 566, 567, 568, 569, 570,\n",
       "              ...\n",
       "              679, 680, 681, 682, 683, 684, 685, 686, 687, 688],\n",
       "             dtype='int64', name='ikey', length=128),\n",
       "  'midspan': Int64Index([600, 601, 615, 616, 617, 618, 631, 632, 633, 634, 648, 649], dtype='int64', name='element number'),\n",
       "  'support_x_large': Int64Index([561, 562, 563, 564, 565, 566, 567, 568, 569, 570, 571, 572, 573,\n",
       "              574, 575, 576],\n",
       "             dtype='int64', name='element number'),\n",
       "  'support_x_small': Int64Index([674, 675, 676, 677, 678, 679, 680, 681, 682, 683, 684, 685, 686,\n",
       "              687, 688, 673],\n",
       "             dtype='int64', name='element number'),\n",
       "  'support_z_large': Int64Index([688, 576, 592, 608, 624, 640, 656, 672], dtype='int64', name='element number'),\n",
       "  'support_z_small': Int64Index([561, 577, 593, 609, 625, 641, 657, 673], dtype='int64', name='element number')},\n",
       " ' 35wall': {'all': Int64Index([689, 690, 691, 692, 693, 694, 695, 696, 697, 698,\n",
       "              ...\n",
       "              839, 840, 841, 842, 843, 844, 845, 846, 847, 848],\n",
       "             dtype='int64', name='ikey', length=160),\n",
       "  'midspan': Int64Index([756, 757, 763, 764, 765, 766, 772, 773], dtype='int64', name='element number'),\n",
       "  'support_y_large': Int64Index([704, 712, 720, 728, 736, 744, 752, 760, 768, 776, 784, 792, 800,\n",
       "              808, 816, 696, 824, 832, 840, 848],\n",
       "             dtype='int64', name='element number'),\n",
       "  'support_y_small': Int64Index([689, 697, 705, 713, 721, 729, 737, 745, 753, 761, 769, 777, 785,\n",
       "              793, 801, 809, 817, 825, 833, 841],\n",
       "             dtype='int64', name='element number'),\n",
       "  'support_z_large': Int64Index([841, 842, 843, 844, 845, 846, 847, 848], dtype='int64', name='element number'),\n",
       "  'support_z_small': Int64Index([696, 689, 690, 691, 692, 693, 694, 695], dtype='int64', name='element number')},\n",
       " ' 46wall': {'all': Int64Index([ 849,  850,  851,  852,  853,  854,  855,  856,  857,  858,\n",
       "              ...\n",
       "               999, 1000, 1001, 1002, 1003, 1004, 1005, 1006, 1007, 1008],\n",
       "             dtype='int64', name='ikey', length=160),\n",
       "  'midspan': Int64Index([898, 917, 918, 919, 937, 938, 939, 958], dtype='int64', name='element number'),\n",
       "  'support_y_large': Int64Index([849, 850, 851, 852, 853, 854, 855, 856, 857, 858, 859, 860, 861,\n",
       "              862, 863, 864, 865, 866, 867, 868],\n",
       "             dtype='int64', name='element number'),\n",
       "  'support_y_small': Int64Index([ 989,  990,  991,  992,  993,  994,  995,  996,  997,  998,  999,\n",
       "              1000, 1001, 1002, 1003, 1004, 1005, 1006, 1007, 1008],\n",
       "             dtype='int64', name='element number'),\n",
       "  'support_z_large': Int64Index([868, 888, 908, 928, 948, 968, 988, 1008], dtype='int64', name='element number'),\n",
       "  'support_z_small': Int64Index([849, 869, 889, 909, 929, 949, 969, 989], dtype='int64', name='element number')},\n",
       " ' 56wall': {'all': Int64Index([1009, 1010, 1011, 1012, 1013, 1014, 1015, 1016, 1017, 1018,\n",
       "              ...\n",
       "              1159, 1160, 1161, 1162, 1163, 1164, 1165, 1166, 1167, 1168],\n",
       "             dtype='int64', name='ikey', length=160),\n",
       "  'midspan': Int64Index([1058, 1077, 1078, 1079, 1097, 1098, 1099, 1118], dtype='int64', name='element number'),\n",
       "  'support_x_large': Int64Index([1009, 1010, 1011, 1012, 1013, 1014, 1015, 1016, 1017, 1018, 1019,\n",
       "              1020, 1021, 1022, 1023, 1024, 1025, 1026, 1027, 1028],\n",
       "             dtype='int64', name='element number'),\n",
       "  'support_x_small': Int64Index([1149, 1150, 1151, 1152, 1153, 1154, 1155, 1156, 1157, 1158, 1159,\n",
       "              1160, 1161, 1162, 1163, 1164, 1165, 1166, 1167, 1168],\n",
       "             dtype='int64', name='element number'),\n",
       "  'support_z_large': Int64Index([1168, 1028, 1048, 1068, 1088, 1108, 1128, 1148], dtype='int64', name='element number'),\n",
       "  'support_z_small': Int64Index([1149, 1009, 1029, 1049, 1069, 1089, 1109, 1129], dtype='int64', name='element number')},\n",
       " ' 底板1342': {'all': Int64Index([1169, 1170, 1171, 1172, 1173, 1174, 1175, 1176, 1177, 1178, 1179,\n",
       "              1180, 1181, 1182, 1183, 1184, 1185, 1186, 1187, 1188, 1189, 1190,\n",
       "              1191, 1192, 1193, 1194, 1195, 1196, 1197, 1198, 1199, 1200, 1201,\n",
       "              1202, 1203, 1204, 1205, 1206, 1207, 1208, 1209, 1210, 1211, 1212,\n",
       "              1213, 1214, 1215, 1216, 1217, 1218, 1219, 1220, 1221, 1222, 1223,\n",
       "              1224, 1225, 1226, 1227, 1228, 1229, 1230, 1231, 1232, 1233, 1234,\n",
       "              1235, 1236, 1237, 1238, 1239, 1240, 1241, 1242, 1243, 1244, 1245,\n",
       "              1246, 1247],\n",
       "             dtype='int64', name='ikey'),\n",
       "  'midspan': Int64Index([1204, 1205, 1212, 1213], dtype='int64', name='element number'),\n",
       "  'support_x_large': Int64Index([1248, 1176, 1184, 1192, 1200, 1208, 1216, 1224, 1232, 1240], dtype='int64', name='element number'),\n",
       "  'support_x_small': Int64Index([1241, 1233, 1225, 1217, 1209, 1201, 1193, 1185, 1177, 1169], dtype='int64', name='element number'),\n",
       "  'support_y_large': Int64Index([1169, 1170, 1171, 1172, 1173, 1174, 1175, 1176], dtype='int64', name='element number'),\n",
       "  'support_y_small': Int64Index([1241, 1248, 1247, 1246, 1245, 1244, 1243, 1242], dtype='int64', name='element number')},\n",
       " ' 底板3456': {'all': Int64Index([1249, 1250, 1251, 1252, 1253, 1254, 1255, 1256, 1257, 1258, 1259,\n",
       "              1260, 1261, 1262, 1263, 1264, 1265, 1266, 1267, 1268, 1269, 1270,\n",
       "              1271, 1272, 1273, 1274, 1275, 1276, 1277, 1278, 1279, 1280, 1281,\n",
       "              1282, 1283, 1284, 1285, 1286, 1287, 1288, 1289, 1290, 1291, 1292,\n",
       "              1293, 1294, 1295, 1296, 1297, 1298, 1299, 1300, 1301, 1302, 1303,\n",
       "              1304, 1305, 1306, 1307, 1308, 1309, 1310, 1311, 1312],\n",
       "             dtype='int64', name='ikey'),\n",
       "  'midspan': Int64Index([1268, 1269, 1275, 1276, 1277, 1278, 1283, 1284, 1285, 1286, 1292,\n",
       "              1293],\n",
       "             dtype='int64', name='element number'),\n",
       "  'support_x_large': Int64Index([1256, 1312, 1264, 1272, 1280, 1288, 1296, 1304], dtype='int64', name='element number'),\n",
       "  'support_x_small': Int64Index([1249, 1305, 1297, 1289, 1281, 1273, 1265, 1257], dtype='int64', name='element number'),\n",
       "  'support_y_large': Int64Index([1256, 1255, 1254, 1253, 1252, 1251, 1250, 1249], dtype='int64', name='element number'),\n",
       "  'support_y_small': Int64Index([1305, 1312, 1311, 1310, 1309, 1308, 1307, 1306], dtype='int64', name='element number')}}"
      ]
     },
     "execution_count": 35,
     "metadata": {},
     "output_type": "execute_result"
    }
   ],
   "source": [
    "model.domainSet"
   ]
  },
  {
   "cell_type": "code",
   "execution_count": 36,
   "metadata": {
    "collapsed": false
   },
   "outputs": [],
   "source": [
    "with open(r'34wall.txt','w') as f:\n",
    "    for i in model.domainSet[' 34wall']['all']:\n",
    "        f.write(str(i)+',')"
   ]
  },
  {
   "cell_type": "code",
   "execution_count": 37,
   "metadata": {
    "collapsed": false
   },
   "outputs": [],
   "source": [
    "wall12All=model.domainSet[' 12wall']['all']"
   ]
  },
  {
   "cell_type": "code",
   "execution_count": 38,
   "metadata": {
    "collapsed": false
   },
   "outputs": [
    {
     "data": {
      "text/plain": [
       "Int64Index([  1,   2,   3,   4,   5,   6,   7,   8,   9,  10,\n",
       "            ...\n",
       "            151, 152, 153, 154, 155, 156, 157, 158, 159, 160],\n",
       "           dtype='int64', name='ikey', length=160)"
      ]
     },
     "execution_count": 38,
     "metadata": {},
     "output_type": "execute_result"
    }
   ],
   "source": [
    "wall12All"
   ]
  },
  {
   "cell_type": "code",
   "execution_count": 39,
   "metadata": {
    "collapsed": false
   },
   "outputs": [],
   "source": [
    "with open(r'wall12.txt','w') as f:\n",
    "    for i in wall12All:\n",
    "        f.write(str(i)+',')"
   ]
  },
  {
   "cell_type": "code",
   "execution_count": 40,
   "metadata": {
    "collapsed": false
   },
   "outputs": [
    {
     "data": {
      "text/plain": [
       "ikey\n",
       "1    0.0000\n",
       "2    0.4375\n",
       "3    0.8750\n",
       "4    1.3125\n",
       "5    1.7500\n",
       "6    2.1875\n",
       "7    2.6250\n",
       "8    3.0625\n",
       "Name: x1, dtype: float64"
      ]
     },
     "execution_count": 40,
     "metadata": {},
     "output_type": "execute_result"
    }
   ],
   "source": [
    "model.fullEle.loc[wall12All]['x1'].drop_duplicates()"
   ]
  },
  {
   "cell_type": "code",
   "execution_count": 41,
   "metadata": {
    "collapsed": false
   },
   "outputs": [
    {
     "data": {
      "text/plain": [
       "ikey\n",
       "1    0.0000\n",
       "2    0.4375\n",
       "3    0.8750\n",
       "4    1.3125\n",
       "5    1.7500\n",
       "6    2.1875\n",
       "7    2.6250\n",
       "8    3.0625\n",
       "dtype: float64"
      ]
     },
     "execution_count": 41,
     "metadata": {},
     "output_type": "execute_result"
    }
   ],
   "source": [
    "model.fullEle.loc[wall12All]['x1'].append(model.fullEle.loc[wall12All]['x2']).drop_duplicates()"
   ]
  },
  {
   "cell_type": "code",
   "execution_count": 42,
   "metadata": {
    "collapsed": false
   },
   "outputs": [
    {
     "data": {
      "text/plain": [
       "ikey\n",
       "1    0.0000\n",
       "2    0.4375\n",
       "3    0.8750\n",
       "4    1.3125\n",
       "5    1.7500\n",
       "6    2.1875\n",
       "7    2.6250\n",
       "8    3.0625\n",
       "Name: x1, dtype: float64"
      ]
     },
     "execution_count": 42,
     "metadata": {},
     "output_type": "execute_result"
    }
   ],
   "source": [
    "model.fullEle.loc[wall12All]['x1'].drop_duplicates()"
   ]
  },
  {
   "cell_type": "code",
   "execution_count": null,
   "metadata": {
    "collapsed": true
   },
   "outputs": [],
   "source": []
  }
 ],
 "metadata": {
  "kernelspec": {
   "display_name": "Python [conda root]",
   "language": "python",
   "name": "conda-root-py"
  },
  "language_info": {
   "codemirror_mode": {
    "name": "ipython",
    "version": 3
   },
   "file_extension": ".py",
   "mimetype": "text/x-python",
   "name": "python",
   "nbconvert_exporter": "python",
   "pygments_lexer": "ipython3",
   "version": "3.6.9"
  }
 },
 "nbformat": 4,
 "nbformat_minor": 2
}
