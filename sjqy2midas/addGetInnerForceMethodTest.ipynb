{
 "cells": [
  {
   "cell_type": "code",
   "execution_count": 1,
   "metadata": {
    "collapsed": true
   },
   "outputs": [],
   "source": [
    "import sys"
   ]
  },
  {
   "cell_type": "code",
   "execution_count": 2,
   "metadata": {
    "collapsed": true
   },
   "outputs": [],
   "source": [
    "sys.path.append(r'F:\\PycharmProject\\DesignWorkTask\\sjqy2midas')"
   ]
  },
  {
   "cell_type": "code",
   "execution_count": 3,
   "metadata": {
    "collapsed": true
   },
   "outputs": [],
   "source": [
    "from midas import *"
   ]
  },
  {
   "cell_type": "code",
   "execution_count": 4,
   "metadata": {
    "collapsed": true
   },
   "outputs": [],
   "source": [
    "import numpy as np"
   ]
  },
  {
   "cell_type": "code",
   "execution_count": 5,
   "metadata": {
    "collapsed": false
   },
   "outputs": [
    {
     "name": "stdout",
     "output_type": "stream",
     "text": [
      "1\n",
      "3\n",
      "3\n",
      "3\n",
      "3\n",
      "1\n",
      "1\n",
      "1\n",
      "1\n",
      "1\n",
      "1\n",
      "1\n",
      "1\n",
      "1\n",
      "1\n",
      "1\n",
      "3\n",
      "3\n",
      "3\n",
      "3\n",
      "1\n",
      "1\n",
      "1\n",
      "1\n",
      "1\n",
      "1\n",
      "1\n",
      "1\n",
      "1\n",
      "1\n",
      "1\n",
      "3\n",
      "3\n",
      "3\n",
      "3\n",
      "1\n",
      "5\n",
      "5\n",
      "5\n",
      "5\n",
      "1\n",
      "5\n",
      "5\n",
      "5\n",
      "5\n"
     ]
    }
   ],
   "source": [
    "model=Mmodel(r'palu虹吸井.mgt')"
   ]
  },
  {
   "cell_type": "code",
   "execution_count": 6,
   "metadata": {
    "collapsed": true
   },
   "outputs": [],
   "source": [
    "import pandas as pd"
   ]
  },
  {
   "cell_type": "code",
   "execution_count": 7,
   "metadata": {
    "collapsed": true
   },
   "outputs": [],
   "source": [
    "case=pd.read_excel(r'testResult.xlsx',skiprows=[0])"
   ]
  },
  {
   "cell_type": "code",
   "execution_count": 8,
   "metadata": {
    "collapsed": false
   },
   "outputs": [
    {
     "data": {
      "text/html": [
       "<div>\n",
       "<table border=\"1\" class=\"dataframe\">\n",
       "  <thead>\n",
       "    <tr style=\"text-align: right;\">\n",
       "      <th></th>\n",
       "      <th>Unnamed: 0</th>\n",
       "      <th>Elem</th>\n",
       "      <th>Load</th>\n",
       "      <th>Node</th>\n",
       "      <th>Fxx (kN/m)</th>\n",
       "      <th>Fyy (kN/m)</th>\n",
       "      <th>Fxy (kN/m)</th>\n",
       "      <th>Fmax (kN/m)</th>\n",
       "      <th>Fmin (kN/m)</th>\n",
       "      <th>Angle ([deg])</th>\n",
       "      <th>Mxx (kN*m/m)</th>\n",
       "      <th>Myy (kN*m/m)</th>\n",
       "      <th>Mxy (kN*m/m)</th>\n",
       "      <th>Mmax (kN*m/m)</th>\n",
       "      <th>Mmin (kN*m/m)</th>\n",
       "      <th>Angle ([deg]).1</th>\n",
       "      <th>Vxx (kN/m)</th>\n",
       "      <th>Vyy (kN/m)</th>\n",
       "    </tr>\n",
       "  </thead>\n",
       "  <tbody>\n",
       "    <tr>\n",
       "      <th>0</th>\n",
       "      <td>NaN</td>\n",
       "      <td>1</td>\n",
       "      <td>cLCB1</td>\n",
       "      <td>17</td>\n",
       "      <td>64.177</td>\n",
       "      <td>35.737</td>\n",
       "      <td>-3.976</td>\n",
       "      <td>64.723</td>\n",
       "      <td>35.191</td>\n",
       "      <td>-7.811270</td>\n",
       "      <td>7.166</td>\n",
       "      <td>-12.982</td>\n",
       "      <td>-1.441</td>\n",
       "      <td>7.269</td>\n",
       "      <td>-13.085</td>\n",
       "      <td>-4.070332</td>\n",
       "      <td>-29.261</td>\n",
       "      <td>-0.681</td>\n",
       "    </tr>\n",
       "    <tr>\n",
       "      <th>1</th>\n",
       "      <td>NaN</td>\n",
       "      <td>1</td>\n",
       "      <td>cLCB1</td>\n",
       "      <td>1</td>\n",
       "      <td>45.158</td>\n",
       "      <td>-30.739</td>\n",
       "      <td>7.369</td>\n",
       "      <td>45.867</td>\n",
       "      <td>-31.448</td>\n",
       "      <td>5.494966</td>\n",
       "      <td>8.063</td>\n",
       "      <td>-3.793</td>\n",
       "      <td>5.952</td>\n",
       "      <td>10.536</td>\n",
       "      <td>-6.265</td>\n",
       "      <td>22.558070</td>\n",
       "      <td>-49.184</td>\n",
       "      <td>-28.823</td>\n",
       "    </tr>\n",
       "    <tr>\n",
       "      <th>2</th>\n",
       "      <td>NaN</td>\n",
       "      <td>1</td>\n",
       "      <td>cLCB1</td>\n",
       "      <td>66</td>\n",
       "      <td>-60.542</td>\n",
       "      <td>-43.833</td>\n",
       "      <td>3.399</td>\n",
       "      <td>-43.168</td>\n",
       "      <td>-61.207</td>\n",
       "      <td>78.929595</td>\n",
       "      <td>26.829</td>\n",
       "      <td>1.789</td>\n",
       "      <td>16.192</td>\n",
       "      <td>34.777</td>\n",
       "      <td>-6.159</td>\n",
       "      <td>26.144305</td>\n",
       "      <td>22.022</td>\n",
       "      <td>-36.321</td>\n",
       "    </tr>\n",
       "    <tr>\n",
       "      <th>3</th>\n",
       "      <td>NaN</td>\n",
       "      <td>1</td>\n",
       "      <td>cLCB1</td>\n",
       "      <td>67</td>\n",
       "      <td>-81.160</td>\n",
       "      <td>29.553</td>\n",
       "      <td>-35.559</td>\n",
       "      <td>39.990</td>\n",
       "      <td>-91.597</td>\n",
       "      <td>-73.642367</td>\n",
       "      <td>16.063</td>\n",
       "      <td>-0.421</td>\n",
       "      <td>2.911</td>\n",
       "      <td>16.562</td>\n",
       "      <td>-0.920</td>\n",
       "      <td>9.726010</td>\n",
       "      <td>-22.982</td>\n",
       "      <td>-31.449</td>\n",
       "    </tr>\n",
       "    <tr>\n",
       "      <th>4</th>\n",
       "      <td>NaN</td>\n",
       "      <td>2</td>\n",
       "      <td>cLCB1</td>\n",
       "      <td>67</td>\n",
       "      <td>-81.160</td>\n",
       "      <td>29.553</td>\n",
       "      <td>-35.559</td>\n",
       "      <td>39.990</td>\n",
       "      <td>-91.597</td>\n",
       "      <td>-73.642367</td>\n",
       "      <td>16.063</td>\n",
       "      <td>-0.421</td>\n",
       "      <td>2.911</td>\n",
       "      <td>16.562</td>\n",
       "      <td>-0.920</td>\n",
       "      <td>9.726010</td>\n",
       "      <td>-22.982</td>\n",
       "      <td>-31.449</td>\n",
       "    </tr>\n",
       "  </tbody>\n",
       "</table>\n",
       "</div>"
      ],
      "text/plain": [
       "   Unnamed: 0  Elem   Load  Node  Fxx (kN/m)  Fyy (kN/m)  Fxy (kN/m)  \\\n",
       "0         NaN     1  cLCB1    17      64.177      35.737      -3.976   \n",
       "1         NaN     1  cLCB1     1      45.158     -30.739       7.369   \n",
       "2         NaN     1  cLCB1    66     -60.542     -43.833       3.399   \n",
       "3         NaN     1  cLCB1    67     -81.160      29.553     -35.559   \n",
       "4         NaN     2  cLCB1    67     -81.160      29.553     -35.559   \n",
       "\n",
       "   Fmax (kN/m)  Fmin (kN/m)  Angle ([deg])  Mxx (kN*m/m)  Myy (kN*m/m)  \\\n",
       "0       64.723       35.191      -7.811270         7.166       -12.982   \n",
       "1       45.867      -31.448       5.494966         8.063        -3.793   \n",
       "2      -43.168      -61.207      78.929595        26.829         1.789   \n",
       "3       39.990      -91.597     -73.642367        16.063        -0.421   \n",
       "4       39.990      -91.597     -73.642367        16.063        -0.421   \n",
       "\n",
       "   Mxy (kN*m/m)  Mmax (kN*m/m)  Mmin (kN*m/m)  Angle ([deg]).1  Vxx (kN/m)  \\\n",
       "0        -1.441          7.269        -13.085        -4.070332     -29.261   \n",
       "1         5.952         10.536         -6.265        22.558070     -49.184   \n",
       "2        16.192         34.777         -6.159        26.144305      22.022   \n",
       "3         2.911         16.562         -0.920         9.726010     -22.982   \n",
       "4         2.911         16.562         -0.920         9.726010     -22.982   \n",
       "\n",
       "   Vyy (kN/m)  \n",
       "0      -0.681  \n",
       "1     -28.823  \n",
       "2     -36.321  \n",
       "3     -31.449  \n",
       "4     -31.449  "
      ]
     },
     "execution_count": 8,
     "metadata": {},
     "output_type": "execute_result"
    }
   ],
   "source": [
    "case.head()"
   ]
  },
  {
   "cell_type": "code",
   "execution_count": 9,
   "metadata": {
    "collapsed": true
   },
   "outputs": [],
   "source": [
    "def findmax(x):\n",
    "    if abs(max(x))>abs(min(x)):\n",
    "        return max(x)\n",
    "    else:\n",
    "        return min(x)"
   ]
  },
  {
   "cell_type": "code",
   "execution_count": 10,
   "metadata": {
    "collapsed": false
   },
   "outputs": [
    {
     "data": {
      "text/plain": [
       "array([' 12wall', ' 13wall', ' 24wall', ' 34wall', ' 35wall', ' 46wall',\n",
       "       ' 56wall', ' 底板1342', ' 底板3456'], dtype=object)"
      ]
     },
     "execution_count": 10,
     "metadata": {},
     "output_type": "execute_result"
    }
   ],
   "source": [
    "model.domainKeys"
   ]
  },
  {
   "cell_type": "code",
   "execution_count": 11,
   "metadata": {
    "collapsed": true
   },
   "outputs": [],
   "source": [
    "wall13=model.domainSet[' 13wall']['midspan']"
   ]
  },
  {
   "cell_type": "code",
   "execution_count": 12,
   "metadata": {
    "collapsed": false
   },
   "outputs": [
    {
     "data": {
      "text/plain": [
       "Int64Index([245, 246, 255, 256, 265, 266], dtype='int64', name='element number')"
      ]
     },
     "execution_count": 12,
     "metadata": {},
     "output_type": "execute_result"
    }
   ],
   "source": [
    "wall13"
   ]
  },
  {
   "cell_type": "code",
   "execution_count": 13,
   "metadata": {
    "collapsed": false
   },
   "outputs": [
    {
     "data": {
      "text/plain": [
       "Index(['Unnamed: 0', 'Elem', 'Load', 'Node', 'Fxx (kN/m)', 'Fyy (kN/m)',\n",
       "       'Fxy (kN/m)', 'Fmax (kN/m)', 'Fmin (kN/m)', 'Angle ([deg])',\n",
       "       'Mxx (kN*m/m)', 'Myy (kN*m/m)', 'Mxy (kN*m/m)', 'Mmax (kN*m/m)',\n",
       "       'Mmin (kN*m/m)', 'Angle ([deg]).1', 'Vxx (kN/m)', 'Vyy (kN/m)'],\n",
       "      dtype='object')"
      ]
     },
     "execution_count": 13,
     "metadata": {},
     "output_type": "execute_result"
    }
   ],
   "source": [
    "case.columns"
   ]
  },
  {
   "cell_type": "code",
   "execution_count": 14,
   "metadata": {
    "collapsed": false
   },
   "outputs": [],
   "source": [
    "fxxMax=case.groupby(['Load','Elem'])['Fxx (kN/m)'].apply(findmax)"
   ]
  },
  {
   "cell_type": "code",
   "execution_count": 15,
   "metadata": {
    "collapsed": false
   },
   "outputs": [],
   "source": [
    "MxxMyy=case.groupby(['Load','Elem'])['Mxx (kN*m/m)'].apply(findmax)"
   ]
  },
  {
   "cell_type": "code",
   "execution_count": 16,
   "metadata": {
    "collapsed": false
   },
   "outputs": [
    {
     "data": {
      "text/plain": [
       "Load   Elem\n",
       "cLCB1  1       -81.160\n",
       "       2      -164.691\n",
       "       3      -208.970\n",
       "       4      -222.920\n",
       "       5      -222.920\n",
       "Name: Fxx (kN/m), dtype: float64"
      ]
     },
     "execution_count": 16,
     "metadata": {},
     "output_type": "execute_result"
    }
   ],
   "source": [
    "fxxMax.head()"
   ]
  },
  {
   "cell_type": "code",
   "execution_count": 17,
   "metadata": {
    "collapsed": false
   },
   "outputs": [
    {
     "data": {
      "text/plain": [
       "pandas.core.series.Series"
      ]
     },
     "execution_count": 17,
     "metadata": {},
     "output_type": "execute_result"
    }
   ],
   "source": [
    "type(fxxMax)"
   ]
  },
  {
   "cell_type": "code",
   "execution_count": 18,
   "metadata": {
    "collapsed": false
   },
   "outputs": [
    {
     "data": {
      "text/html": [
       "<div>\n",
       "<table border=\"1\" class=\"dataframe\">\n",
       "  <thead>\n",
       "    <tr style=\"text-align: right;\">\n",
       "      <th>Load</th>\n",
       "      <th>cLCB1</th>\n",
       "      <th>cLCB2</th>\n",
       "      <th>cLCB24</th>\n",
       "      <th>cLCB25</th>\n",
       "      <th>cLCB26</th>\n",
       "      <th>cLCB27</th>\n",
       "      <th>cLCB28</th>\n",
       "      <th>cLCB29</th>\n",
       "      <th>cLCB30</th>\n",
       "      <th>cLCB31</th>\n",
       "      <th>...</th>\n",
       "      <th>clcB23</th>\n",
       "      <th>clcB3</th>\n",
       "      <th>clcB38</th>\n",
       "      <th>clcB39</th>\n",
       "      <th>clcB4</th>\n",
       "      <th>clcB40</th>\n",
       "      <th>clcB6</th>\n",
       "      <th>clcB7</th>\n",
       "      <th>clcB8</th>\n",
       "      <th>clcB9</th>\n",
       "    </tr>\n",
       "    <tr>\n",
       "      <th>element number</th>\n",
       "      <th></th>\n",
       "      <th></th>\n",
       "      <th></th>\n",
       "      <th></th>\n",
       "      <th></th>\n",
       "      <th></th>\n",
       "      <th></th>\n",
       "      <th></th>\n",
       "      <th></th>\n",
       "      <th></th>\n",
       "      <th></th>\n",
       "      <th></th>\n",
       "      <th></th>\n",
       "      <th></th>\n",
       "      <th></th>\n",
       "      <th></th>\n",
       "      <th></th>\n",
       "      <th></th>\n",
       "      <th></th>\n",
       "      <th></th>\n",
       "      <th></th>\n",
       "    </tr>\n",
       "  </thead>\n",
       "  <tbody>\n",
       "    <tr>\n",
       "      <th>245</th>\n",
       "      <td>-115.735</td>\n",
       "      <td>-116.776</td>\n",
       "      <td>-63.591</td>\n",
       "      <td>-69.606</td>\n",
       "      <td>-66.377</td>\n",
       "      <td>-63.814</td>\n",
       "      <td>-69.488</td>\n",
       "      <td>-66.260</td>\n",
       "      <td>-63.696</td>\n",
       "      <td>-38.154</td>\n",
       "      <td>...</td>\n",
       "      <td>-26.568</td>\n",
       "      <td>-75.442</td>\n",
       "      <td>-69.606</td>\n",
       "      <td>-18.559</td>\n",
       "      <td>-130.900</td>\n",
       "      <td>-73.942</td>\n",
       "      <td>-96.234</td>\n",
       "      <td>-91.985</td>\n",
       "      <td>-101.585</td>\n",
       "      <td>-30.947</td>\n",
       "    </tr>\n",
       "    <tr>\n",
       "      <th>246</th>\n",
       "      <td>-113.454</td>\n",
       "      <td>-115.023</td>\n",
       "      <td>-62.337</td>\n",
       "      <td>-66.907</td>\n",
       "      <td>-64.651</td>\n",
       "      <td>-63.050</td>\n",
       "      <td>-66.729</td>\n",
       "      <td>-64.474</td>\n",
       "      <td>-62.873</td>\n",
       "      <td>-37.402</td>\n",
       "      <td>...</td>\n",
       "      <td>-14.843</td>\n",
       "      <td>-74.504</td>\n",
       "      <td>-66.907</td>\n",
       "      <td>-9.956</td>\n",
       "      <td>-124.089</td>\n",
       "      <td>-71.785</td>\n",
       "      <td>-94.163</td>\n",
       "      <td>-91.510</td>\n",
       "      <td>-97.902</td>\n",
       "      <td>-20.501</td>\n",
       "    </tr>\n",
       "    <tr>\n",
       "      <th>255</th>\n",
       "      <td>-103.220</td>\n",
       "      <td>-104.794</td>\n",
       "      <td>-56.714</td>\n",
       "      <td>-62.837</td>\n",
       "      <td>-59.490</td>\n",
       "      <td>-57.257</td>\n",
       "      <td>-62.659</td>\n",
       "      <td>-59.312</td>\n",
       "      <td>-57.079</td>\n",
       "      <td>-34.029</td>\n",
       "      <td>...</td>\n",
       "      <td>-26.858</td>\n",
       "      <td>-67.930</td>\n",
       "      <td>-62.837</td>\n",
       "      <td>-19.075</td>\n",
       "      <td>-118.465</td>\n",
       "      <td>-67.032</td>\n",
       "      <td>-86.579</td>\n",
       "      <td>-82.877</td>\n",
       "      <td>-92.127</td>\n",
       "      <td>-30.947</td>\n",
       "    </tr>\n",
       "    <tr>\n",
       "      <th>256</th>\n",
       "      <td>-100.707</td>\n",
       "      <td>-102.978</td>\n",
       "      <td>-55.333</td>\n",
       "      <td>-59.895</td>\n",
       "      <td>-57.750</td>\n",
       "      <td>-56.206</td>\n",
       "      <td>-59.638</td>\n",
       "      <td>-57.493</td>\n",
       "      <td>-55.949</td>\n",
       "      <td>-33.200</td>\n",
       "      <td>...</td>\n",
       "      <td>-16.988</td>\n",
       "      <td>-67.011</td>\n",
       "      <td>-59.895</td>\n",
       "      <td>-11.739</td>\n",
       "      <td>-110.862</td>\n",
       "      <td>-64.261</td>\n",
       "      <td>-84.150</td>\n",
       "      <td>-81.589</td>\n",
       "      <td>-87.704</td>\n",
       "      <td>-22.154</td>\n",
       "    </tr>\n",
       "    <tr>\n",
       "      <th>265</th>\n",
       "      <td>-91.346</td>\n",
       "      <td>-93.318</td>\n",
       "      <td>-50.190</td>\n",
       "      <td>-56.071</td>\n",
       "      <td>-53.019</td>\n",
       "      <td>-50.740</td>\n",
       "      <td>-55.848</td>\n",
       "      <td>-52.796</td>\n",
       "      <td>-50.517</td>\n",
       "      <td>-30.114</td>\n",
       "      <td>...</td>\n",
       "      <td>-26.861</td>\n",
       "      <td>-60.694</td>\n",
       "      <td>-56.071</td>\n",
       "      <td>-19.338</td>\n",
       "      <td>-105.910</td>\n",
       "      <td>-62.282</td>\n",
       "      <td>-80.671</td>\n",
       "      <td>-76.895</td>\n",
       "      <td>-85.731</td>\n",
       "      <td>-30.686</td>\n",
       "    </tr>\n",
       "    <tr>\n",
       "      <th>266</th>\n",
       "      <td>-88.929</td>\n",
       "      <td>-91.633</td>\n",
       "      <td>-48.862</td>\n",
       "      <td>-53.150</td>\n",
       "      <td>-51.381</td>\n",
       "      <td>-49.615</td>\n",
       "      <td>-52.844</td>\n",
       "      <td>-51.075</td>\n",
       "      <td>-49.309</td>\n",
       "      <td>-29.317</td>\n",
       "      <td>...</td>\n",
       "      <td>-17.568</td>\n",
       "      <td>-59.873</td>\n",
       "      <td>-53.150</td>\n",
       "      <td>-12.390</td>\n",
       "      <td>-98.197</td>\n",
       "      <td>-59.856</td>\n",
       "      <td>-78.678</td>\n",
       "      <td>-75.752</td>\n",
       "      <td>-81.610</td>\n",
       "      <td>-22.406</td>\n",
       "    </tr>\n",
       "  </tbody>\n",
       "</table>\n",
       "<p>6 rows × 40 columns</p>\n",
       "</div>"
      ],
      "text/plain": [
       "Load              cLCB1    cLCB2  cLCB24  cLCB25  cLCB26  cLCB27  cLCB28  \\\n",
       "element number                                                             \n",
       "245            -115.735 -116.776 -63.591 -69.606 -66.377 -63.814 -69.488   \n",
       "246            -113.454 -115.023 -62.337 -66.907 -64.651 -63.050 -66.729   \n",
       "255            -103.220 -104.794 -56.714 -62.837 -59.490 -57.257 -62.659   \n",
       "256            -100.707 -102.978 -55.333 -59.895 -57.750 -56.206 -59.638   \n",
       "265             -91.346  -93.318 -50.190 -56.071 -53.019 -50.740 -55.848   \n",
       "266             -88.929  -91.633 -48.862 -53.150 -51.381 -49.615 -52.844   \n",
       "\n",
       "Load            cLCB29  cLCB30  cLCB31   ...    clcB23   clcB3  clcB38  \\\n",
       "element number                           ...                             \n",
       "245            -66.260 -63.696 -38.154   ...   -26.568 -75.442 -69.606   \n",
       "246            -64.474 -62.873 -37.402   ...   -14.843 -74.504 -66.907   \n",
       "255            -59.312 -57.079 -34.029   ...   -26.858 -67.930 -62.837   \n",
       "256            -57.493 -55.949 -33.200   ...   -16.988 -67.011 -59.895   \n",
       "265            -52.796 -50.517 -30.114   ...   -26.861 -60.694 -56.071   \n",
       "266            -51.075 -49.309 -29.317   ...   -17.568 -59.873 -53.150   \n",
       "\n",
       "Load            clcB39    clcB4  clcB40   clcB6   clcB7    clcB8   clcB9  \n",
       "element number                                                            \n",
       "245            -18.559 -130.900 -73.942 -96.234 -91.985 -101.585 -30.947  \n",
       "246             -9.956 -124.089 -71.785 -94.163 -91.510  -97.902 -20.501  \n",
       "255            -19.075 -118.465 -67.032 -86.579 -82.877  -92.127 -30.947  \n",
       "256            -11.739 -110.862 -64.261 -84.150 -81.589  -87.704 -22.154  \n",
       "265            -19.338 -105.910 -62.282 -80.671 -76.895  -85.731 -30.686  \n",
       "266            -12.390  -98.197 -59.856 -78.678 -75.752  -81.610 -22.406  \n",
       "\n",
       "[6 rows x 40 columns]"
      ]
     },
     "execution_count": 18,
     "metadata": {},
     "output_type": "execute_result"
    }
   ],
   "source": [
    "aa=fxxMax.unstack(0).loc[wall13];aa"
   ]
  },
  {
   "cell_type": "code",
   "execution_count": 19,
   "metadata": {
    "collapsed": false
   },
   "outputs": [
    {
     "data": {
      "text/plain": [
       "-115.735"
      ]
     },
     "execution_count": 19,
     "metadata": {},
     "output_type": "execute_result"
    }
   ],
   "source": [
    "aa.loc[245,'cLCB1']"
   ]
  },
  {
   "cell_type": "code",
   "execution_count": 20,
   "metadata": {
    "collapsed": false,
    "scrolled": true
   },
   "outputs": [
    {
     "data": {
      "text/plain": [
       "Load\n",
       "cLCB1    -88.929\n",
       "cLCB2    -91.633\n",
       "cLCB24   -48.862\n",
       "cLCB25   -53.150\n",
       "cLCB26   -51.381\n",
       "cLCB27   -49.615\n",
       "cLCB28   -52.844\n",
       "cLCB29   -51.075\n",
       "cLCB30   -49.309\n",
       "cLCB31   -29.317\n",
       "dtype: float64"
      ]
     },
     "execution_count": 20,
     "metadata": {},
     "output_type": "execute_result"
    }
   ],
   "source": [
    "a=aa.max();a.head(10)"
   ]
  },
  {
   "cell_type": "code",
   "execution_count": 21,
   "metadata": {
    "collapsed": false
   },
   "outputs": [
    {
     "data": {
      "text/plain": [
       "16.916"
      ]
     },
     "execution_count": 21,
     "metadata": {},
     "output_type": "execute_result"
    }
   ],
   "source": [
    "a['clcB16']"
   ]
  },
  {
   "cell_type": "code",
   "execution_count": 22,
   "metadata": {
    "collapsed": true
   },
   "outputs": [],
   "source": [
    "inde=np.argmax(a.values,0)"
   ]
  },
  {
   "cell_type": "code",
   "execution_count": 23,
   "metadata": {
    "collapsed": false
   },
   "outputs": [
    {
     "data": {
      "text/plain": [
       "23"
      ]
     },
     "execution_count": 23,
     "metadata": {},
     "output_type": "execute_result"
    }
   ],
   "source": [
    "inde"
   ]
  },
  {
   "cell_type": "code",
   "execution_count": 24,
   "metadata": {
    "collapsed": false
   },
   "outputs": [
    {
     "data": {
      "text/plain": [
       "'clcB16'"
      ]
     },
     "execution_count": 24,
     "metadata": {},
     "output_type": "execute_result"
    }
   ],
   "source": [
    "aa.columns[23]"
   ]
  },
  {
   "cell_type": "code",
   "execution_count": 25,
   "metadata": {
    "collapsed": false
   },
   "outputs": [
    {
     "data": {
      "text/plain": [
       "element number\n",
       "245    13.544\n",
       "246    16.916\n",
       "255     8.221\n",
       "256    12.007\n",
       "265    -5.177\n",
       "266     7.494\n",
       "Name: clcB16, dtype: float64"
      ]
     },
     "execution_count": 25,
     "metadata": {},
     "output_type": "execute_result"
    }
   ],
   "source": [
    "aa['clcB16']"
   ]
  },
  {
   "cell_type": "code",
   "execution_count": 26,
   "metadata": {
    "collapsed": true
   },
   "outputs": [],
   "source": [
    "b=aa['clcB16'];indeE=np.argmax(b.values,0)"
   ]
  },
  {
   "cell_type": "code",
   "execution_count": 27,
   "metadata": {
    "collapsed": false
   },
   "outputs": [
    {
     "data": {
      "text/plain": [
       "1"
      ]
     },
     "execution_count": 27,
     "metadata": {},
     "output_type": "execute_result"
    }
   ],
   "source": [
    "indeE"
   ]
  },
  {
   "cell_type": "code",
   "execution_count": 28,
   "metadata": {
    "collapsed": false
   },
   "outputs": [
    {
     "data": {
      "text/plain": [
       "246"
      ]
     },
     "execution_count": 28,
     "metadata": {},
     "output_type": "execute_result"
    }
   ],
   "source": [
    "aa.index[indeE]"
   ]
  },
  {
   "cell_type": "code",
   "execution_count": 29,
   "metadata": {
    "collapsed": false
   },
   "outputs": [
    {
     "data": {
      "text/plain": [
       "16.916"
      ]
     },
     "execution_count": 29,
     "metadata": {},
     "output_type": "execute_result"
    }
   ],
   "source": [
    "b.max()"
   ]
  },
  {
   "cell_type": "code",
   "execution_count": 30,
   "metadata": {
    "collapsed": false
   },
   "outputs": [],
   "source": [
    "wall13_midspan_df=pd.DataFrame([[12,12,12]],columns=['MxxMax','ElemNum','CaseNum'])"
   ]
  },
  {
   "cell_type": "code",
   "execution_count": 31,
   "metadata": {
    "collapsed": false
   },
   "outputs": [
    {
     "data": {
      "text/html": [
       "<div>\n",
       "<table border=\"1\" class=\"dataframe\">\n",
       "  <thead>\n",
       "    <tr style=\"text-align: right;\">\n",
       "      <th></th>\n",
       "      <th>MxxMax</th>\n",
       "      <th>ElemNum</th>\n",
       "      <th>CaseNum</th>\n",
       "    </tr>\n",
       "  </thead>\n",
       "  <tbody>\n",
       "    <tr>\n",
       "      <th>0</th>\n",
       "      <td>12</td>\n",
       "      <td>12</td>\n",
       "      <td>12</td>\n",
       "    </tr>\n",
       "  </tbody>\n",
       "</table>\n",
       "</div>"
      ],
      "text/plain": [
       "   MxxMax  ElemNum  CaseNum\n",
       "0      12       12       12"
      ]
     },
     "execution_count": 31,
     "metadata": {},
     "output_type": "execute_result"
    }
   ],
   "source": [
    "wall13_midspan_df"
   ]
  },
  {
   "cell_type": "code",
   "execution_count": 32,
   "metadata": {
    "collapsed": true
   },
   "outputs": [],
   "source": [
    "componentSets=model.domainKeys"
   ]
  },
  {
   "cell_type": "code",
   "execution_count": 33,
   "metadata": {
    "collapsed": false
   },
   "outputs": [
    {
     "data": {
      "text/plain": [
       "array([' 12wall', ' 13wall', ' 24wall', ' 34wall', ' 35wall', ' 46wall',\n",
       "       ' 56wall', ' 底板1342', ' 底板3456'], dtype=object)"
      ]
     },
     "execution_count": 33,
     "metadata": {},
     "output_type": "execute_result"
    }
   ],
   "source": [
    "componentSets"
   ]
  },
  {
   "cell_type": "code",
   "execution_count": 34,
   "metadata": {
    "collapsed": false
   },
   "outputs": [
    {
     "data": {
      "text/plain": [
       "{' 12wall': {'all': Int64Index([  1,   2,   3,   4,   5,   6,   7,   8,   9,  10,\n",
       "              ...\n",
       "              151, 152, 153, 154, 155, 156, 157, 158, 159, 160],\n",
       "             dtype='int64', name='ikey', length=160),\n",
       "  'midspan': Int64Index([68, 69, 75, 76, 77, 78, 84, 85], dtype='int64', name='element number'),\n",
       "  'support_x_large': Int64Index([  8,  16,  24,  32,  40,  48,  56,  64,  72,  80,  88,  96, 104,\n",
       "              112, 120, 128, 136, 144, 152, 160],\n",
       "             dtype='int64', name='element number'),\n",
       "  'support_x_small': Int64Index([  1,   9,  17,  25,  33,  41,  49,  57,  65,  73,  81,  89,  97,\n",
       "              105, 113, 121, 129, 137, 145, 153],\n",
       "             dtype='int64', name='element number'),\n",
       "  'support_z_large': Int64Index([153, 154, 155, 156, 157, 158, 159, 160], dtype='int64', name='element number'),\n",
       "  'support_z_small': Int64Index([1, 2, 3, 4, 5, 6, 7, 8], dtype='int64', name='element number')},\n",
       " ' 13wall': {'all': Int64Index([161, 162, 163, 164, 165, 166, 167, 168, 169, 170,\n",
       "              ...\n",
       "              351, 352, 353, 354, 355, 356, 357, 358, 359, 360],\n",
       "             dtype='int64', name='ikey', length=200),\n",
       "  'midspan': Int64Index([245, 246, 255, 256, 265, 266], dtype='int64', name='element number'),\n",
       "  'support_y_large': Int64Index([170, 180, 190, 200, 210, 220, 230, 240, 250, 260, 270, 280, 290,\n",
       "              300, 310, 320, 330, 340, 350, 360],\n",
       "             dtype='int64', name='element number'),\n",
       "  'support_y_small': Int64Index([161, 171, 181, 191, 201, 211, 221, 231, 241, 251, 261, 271, 281,\n",
       "              291, 301, 311, 321, 331, 341, 351],\n",
       "             dtype='int64', name='element number'),\n",
       "  'support_z_large': Int64Index([351, 352, 353, 354, 355, 356, 357, 358, 359, 360], dtype='int64', name='element number'),\n",
       "  'support_z_small': Int64Index([161, 162, 163, 164, 165, 166, 167, 168, 169, 170], dtype='int64', name='element number')},\n",
       " ' 24wall': {'all': Int64Index([361, 362, 363, 364, 365, 366, 367, 368, 369, 370,\n",
       "              ...\n",
       "              551, 552, 553, 554, 555, 556, 557, 558, 559, 560],\n",
       "             dtype='int64', name='ikey', length=200),\n",
       "  'midspan': Int64Index([449, 450, 451, 469, 470, 471], dtype='int64', name='element number'),\n",
       "  'support_y_large': Int64Index([361, 362, 363, 364, 365, 366, 367, 368, 369, 370, 371, 372, 373,\n",
       "              374, 375, 376, 377, 378, 379, 380],\n",
       "             dtype='int64', name='element number'),\n",
       "  'support_y_small': Int64Index([541, 542, 543, 544, 545, 546, 547, 548, 549, 550, 551, 552, 553,\n",
       "              554, 555, 556, 557, 558, 559, 560],\n",
       "             dtype='int64', name='element number'),\n",
       "  'support_z_large': Int64Index([380, 400, 420, 440, 460, 480, 500, 520, 540, 560], dtype='int64', name='element number'),\n",
       "  'support_z_small': Int64Index([361, 381, 401, 421, 441, 461, 481, 501, 521, 541], dtype='int64', name='element number')},\n",
       " ' 34wall': {'all': Int64Index([561, 562, 563, 564, 565, 566, 567, 568, 569, 570,\n",
       "              ...\n",
       "              679, 680, 681, 682, 683, 684, 685, 686, 687, 688],\n",
       "             dtype='int64', name='ikey', length=128),\n",
       "  'midspan': Int64Index([600, 601, 615, 616, 617, 618, 631, 632, 633, 634, 648, 649], dtype='int64', name='element number'),\n",
       "  'support_x_large': Int64Index([561, 562, 563, 564, 565, 566, 567, 568, 569, 570, 571, 572, 573,\n",
       "              574, 575, 576],\n",
       "             dtype='int64', name='element number'),\n",
       "  'support_x_small': Int64Index([674, 675, 676, 677, 678, 679, 680, 681, 682, 683, 684, 685, 686,\n",
       "              687, 688, 673],\n",
       "             dtype='int64', name='element number'),\n",
       "  'support_z_large': Int64Index([688, 576, 592, 608, 624, 640, 656, 672], dtype='int64', name='element number'),\n",
       "  'support_z_small': Int64Index([561, 577, 593, 609, 625, 641, 657, 673], dtype='int64', name='element number')},\n",
       " ' 35wall': {'all': Int64Index([689, 690, 691, 692, 693, 694, 695, 696, 697, 698,\n",
       "              ...\n",
       "              839, 840, 841, 842, 843, 844, 845, 846, 847, 848],\n",
       "             dtype='int64', name='ikey', length=160),\n",
       "  'midspan': Int64Index([756, 757, 763, 764, 765, 766, 772, 773], dtype='int64', name='element number'),\n",
       "  'support_y_large': Int64Index([704, 712, 720, 728, 736, 744, 752, 760, 768, 776, 784, 792, 800,\n",
       "              808, 816, 696, 824, 832, 840, 848],\n",
       "             dtype='int64', name='element number'),\n",
       "  'support_y_small': Int64Index([689, 697, 705, 713, 721, 729, 737, 745, 753, 761, 769, 777, 785,\n",
       "              793, 801, 809, 817, 825, 833, 841],\n",
       "             dtype='int64', name='element number'),\n",
       "  'support_z_large': Int64Index([841, 842, 843, 844, 845, 846, 847, 848], dtype='int64', name='element number'),\n",
       "  'support_z_small': Int64Index([696, 689, 690, 691, 692, 693, 694, 695], dtype='int64', name='element number')},\n",
       " ' 46wall': {'all': Int64Index([ 849,  850,  851,  852,  853,  854,  855,  856,  857,  858,\n",
       "              ...\n",
       "               999, 1000, 1001, 1002, 1003, 1004, 1005, 1006, 1007, 1008],\n",
       "             dtype='int64', name='ikey', length=160),\n",
       "  'midspan': Int64Index([898, 917, 918, 919, 937, 938, 939, 958], dtype='int64', name='element number'),\n",
       "  'support_y_large': Int64Index([849, 850, 851, 852, 853, 854, 855, 856, 857, 858, 859, 860, 861,\n",
       "              862, 863, 864, 865, 866, 867, 868],\n",
       "             dtype='int64', name='element number'),\n",
       "  'support_y_small': Int64Index([ 989,  990,  991,  992,  993,  994,  995,  996,  997,  998,  999,\n",
       "              1000, 1001, 1002, 1003, 1004, 1005, 1006, 1007, 1008],\n",
       "             dtype='int64', name='element number'),\n",
       "  'support_z_large': Int64Index([868, 888, 908, 928, 948, 968, 988, 1008], dtype='int64', name='element number'),\n",
       "  'support_z_small': Int64Index([849, 869, 889, 909, 929, 949, 969, 989], dtype='int64', name='element number')},\n",
       " ' 56wall': {'all': Int64Index([1009, 1010, 1011, 1012, 1013, 1014, 1015, 1016, 1017, 1018,\n",
       "              ...\n",
       "              1159, 1160, 1161, 1162, 1163, 1164, 1165, 1166, 1167, 1168],\n",
       "             dtype='int64', name='ikey', length=160),\n",
       "  'midspan': Int64Index([1058, 1077, 1078, 1079, 1097, 1098, 1099, 1118], dtype='int64', name='element number'),\n",
       "  'support_x_large': Int64Index([1009, 1010, 1011, 1012, 1013, 1014, 1015, 1016, 1017, 1018, 1019,\n",
       "              1020, 1021, 1022, 1023, 1024, 1025, 1026, 1027, 1028],\n",
       "             dtype='int64', name='element number'),\n",
       "  'support_x_small': Int64Index([1149, 1150, 1151, 1152, 1153, 1154, 1155, 1156, 1157, 1158, 1159,\n",
       "              1160, 1161, 1162, 1163, 1164, 1165, 1166, 1167, 1168],\n",
       "             dtype='int64', name='element number'),\n",
       "  'support_z_large': Int64Index([1168, 1028, 1048, 1068, 1088, 1108, 1128, 1148], dtype='int64', name='element number'),\n",
       "  'support_z_small': Int64Index([1149, 1009, 1029, 1049, 1069, 1089, 1109, 1129], dtype='int64', name='element number')},\n",
       " ' 底板1342': {'all': Int64Index([1169, 1170, 1171, 1172, 1173, 1174, 1175, 1176, 1177, 1178, 1179,\n",
       "              1180, 1181, 1182, 1183, 1184, 1185, 1186, 1187, 1188, 1189, 1190,\n",
       "              1191, 1192, 1193, 1194, 1195, 1196, 1197, 1198, 1199, 1200, 1201,\n",
       "              1202, 1203, 1204, 1205, 1206, 1207, 1208, 1209, 1210, 1211, 1212,\n",
       "              1213, 1214, 1215, 1216, 1217, 1218, 1219, 1220, 1221, 1222, 1223,\n",
       "              1224, 1225, 1226, 1227, 1228, 1229, 1230, 1231, 1232, 1233, 1234,\n",
       "              1235, 1236, 1237, 1238, 1239, 1240, 1241, 1242, 1243, 1244, 1245,\n",
       "              1246, 1247],\n",
       "             dtype='int64', name='ikey'),\n",
       "  'midspan': Int64Index([1204, 1205, 1212, 1213], dtype='int64', name='element number'),\n",
       "  'support_x_large': Int64Index([1248, 1176, 1184, 1192, 1200, 1208, 1216, 1224, 1232, 1240], dtype='int64', name='element number'),\n",
       "  'support_x_small': Int64Index([1241, 1233, 1225, 1217, 1209, 1201, 1193, 1185, 1177, 1169], dtype='int64', name='element number'),\n",
       "  'support_y_large': Int64Index([1169, 1170, 1171, 1172, 1173, 1174, 1175, 1176], dtype='int64', name='element number'),\n",
       "  'support_y_small': Int64Index([1241, 1248, 1247, 1246, 1245, 1244, 1243, 1242], dtype='int64', name='element number')},\n",
       " ' 底板3456': {'all': Int64Index([1249, 1250, 1251, 1252, 1253, 1254, 1255, 1256, 1257, 1258, 1259,\n",
       "              1260, 1261, 1262, 1263, 1264, 1265, 1266, 1267, 1268, 1269, 1270,\n",
       "              1271, 1272, 1273, 1274, 1275, 1276, 1277, 1278, 1279, 1280, 1281,\n",
       "              1282, 1283, 1284, 1285, 1286, 1287, 1288, 1289, 1290, 1291, 1292,\n",
       "              1293, 1294, 1295, 1296, 1297, 1298, 1299, 1300, 1301, 1302, 1303,\n",
       "              1304, 1305, 1306, 1307, 1308, 1309, 1310, 1311, 1312],\n",
       "             dtype='int64', name='ikey'),\n",
       "  'midspan': Int64Index([1268, 1269, 1275, 1276, 1277, 1278, 1283, 1284, 1285, 1286, 1292,\n",
       "              1293],\n",
       "             dtype='int64', name='element number'),\n",
       "  'support_x_large': Int64Index([1256, 1312, 1264, 1272, 1280, 1288, 1296, 1304], dtype='int64', name='element number'),\n",
       "  'support_x_small': Int64Index([1249, 1305, 1297, 1289, 1281, 1273, 1265, 1257], dtype='int64', name='element number'),\n",
       "  'support_y_large': Int64Index([1256, 1255, 1254, 1253, 1252, 1251, 1250, 1249], dtype='int64', name='element number'),\n",
       "  'support_y_small': Int64Index([1305, 1312, 1311, 1310, 1309, 1308, 1307, 1306], dtype='int64', name='element number')}}"
      ]
     },
     "execution_count": 34,
     "metadata": {},
     "output_type": "execute_result"
    }
   ],
   "source": [
    "model.domainSet"
   ]
  },
  {
   "cell_type": "code",
   "execution_count": 35,
   "metadata": {
    "collapsed": true
   },
   "outputs": [],
   "source": [
    "domains=model.domainSet.copy()\n",
    "\n",
    "requirements={'Mxx (kN*m/m)':('max',['Fxx (kN/m)','Fyy (kN/m)']),'Myy (kN*m/m)':('max',['Fxx (kN/m)','Fyy (kN/m)'])}\n",
    "\n",
    "def findmax(x):\n",
    "    if abs(max(x))>abs(min(x)):\n",
    "        return max(x)\n",
    "    else:\n",
    "        return min(x)\n",
    "\n",
    "def getResult(case,requirements):\n",
    "    \"\"\"\n",
    "    case: read from excel of a specific case,raw data\n",
    "    requirements:required inner force result, for example,{'Mxx (kN*m/m)':('max',['Fxx (kN/m)','Fyy (kN/m)']),'Myy (kN*m/m)':('max',['Fxx (kN/m)','Fyy (kN/m)'])}\n",
    "    \"\"\"\n",
    "    dfTotal=pd.DataFrame()\n",
    "    for i in domains:             # i 是str,为各个域的名称,domains 的key\n",
    "        domainCP=domains[i].copy() #domainCP是单个域的index集合，包括 'all' 和跨中，支座\n",
    "        domainCP.pop('all')        # 刨除'all' 的单个域的index集合\n",
    "        for j in domainCP:\n",
    "            p=domains[i][j]         # p 是域的支座，跨中单元集index\n",
    "            for req in requirements: # req 是str,为要求提取的内力名称, requirements的key\n",
    "                caseX=case.groupby(['Load','Elem'])[req].apply(findmax) # caseX是所有单元的待提取内力,mutiIndex Series\n",
    "                relatedReq=requirements[req][1]  # 与待提取内力相应的内力列表\n",
    "                caseResBind={} #收集待提取内力DataFrame的dict  \n",
    "                for k in relatedReq:\n",
    "                    caseResBind[k]=(case.groupby(['Load','Elem'])[k].apply(findmax)).unstack(0)  # 收集待提取内力DataFrame\n",
    "                limi=requirements[req][0] # 'max' or 'min'\n",
    "                aa=caseX.unstack(0).loc[p] # aa是caseX经过unstack处理后得到的DataFrame,且index为 p\n",
    "                a=getattr(aa,limi)() #每个case下待提取内力的极值，Series,index为case..\n",
    "                if limi=='max':\n",
    "                    caseInde=np.argmax(a.values,0)  #极值对应的case 索引\n",
    "                    caseNum=aa.columns[caseInde]  # 得到case名称\n",
    "                    b=aa[caseNum]   #b 为极值所在case下的某域所有单元的待求内力的Series\n",
    "                    indeE=np.argmax(b.values,0) # 极值对应的elem索引\n",
    "                    eleNum=aa.index[indeE]  # 得到elem具体数字\n",
    "                    value=a[caseNum]\n",
    "                elif limi=='min':\n",
    "                    caseInde=np.argmax(a.values,0)\n",
    "                    caseNum=aa.columns[caseInde]\n",
    "                    b=aa[caseNum]\n",
    "                    indeE=np.argmax(b.values,0)\n",
    "                    eleNum=aa.index[indeE]\n",
    "                    value=a[caseNum]\n",
    "                else:\n",
    "                    print('Nothing got')\n",
    "                    return None\n",
    "                caseBindResults={}\n",
    "                for m in relatedReq:\n",
    "                    caseBindResults[m]=caseResBind[m].loc[eleNum,caseNum]\n",
    "                    print(m)\n",
    "                    print(caseBindResults[m])\n",
    "                \n",
    "                dfComponent=pd.DataFrame([[value,caseNum,eleNum]],index=[i+j],columns=[req,'case','element'])\n",
    "                print('value',value)\n",
    "                print(dfComponent)\n",
    "                dfComponent=pd.concat([dfComponent,pd.DataFrame(caseBindResults,index=[i+j])])\n",
    "                dfTotal=dfTotal.append(dfComponent)\n",
    "    return dfTotal"
   ]
  },
  {
   "cell_type": "code",
   "execution_count": 36,
   "metadata": {
    "collapsed": false,
    "scrolled": false
   },
   "outputs": [],
   "source": [
    "# getResult(case,requirements)"
   ]
  },
  {
   "cell_type": "code",
   "execution_count": 37,
   "metadata": {
    "collapsed": true
   },
   "outputs": [],
   "source": [
    "dff=pd.DataFrame()"
   ]
  },
  {
   "cell_type": "code",
   "execution_count": 38,
   "metadata": {
    "collapsed": false
   },
   "outputs": [
    {
     "data": {
      "text/html": [
       "<div>\n",
       "<table border=\"1\" class=\"dataframe\">\n",
       "  <thead>\n",
       "    <tr style=\"text-align: right;\">\n",
       "      <th></th>\n",
       "      <th>0</th>\n",
       "      <th>1</th>\n",
       "      <th>2</th>\n",
       "    </tr>\n",
       "  </thead>\n",
       "  <tbody>\n",
       "    <tr>\n",
       "      <th>df2</th>\n",
       "      <td>1</td>\n",
       "      <td>2</td>\n",
       "      <td>3</td>\n",
       "    </tr>\n",
       "  </tbody>\n",
       "</table>\n",
       "</div>"
      ],
      "text/plain": [
       "     0  1  2\n",
       "df2  1  2  3"
      ]
     },
     "execution_count": 38,
     "metadata": {},
     "output_type": "execute_result"
    }
   ],
   "source": [
    "df2=pd.DataFrame([[1,2,3]],index=['df2']);df2"
   ]
  },
  {
   "cell_type": "code",
   "execution_count": 39,
   "metadata": {
    "collapsed": false,
    "scrolled": true
   },
   "outputs": [
    {
     "data": {
      "text/plain": [
       "{'a': [1], 'b': [2]}"
      ]
     },
     "execution_count": 39,
     "metadata": {},
     "output_type": "execute_result"
    }
   ],
   "source": [
    "dd={'a':[1],'b':[2]};dd"
   ]
  },
  {
   "cell_type": "code",
   "execution_count": 40,
   "metadata": {
    "collapsed": false
   },
   "outputs": [
    {
     "data": {
      "text/html": [
       "<div>\n",
       "<table border=\"1\" class=\"dataframe\">\n",
       "  <thead>\n",
       "    <tr style=\"text-align: right;\">\n",
       "      <th></th>\n",
       "      <th>a</th>\n",
       "      <th>b</th>\n",
       "    </tr>\n",
       "  </thead>\n",
       "  <tbody>\n",
       "    <tr>\n",
       "      <th>df2</th>\n",
       "      <td>1</td>\n",
       "      <td>2</td>\n",
       "    </tr>\n",
       "  </tbody>\n",
       "</table>\n",
       "</div>"
      ],
      "text/plain": [
       "     a  b\n",
       "df2  1  2"
      ]
     },
     "execution_count": 40,
     "metadata": {},
     "output_type": "execute_result"
    }
   ],
   "source": [
    "pd.DataFrame(dd,index=['df2'])"
   ]
  },
  {
   "cell_type": "code",
   "execution_count": 41,
   "metadata": {
    "collapsed": false
   },
   "outputs": [
    {
     "data": {
      "text/html": [
       "<div>\n",
       "<table border=\"1\" class=\"dataframe\">\n",
       "  <thead>\n",
       "    <tr style=\"text-align: right;\">\n",
       "      <th></th>\n",
       "      <th>0</th>\n",
       "      <th>1</th>\n",
       "      <th>2</th>\n",
       "      <th>a</th>\n",
       "      <th>b</th>\n",
       "    </tr>\n",
       "  </thead>\n",
       "  <tbody>\n",
       "    <tr>\n",
       "      <th>df2</th>\n",
       "      <td>1</td>\n",
       "      <td>2</td>\n",
       "      <td>3</td>\n",
       "      <td>1</td>\n",
       "      <td>2</td>\n",
       "    </tr>\n",
       "  </tbody>\n",
       "</table>\n",
       "</div>"
      ],
      "text/plain": [
       "     0  1  2  a  b\n",
       "df2  1  2  3  1  2"
      ]
     },
     "execution_count": 41,
     "metadata": {},
     "output_type": "execute_result"
    }
   ],
   "source": [
    "pd.concat([df2,pd.DataFrame(dd,index=['df2'])],axis=1)"
   ]
  },
  {
   "cell_type": "code",
   "execution_count": 42,
   "metadata": {
    "collapsed": false
   },
   "outputs": [
    {
     "data": {
      "text/html": [
       "<div>\n",
       "<table border=\"1\" class=\"dataframe\">\n",
       "  <thead>\n",
       "    <tr style=\"text-align: right;\">\n",
       "      <th></th>\n",
       "      <th>0</th>\n",
       "      <th>1</th>\n",
       "      <th>2</th>\n",
       "    </tr>\n",
       "  </thead>\n",
       "  <tbody>\n",
       "    <tr>\n",
       "      <th>df2</th>\n",
       "      <td>1</td>\n",
       "      <td>2</td>\n",
       "      <td>3</td>\n",
       "    </tr>\n",
       "  </tbody>\n",
       "</table>\n",
       "</div>"
      ],
      "text/plain": [
       "     0  1  2\n",
       "df2  1  2  3"
      ]
     },
     "execution_count": 42,
     "metadata": {},
     "output_type": "execute_result"
    }
   ],
   "source": [
    "df2"
   ]
  },
  {
   "cell_type": "code",
   "execution_count": 43,
   "metadata": {
    "collapsed": false
   },
   "outputs": [
    {
     "data": {
      "text/html": [
       "<div>\n",
       "<table border=\"1\" class=\"dataframe\">\n",
       "  <thead>\n",
       "    <tr style=\"text-align: right;\">\n",
       "      <th></th>\n",
       "      <th>0</th>\n",
       "      <th>1</th>\n",
       "      <th>2</th>\n",
       "    </tr>\n",
       "  </thead>\n",
       "  <tbody>\n",
       "    <tr>\n",
       "      <th>df2</th>\n",
       "      <td>1</td>\n",
       "      <td>2</td>\n",
       "      <td>3</td>\n",
       "    </tr>\n",
       "  </tbody>\n",
       "</table>\n",
       "</div>"
      ],
      "text/plain": [
       "     0  1  2\n",
       "df2  1  2  3"
      ]
     },
     "execution_count": 43,
     "metadata": {},
     "output_type": "execute_result"
    }
   ],
   "source": [
    "dff=dff.append(df2);dff"
   ]
  },
  {
   "cell_type": "code",
   "execution_count": 44,
   "metadata": {
    "collapsed": true
   },
   "outputs": [],
   "source": [
    "df3=pd.DataFrame([[3,4,5]],index=['df3'])"
   ]
  },
  {
   "cell_type": "code",
   "execution_count": 45,
   "metadata": {
    "collapsed": false
   },
   "outputs": [
    {
     "data": {
      "text/html": [
       "<div>\n",
       "<table border=\"1\" class=\"dataframe\">\n",
       "  <thead>\n",
       "    <tr style=\"text-align: right;\">\n",
       "      <th></th>\n",
       "      <th>0</th>\n",
       "      <th>1</th>\n",
       "      <th>2</th>\n",
       "    </tr>\n",
       "  </thead>\n",
       "  <tbody>\n",
       "    <tr>\n",
       "      <th>df2</th>\n",
       "      <td>1</td>\n",
       "      <td>2</td>\n",
       "      <td>3</td>\n",
       "    </tr>\n",
       "    <tr>\n",
       "      <th>df3</th>\n",
       "      <td>3</td>\n",
       "      <td>4</td>\n",
       "      <td>5</td>\n",
       "    </tr>\n",
       "  </tbody>\n",
       "</table>\n",
       "</div>"
      ],
      "text/plain": [
       "     0  1  2\n",
       "df2  1  2  3\n",
       "df3  3  4  5"
      ]
     },
     "execution_count": 45,
     "metadata": {},
     "output_type": "execute_result"
    }
   ],
   "source": [
    "dff=dff.append(df3);dff"
   ]
  },
  {
   "cell_type": "code",
   "execution_count": 46,
   "metadata": {
    "collapsed": false
   },
   "outputs": [
    {
     "data": {
      "text/html": [
       "<div>\n",
       "<table border=\"1\" class=\"dataframe\">\n",
       "  <thead>\n",
       "    <tr style=\"text-align: right;\">\n",
       "      <th></th>\n",
       "      <th>0</th>\n",
       "      <th>1</th>\n",
       "      <th>2</th>\n",
       "    </tr>\n",
       "  </thead>\n",
       "  <tbody>\n",
       "    <tr>\n",
       "      <th>df2</th>\n",
       "      <td>1</td>\n",
       "      <td>2</td>\n",
       "      <td>3</td>\n",
       "    </tr>\n",
       "    <tr>\n",
       "      <th>df3</th>\n",
       "      <td>3</td>\n",
       "      <td>4</td>\n",
       "      <td>5</td>\n",
       "    </tr>\n",
       "  </tbody>\n",
       "</table>\n",
       "</div>"
      ],
      "text/plain": [
       "     0  1  2\n",
       "df2  1  2  3\n",
       "df3  3  4  5"
      ]
     },
     "execution_count": 46,
     "metadata": {},
     "output_type": "execute_result"
    }
   ],
   "source": [
    "\n",
    "dff"
   ]
  },
  {
   "cell_type": "code",
   "execution_count": 47,
   "metadata": {
    "collapsed": false
   },
   "outputs": [
    {
     "data": {
      "text/html": [
       "<div>\n",
       "<table border=\"1\" class=\"dataframe\">\n",
       "  <thead>\n",
       "    <tr style=\"text-align: right;\">\n",
       "      <th></th>\n",
       "      <th>Fxx (kN/m)</th>\n",
       "      <th>Fyy (kN/m)</th>\n",
       "      <th>Mxx (kN*m/m)</th>\n",
       "      <th>Myy (kN*m/m)</th>\n",
       "      <th>case</th>\n",
       "      <th>element</th>\n",
       "    </tr>\n",
       "  </thead>\n",
       "  <tbody>\n",
       "    <tr>\n",
       "      <th>12wallmidspan</th>\n",
       "      <td>NaN</td>\n",
       "      <td>NaN</td>\n",
       "      <td>20.336</td>\n",
       "      <td>NaN</td>\n",
       "      <td>clcB20</td>\n",
       "      <td>68.0</td>\n",
       "    </tr>\n",
       "    <tr>\n",
       "      <th>12wallmidspan</th>\n",
       "      <td>-34.060</td>\n",
       "      <td>128.045</td>\n",
       "      <td>NaN</td>\n",
       "      <td>NaN</td>\n",
       "      <td>NaN</td>\n",
       "      <td>NaN</td>\n",
       "    </tr>\n",
       "    <tr>\n",
       "      <th>12wallmidspan</th>\n",
       "      <td>NaN</td>\n",
       "      <td>NaN</td>\n",
       "      <td>NaN</td>\n",
       "      <td>59.062</td>\n",
       "      <td>clcB8</td>\n",
       "      <td>68.0</td>\n",
       "    </tr>\n",
       "    <tr>\n",
       "      <th>12wallmidspan</th>\n",
       "      <td>-45.996</td>\n",
       "      <td>171.968</td>\n",
       "      <td>NaN</td>\n",
       "      <td>NaN</td>\n",
       "      <td>NaN</td>\n",
       "      <td>NaN</td>\n",
       "    </tr>\n",
       "    <tr>\n",
       "      <th>12wallsupport_x_small</th>\n",
       "      <td>NaN</td>\n",
       "      <td>NaN</td>\n",
       "      <td>29.479</td>\n",
       "      <td>NaN</td>\n",
       "      <td>cLCB2</td>\n",
       "      <td>1.0</td>\n",
       "    </tr>\n",
       "    <tr>\n",
       "      <th>12wallsupport_x_small</th>\n",
       "      <td>-81.534</td>\n",
       "      <td>-31.901</td>\n",
       "      <td>NaN</td>\n",
       "      <td>NaN</td>\n",
       "      <td>NaN</td>\n",
       "      <td>NaN</td>\n",
       "    </tr>\n",
       "    <tr>\n",
       "      <th>12wallsupport_x_small</th>\n",
       "      <td>NaN</td>\n",
       "      <td>NaN</td>\n",
       "      <td>NaN</td>\n",
       "      <td>66.405</td>\n",
       "      <td>clcB21</td>\n",
       "      <td>41.0</td>\n",
       "    </tr>\n",
       "    <tr>\n",
       "      <th>12wallsupport_x_small</th>\n",
       "      <td>-47.687</td>\n",
       "      <td>-104.599</td>\n",
       "      <td>NaN</td>\n",
       "      <td>NaN</td>\n",
       "      <td>NaN</td>\n",
       "      <td>NaN</td>\n",
       "    </tr>\n",
       "    <tr>\n",
       "      <th>12wallsupport_x_large</th>\n",
       "      <td>NaN</td>\n",
       "      <td>NaN</td>\n",
       "      <td>53.146</td>\n",
       "      <td>NaN</td>\n",
       "      <td>clcB9</td>\n",
       "      <td>8.0</td>\n",
       "    </tr>\n",
       "    <tr>\n",
       "      <th>12wallsupport_x_large</th>\n",
       "      <td>-177.933</td>\n",
       "      <td>-69.964</td>\n",
       "      <td>NaN</td>\n",
       "      <td>NaN</td>\n",
       "      <td>NaN</td>\n",
       "      <td>NaN</td>\n",
       "    </tr>\n",
       "    <tr>\n",
       "      <th>12wallsupport_x_large</th>\n",
       "      <td>NaN</td>\n",
       "      <td>NaN</td>\n",
       "      <td>NaN</td>\n",
       "      <td>15.877</td>\n",
       "      <td>clcB18</td>\n",
       "      <td>56.0</td>\n",
       "    </tr>\n",
       "    <tr>\n",
       "      <th>12wallsupport_x_large</th>\n",
       "      <td>-17.166</td>\n",
       "      <td>-36.965</td>\n",
       "      <td>NaN</td>\n",
       "      <td>NaN</td>\n",
       "      <td>NaN</td>\n",
       "      <td>NaN</td>\n",
       "    </tr>\n",
       "    <tr>\n",
       "      <th>12wallsupport_z_small</th>\n",
       "      <td>NaN</td>\n",
       "      <td>NaN</td>\n",
       "      <td>78.231</td>\n",
       "      <td>NaN</td>\n",
       "      <td>clcB9</td>\n",
       "      <td>5.0</td>\n",
       "    </tr>\n",
       "    <tr>\n",
       "      <th>12wallsupport_z_small</th>\n",
       "      <td>-230.640</td>\n",
       "      <td>-123.584</td>\n",
       "      <td>NaN</td>\n",
       "      <td>NaN</td>\n",
       "      <td>NaN</td>\n",
       "      <td>NaN</td>\n",
       "    </tr>\n",
       "    <tr>\n",
       "      <th>12wallsupport_z_small</th>\n",
       "      <td>NaN</td>\n",
       "      <td>NaN</td>\n",
       "      <td>NaN</td>\n",
       "      <td>30.906</td>\n",
       "      <td>clcB4</td>\n",
       "      <td>4.0</td>\n",
       "    </tr>\n",
       "    <tr>\n",
       "      <th>12wallsupport_z_small</th>\n",
       "      <td>-282.532</td>\n",
       "      <td>-92.469</td>\n",
       "      <td>NaN</td>\n",
       "      <td>NaN</td>\n",
       "      <td>NaN</td>\n",
       "      <td>NaN</td>\n",
       "    </tr>\n",
       "    <tr>\n",
       "      <th>12wallsupport_z_large</th>\n",
       "      <td>NaN</td>\n",
       "      <td>NaN</td>\n",
       "      <td>6.162</td>\n",
       "      <td>NaN</td>\n",
       "      <td>clcB16</td>\n",
       "      <td>153.0</td>\n",
       "    </tr>\n",
       "    <tr>\n",
       "      <th>12wallsupport_z_large</th>\n",
       "      <td>-9.415</td>\n",
       "      <td>-92.595</td>\n",
       "      <td>NaN</td>\n",
       "      <td>NaN</td>\n",
       "      <td>NaN</td>\n",
       "      <td>NaN</td>\n",
       "    </tr>\n",
       "    <tr>\n",
       "      <th>12wallsupport_z_large</th>\n",
       "      <td>NaN</td>\n",
       "      <td>NaN</td>\n",
       "      <td>NaN</td>\n",
       "      <td>32.953</td>\n",
       "      <td>clcB15</td>\n",
       "      <td>153.0</td>\n",
       "    </tr>\n",
       "    <tr>\n",
       "      <th>12wallsupport_z_large</th>\n",
       "      <td>-9.551</td>\n",
       "      <td>-57.083</td>\n",
       "      <td>NaN</td>\n",
       "      <td>NaN</td>\n",
       "      <td>NaN</td>\n",
       "      <td>NaN</td>\n",
       "    </tr>\n",
       "    <tr>\n",
       "      <th>13wallmidspan</th>\n",
       "      <td>NaN</td>\n",
       "      <td>NaN</td>\n",
       "      <td>53.492</td>\n",
       "      <td>NaN</td>\n",
       "      <td>cLCB5</td>\n",
       "      <td>245.0</td>\n",
       "    </tr>\n",
       "    <tr>\n",
       "      <th>13wallmidspan</th>\n",
       "      <td>-89.566</td>\n",
       "      <td>187.771</td>\n",
       "      <td>NaN</td>\n",
       "      <td>NaN</td>\n",
       "      <td>NaN</td>\n",
       "      <td>NaN</td>\n",
       "    </tr>\n",
       "    <tr>\n",
       "      <th>13wallmidspan</th>\n",
       "      <td>NaN</td>\n",
       "      <td>NaN</td>\n",
       "      <td>NaN</td>\n",
       "      <td>125.790</td>\n",
       "      <td>clcB4</td>\n",
       "      <td>245.0</td>\n",
       "    </tr>\n",
       "    <tr>\n",
       "      <th>13wallmidspan</th>\n",
       "      <td>-130.900</td>\n",
       "      <td>192.600</td>\n",
       "      <td>NaN</td>\n",
       "      <td>NaN</td>\n",
       "      <td>NaN</td>\n",
       "      <td>NaN</td>\n",
       "    </tr>\n",
       "    <tr>\n",
       "      <th>13wallsupport_y_small</th>\n",
       "      <td>NaN</td>\n",
       "      <td>NaN</td>\n",
       "      <td>33.204</td>\n",
       "      <td>NaN</td>\n",
       "      <td>clcB9</td>\n",
       "      <td>161.0</td>\n",
       "    </tr>\n",
       "    <tr>\n",
       "      <th>13wallsupport_y_small</th>\n",
       "      <td>-111.012</td>\n",
       "      <td>-135.024</td>\n",
       "      <td>NaN</td>\n",
       "      <td>NaN</td>\n",
       "      <td>NaN</td>\n",
       "      <td>NaN</td>\n",
       "    </tr>\n",
       "    <tr>\n",
       "      <th>13wallsupport_y_small</th>\n",
       "      <td>NaN</td>\n",
       "      <td>NaN</td>\n",
       "      <td>NaN</td>\n",
       "      <td>37.081</td>\n",
       "      <td>clcB21</td>\n",
       "      <td>231.0</td>\n",
       "    </tr>\n",
       "    <tr>\n",
       "      <th>13wallsupport_y_small</th>\n",
       "      <td>-102.143</td>\n",
       "      <td>-84.718</td>\n",
       "      <td>NaN</td>\n",
       "      <td>NaN</td>\n",
       "      <td>NaN</td>\n",
       "      <td>NaN</td>\n",
       "    </tr>\n",
       "    <tr>\n",
       "      <th>13wallsupport_y_large</th>\n",
       "      <td>NaN</td>\n",
       "      <td>NaN</td>\n",
       "      <td>29.665</td>\n",
       "      <td>NaN</td>\n",
       "      <td>clcB9</td>\n",
       "      <td>170.0</td>\n",
       "    </tr>\n",
       "    <tr>\n",
       "      <th>13wallsupport_y_large</th>\n",
       "      <td>77.801</td>\n",
       "      <td>35.482</td>\n",
       "      <td>NaN</td>\n",
       "      <td>NaN</td>\n",
       "      <td>NaN</td>\n",
       "      <td>NaN</td>\n",
       "    </tr>\n",
       "    <tr>\n",
       "      <th>...</th>\n",
       "      <td>...</td>\n",
       "      <td>...</td>\n",
       "      <td>...</td>\n",
       "      <td>...</td>\n",
       "      <td>...</td>\n",
       "      <td>...</td>\n",
       "    </tr>\n",
       "    <tr>\n",
       "      <th>底板1342support_x_large</th>\n",
       "      <td>NaN</td>\n",
       "      <td>NaN</td>\n",
       "      <td>NaN</td>\n",
       "      <td>89.467</td>\n",
       "      <td>cLCB2</td>\n",
       "      <td>1208.0</td>\n",
       "    </tr>\n",
       "    <tr>\n",
       "      <th>底板1342support_x_large</th>\n",
       "      <td>-113.503</td>\n",
       "      <td>-185.490</td>\n",
       "      <td>NaN</td>\n",
       "      <td>NaN</td>\n",
       "      <td>NaN</td>\n",
       "      <td>NaN</td>\n",
       "    </tr>\n",
       "    <tr>\n",
       "      <th>底板1342support_y_small</th>\n",
       "      <td>NaN</td>\n",
       "      <td>NaN</td>\n",
       "      <td>106.810</td>\n",
       "      <td>NaN</td>\n",
       "      <td>clcB4</td>\n",
       "      <td>1245.0</td>\n",
       "    </tr>\n",
       "    <tr>\n",
       "      <th>底板1342support_y_small</th>\n",
       "      <td>132.650</td>\n",
       "      <td>-204.694</td>\n",
       "      <td>NaN</td>\n",
       "      <td>NaN</td>\n",
       "      <td>NaN</td>\n",
       "      <td>NaN</td>\n",
       "    </tr>\n",
       "    <tr>\n",
       "      <th>底板1342support_y_small</th>\n",
       "      <td>NaN</td>\n",
       "      <td>NaN</td>\n",
       "      <td>NaN</td>\n",
       "      <td>51.877</td>\n",
       "      <td>clcB21</td>\n",
       "      <td>1241.0</td>\n",
       "    </tr>\n",
       "    <tr>\n",
       "      <th>底板1342support_y_small</th>\n",
       "      <td>-159.004</td>\n",
       "      <td>-141.561</td>\n",
       "      <td>NaN</td>\n",
       "      <td>NaN</td>\n",
       "      <td>NaN</td>\n",
       "      <td>NaN</td>\n",
       "    </tr>\n",
       "    <tr>\n",
       "      <th>底板1342support_y_large</th>\n",
       "      <td>NaN</td>\n",
       "      <td>NaN</td>\n",
       "      <td>78.231</td>\n",
       "      <td>NaN</td>\n",
       "      <td>clcB9</td>\n",
       "      <td>1173.0</td>\n",
       "    </tr>\n",
       "    <tr>\n",
       "      <th>底板1342support_y_large</th>\n",
       "      <td>-186.529</td>\n",
       "      <td>-123.584</td>\n",
       "      <td>NaN</td>\n",
       "      <td>NaN</td>\n",
       "      <td>NaN</td>\n",
       "      <td>NaN</td>\n",
       "    </tr>\n",
       "    <tr>\n",
       "      <th>底板1342support_y_large</th>\n",
       "      <td>NaN</td>\n",
       "      <td>NaN</td>\n",
       "      <td>NaN</td>\n",
       "      <td>47.581</td>\n",
       "      <td>clcB21</td>\n",
       "      <td>1169.0</td>\n",
       "    </tr>\n",
       "    <tr>\n",
       "      <th>底板1342support_y_large</th>\n",
       "      <td>57.516</td>\n",
       "      <td>-67.826</td>\n",
       "      <td>NaN</td>\n",
       "      <td>NaN</td>\n",
       "      <td>NaN</td>\n",
       "      <td>NaN</td>\n",
       "    </tr>\n",
       "    <tr>\n",
       "      <th>底板3456midspan</th>\n",
       "      <td>NaN</td>\n",
       "      <td>NaN</td>\n",
       "      <td>-11.858</td>\n",
       "      <td>NaN</td>\n",
       "      <td>cLCB37</td>\n",
       "      <td>1275.0</td>\n",
       "    </tr>\n",
       "    <tr>\n",
       "      <th>底板3456midspan</th>\n",
       "      <td>23.214</td>\n",
       "      <td>-11.724</td>\n",
       "      <td>NaN</td>\n",
       "      <td>NaN</td>\n",
       "      <td>NaN</td>\n",
       "      <td>NaN</td>\n",
       "    </tr>\n",
       "    <tr>\n",
       "      <th>底板3456midspan</th>\n",
       "      <td>NaN</td>\n",
       "      <td>NaN</td>\n",
       "      <td>NaN</td>\n",
       "      <td>39.952</td>\n",
       "      <td>clcB22</td>\n",
       "      <td>1275.0</td>\n",
       "    </tr>\n",
       "    <tr>\n",
       "      <th>底板3456midspan</th>\n",
       "      <td>-51.316</td>\n",
       "      <td>-119.225</td>\n",
       "      <td>NaN</td>\n",
       "      <td>NaN</td>\n",
       "      <td>NaN</td>\n",
       "      <td>NaN</td>\n",
       "    </tr>\n",
       "    <tr>\n",
       "      <th>底板3456support_x_small</th>\n",
       "      <td>NaN</td>\n",
       "      <td>NaN</td>\n",
       "      <td>54.129</td>\n",
       "      <td>NaN</td>\n",
       "      <td>clcB10</td>\n",
       "      <td>1281.0</td>\n",
       "    </tr>\n",
       "    <tr>\n",
       "      <th>底板3456support_x_small</th>\n",
       "      <td>-28.246</td>\n",
       "      <td>-125.685</td>\n",
       "      <td>NaN</td>\n",
       "      <td>NaN</td>\n",
       "      <td>NaN</td>\n",
       "      <td>NaN</td>\n",
       "    </tr>\n",
       "    <tr>\n",
       "      <th>底板3456support_x_small</th>\n",
       "      <td>NaN</td>\n",
       "      <td>NaN</td>\n",
       "      <td>NaN</td>\n",
       "      <td>69.949</td>\n",
       "      <td>clcB22</td>\n",
       "      <td>1281.0</td>\n",
       "    </tr>\n",
       "    <tr>\n",
       "      <th>底板3456support_x_small</th>\n",
       "      <td>34.054</td>\n",
       "      <td>-126.690</td>\n",
       "      <td>NaN</td>\n",
       "      <td>NaN</td>\n",
       "      <td>NaN</td>\n",
       "      <td>NaN</td>\n",
       "    </tr>\n",
       "    <tr>\n",
       "      <th>底板3456support_x_large</th>\n",
       "      <td>NaN</td>\n",
       "      <td>NaN</td>\n",
       "      <td>65.000</td>\n",
       "      <td>NaN</td>\n",
       "      <td>clcB11</td>\n",
       "      <td>1256.0</td>\n",
       "    </tr>\n",
       "    <tr>\n",
       "      <th>底板3456support_x_large</th>\n",
       "      <td>250.276</td>\n",
       "      <td>-157.159</td>\n",
       "      <td>NaN</td>\n",
       "      <td>NaN</td>\n",
       "      <td>NaN</td>\n",
       "      <td>NaN</td>\n",
       "    </tr>\n",
       "    <tr>\n",
       "      <th>底板3456support_x_large</th>\n",
       "      <td>NaN</td>\n",
       "      <td>NaN</td>\n",
       "      <td>NaN</td>\n",
       "      <td>62.725</td>\n",
       "      <td>cLCB2</td>\n",
       "      <td>1280.0</td>\n",
       "    </tr>\n",
       "    <tr>\n",
       "      <th>底板3456support_x_large</th>\n",
       "      <td>-90.846</td>\n",
       "      <td>-153.971</td>\n",
       "      <td>NaN</td>\n",
       "      <td>NaN</td>\n",
       "      <td>NaN</td>\n",
       "      <td>NaN</td>\n",
       "    </tr>\n",
       "    <tr>\n",
       "      <th>底板3456support_y_small</th>\n",
       "      <td>NaN</td>\n",
       "      <td>NaN</td>\n",
       "      <td>43.566</td>\n",
       "      <td>NaN</td>\n",
       "      <td>clcB7</td>\n",
       "      <td>1309.0</td>\n",
       "    </tr>\n",
       "    <tr>\n",
       "      <th>底板3456support_y_small</th>\n",
       "      <td>-119.601</td>\n",
       "      <td>-118.168</td>\n",
       "      <td>NaN</td>\n",
       "      <td>NaN</td>\n",
       "      <td>NaN</td>\n",
       "      <td>NaN</td>\n",
       "    </tr>\n",
       "    <tr>\n",
       "      <th>底板3456support_y_small</th>\n",
       "      <td>NaN</td>\n",
       "      <td>NaN</td>\n",
       "      <td>NaN</td>\n",
       "      <td>41.810</td>\n",
       "      <td>clcB22</td>\n",
       "      <td>1305.0</td>\n",
       "    </tr>\n",
       "    <tr>\n",
       "      <th>底板3456support_y_small</th>\n",
       "      <td>56.028</td>\n",
       "      <td>66.805</td>\n",
       "      <td>NaN</td>\n",
       "      <td>NaN</td>\n",
       "      <td>NaN</td>\n",
       "      <td>NaN</td>\n",
       "    </tr>\n",
       "    <tr>\n",
       "      <th>底板3456support_y_large</th>\n",
       "      <td>NaN</td>\n",
       "      <td>NaN</td>\n",
       "      <td>106.810</td>\n",
       "      <td>NaN</td>\n",
       "      <td>clcB4</td>\n",
       "      <td>1253.0</td>\n",
       "    </tr>\n",
       "    <tr>\n",
       "      <th>底板3456support_y_large</th>\n",
       "      <td>166.346</td>\n",
       "      <td>-204.694</td>\n",
       "      <td>NaN</td>\n",
       "      <td>NaN</td>\n",
       "      <td>NaN</td>\n",
       "      <td>NaN</td>\n",
       "    </tr>\n",
       "    <tr>\n",
       "      <th>底板3456support_y_large</th>\n",
       "      <td>NaN</td>\n",
       "      <td>NaN</td>\n",
       "      <td>NaN</td>\n",
       "      <td>46.948</td>\n",
       "      <td>clcB22</td>\n",
       "      <td>1250.0</td>\n",
       "    </tr>\n",
       "    <tr>\n",
       "      <th>底板3456support_y_large</th>\n",
       "      <td>-153.829</td>\n",
       "      <td>-105.127</td>\n",
       "      <td>NaN</td>\n",
       "      <td>NaN</td>\n",
       "      <td>NaN</td>\n",
       "      <td>NaN</td>\n",
       "    </tr>\n",
       "  </tbody>\n",
       "</table>\n",
       "<p>180 rows × 6 columns</p>\n",
       "</div>"
      ],
      "text/plain": [
       "                        Fxx (kN/m)  Fyy (kN/m)  Mxx (kN*m/m)  Myy (kN*m/m)  \\\n",
       " 12wallmidspan                 NaN         NaN        20.336           NaN   \n",
       " 12wallmidspan             -34.060     128.045           NaN           NaN   \n",
       " 12wallmidspan                 NaN         NaN           NaN        59.062   \n",
       " 12wallmidspan             -45.996     171.968           NaN           NaN   \n",
       " 12wallsupport_x_small         NaN         NaN        29.479           NaN   \n",
       " 12wallsupport_x_small     -81.534     -31.901           NaN           NaN   \n",
       " 12wallsupport_x_small         NaN         NaN           NaN        66.405   \n",
       " 12wallsupport_x_small     -47.687    -104.599           NaN           NaN   \n",
       " 12wallsupport_x_large         NaN         NaN        53.146           NaN   \n",
       " 12wallsupport_x_large    -177.933     -69.964           NaN           NaN   \n",
       " 12wallsupport_x_large         NaN         NaN           NaN        15.877   \n",
       " 12wallsupport_x_large     -17.166     -36.965           NaN           NaN   \n",
       " 12wallsupport_z_small         NaN         NaN        78.231           NaN   \n",
       " 12wallsupport_z_small    -230.640    -123.584           NaN           NaN   \n",
       " 12wallsupport_z_small         NaN         NaN           NaN        30.906   \n",
       " 12wallsupport_z_small    -282.532     -92.469           NaN           NaN   \n",
       " 12wallsupport_z_large         NaN         NaN         6.162           NaN   \n",
       " 12wallsupport_z_large      -9.415     -92.595           NaN           NaN   \n",
       " 12wallsupport_z_large         NaN         NaN           NaN        32.953   \n",
       " 12wallsupport_z_large      -9.551     -57.083           NaN           NaN   \n",
       " 13wallmidspan                 NaN         NaN        53.492           NaN   \n",
       " 13wallmidspan             -89.566     187.771           NaN           NaN   \n",
       " 13wallmidspan                 NaN         NaN           NaN       125.790   \n",
       " 13wallmidspan            -130.900     192.600           NaN           NaN   \n",
       " 13wallsupport_y_small         NaN         NaN        33.204           NaN   \n",
       " 13wallsupport_y_small    -111.012    -135.024           NaN           NaN   \n",
       " 13wallsupport_y_small         NaN         NaN           NaN        37.081   \n",
       " 13wallsupport_y_small    -102.143     -84.718           NaN           NaN   \n",
       " 13wallsupport_y_large         NaN         NaN        29.665           NaN   \n",
       " 13wallsupport_y_large      77.801      35.482           NaN           NaN   \n",
       "...                            ...         ...           ...           ...   \n",
       " 底板1342support_x_large         NaN         NaN           NaN        89.467   \n",
       " 底板1342support_x_large    -113.503    -185.490           NaN           NaN   \n",
       " 底板1342support_y_small         NaN         NaN       106.810           NaN   \n",
       " 底板1342support_y_small     132.650    -204.694           NaN           NaN   \n",
       " 底板1342support_y_small         NaN         NaN           NaN        51.877   \n",
       " 底板1342support_y_small    -159.004    -141.561           NaN           NaN   \n",
       " 底板1342support_y_large         NaN         NaN        78.231           NaN   \n",
       " 底板1342support_y_large    -186.529    -123.584           NaN           NaN   \n",
       " 底板1342support_y_large         NaN         NaN           NaN        47.581   \n",
       " 底板1342support_y_large      57.516     -67.826           NaN           NaN   \n",
       " 底板3456midspan                 NaN         NaN       -11.858           NaN   \n",
       " 底板3456midspan              23.214     -11.724           NaN           NaN   \n",
       " 底板3456midspan                 NaN         NaN           NaN        39.952   \n",
       " 底板3456midspan             -51.316    -119.225           NaN           NaN   \n",
       " 底板3456support_x_small         NaN         NaN        54.129           NaN   \n",
       " 底板3456support_x_small     -28.246    -125.685           NaN           NaN   \n",
       " 底板3456support_x_small         NaN         NaN           NaN        69.949   \n",
       " 底板3456support_x_small      34.054    -126.690           NaN           NaN   \n",
       " 底板3456support_x_large         NaN         NaN        65.000           NaN   \n",
       " 底板3456support_x_large     250.276    -157.159           NaN           NaN   \n",
       " 底板3456support_x_large         NaN         NaN           NaN        62.725   \n",
       " 底板3456support_x_large     -90.846    -153.971           NaN           NaN   \n",
       " 底板3456support_y_small         NaN         NaN        43.566           NaN   \n",
       " 底板3456support_y_small    -119.601    -118.168           NaN           NaN   \n",
       " 底板3456support_y_small         NaN         NaN           NaN        41.810   \n",
       " 底板3456support_y_small      56.028      66.805           NaN           NaN   \n",
       " 底板3456support_y_large         NaN         NaN       106.810           NaN   \n",
       " 底板3456support_y_large     166.346    -204.694           NaN           NaN   \n",
       " 底板3456support_y_large         NaN         NaN           NaN        46.948   \n",
       " 底板3456support_y_large    -153.829    -105.127           NaN           NaN   \n",
       "\n",
       "                          case  element  \n",
       " 12wallmidspan          clcB20     68.0  \n",
       " 12wallmidspan             NaN      NaN  \n",
       " 12wallmidspan           clcB8     68.0  \n",
       " 12wallmidspan             NaN      NaN  \n",
       " 12wallsupport_x_small   cLCB2      1.0  \n",
       " 12wallsupport_x_small     NaN      NaN  \n",
       " 12wallsupport_x_small  clcB21     41.0  \n",
       " 12wallsupport_x_small     NaN      NaN  \n",
       " 12wallsupport_x_large   clcB9      8.0  \n",
       " 12wallsupport_x_large     NaN      NaN  \n",
       " 12wallsupport_x_large  clcB18     56.0  \n",
       " 12wallsupport_x_large     NaN      NaN  \n",
       " 12wallsupport_z_small   clcB9      5.0  \n",
       " 12wallsupport_z_small     NaN      NaN  \n",
       " 12wallsupport_z_small   clcB4      4.0  \n",
       " 12wallsupport_z_small     NaN      NaN  \n",
       " 12wallsupport_z_large  clcB16    153.0  \n",
       " 12wallsupport_z_large     NaN      NaN  \n",
       " 12wallsupport_z_large  clcB15    153.0  \n",
       " 12wallsupport_z_large     NaN      NaN  \n",
       " 13wallmidspan           cLCB5    245.0  \n",
       " 13wallmidspan             NaN      NaN  \n",
       " 13wallmidspan           clcB4    245.0  \n",
       " 13wallmidspan             NaN      NaN  \n",
       " 13wallsupport_y_small   clcB9    161.0  \n",
       " 13wallsupport_y_small     NaN      NaN  \n",
       " 13wallsupport_y_small  clcB21    231.0  \n",
       " 13wallsupport_y_small     NaN      NaN  \n",
       " 13wallsupport_y_large   clcB9    170.0  \n",
       " 13wallsupport_y_large     NaN      NaN  \n",
       "...                        ...      ...  \n",
       " 底板1342support_x_large   cLCB2   1208.0  \n",
       " 底板1342support_x_large     NaN      NaN  \n",
       " 底板1342support_y_small   clcB4   1245.0  \n",
       " 底板1342support_y_small     NaN      NaN  \n",
       " 底板1342support_y_small  clcB21   1241.0  \n",
       " 底板1342support_y_small     NaN      NaN  \n",
       " 底板1342support_y_large   clcB9   1173.0  \n",
       " 底板1342support_y_large     NaN      NaN  \n",
       " 底板1342support_y_large  clcB21   1169.0  \n",
       " 底板1342support_y_large     NaN      NaN  \n",
       " 底板3456midspan          cLCB37   1275.0  \n",
       " 底板3456midspan             NaN      NaN  \n",
       " 底板3456midspan          clcB22   1275.0  \n",
       " 底板3456midspan             NaN      NaN  \n",
       " 底板3456support_x_small  clcB10   1281.0  \n",
       " 底板3456support_x_small     NaN      NaN  \n",
       " 底板3456support_x_small  clcB22   1281.0  \n",
       " 底板3456support_x_small     NaN      NaN  \n",
       " 底板3456support_x_large  clcB11   1256.0  \n",
       " 底板3456support_x_large     NaN      NaN  \n",
       " 底板3456support_x_large   cLCB2   1280.0  \n",
       " 底板3456support_x_large     NaN      NaN  \n",
       " 底板3456support_y_small   clcB7   1309.0  \n",
       " 底板3456support_y_small     NaN      NaN  \n",
       " 底板3456support_y_small  clcB22   1305.0  \n",
       " 底板3456support_y_small     NaN      NaN  \n",
       " 底板3456support_y_large   clcB4   1253.0  \n",
       " 底板3456support_y_large     NaN      NaN  \n",
       " 底板3456support_y_large  clcB22   1250.0  \n",
       " 底板3456support_y_large     NaN      NaN  \n",
       "\n",
       "[180 rows x 6 columns]"
      ]
     },
     "execution_count": 47,
     "metadata": {},
     "output_type": "execute_result"
    }
   ],
   "source": [
    "model.GetDomainInnerForceResult(case,requirements)"
   ]
  },
  {
   "cell_type": "code",
   "execution_count": 48,
   "metadata": {
    "collapsed": true
   },
   "outputs": [],
   "source": [
    "a=1"
   ]
  },
  {
   "cell_type": "code",
   "execution_count": 49,
   "metadata": {
    "collapsed": false
   },
   "outputs": [
    {
     "name": "stdout",
     "output_type": "stream",
     "text": [
      "1\n"
     ]
    }
   ],
   "source": [
    "print(a)"
   ]
  },
  {
   "cell_type": "code",
   "execution_count": null,
   "metadata": {
    "collapsed": true
   },
   "outputs": [],
   "source": []
  }
 ],
 "metadata": {
  "kernelspec": {
   "display_name": "Python [conda root]",
   "language": "python",
   "name": "conda-root-py"
  },
  "language_info": {
   "codemirror_mode": {
    "name": "ipython",
    "version": 3
   },
   "file_extension": ".py",
   "mimetype": "text/x-python",
   "name": "python",
   "nbconvert_exporter": "python",
   "pygments_lexer": "ipython3",
   "version": "3.6.9"
  }
 },
 "nbformat": 4,
 "nbformat_minor": 2
}
