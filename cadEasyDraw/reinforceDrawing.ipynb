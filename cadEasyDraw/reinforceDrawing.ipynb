{
 "cells": [
  {
   "cell_type": "code",
   "execution_count": 1,
   "metadata": {
    "collapsed": true
   },
   "outputs": [],
   "source": [
    "import sys"
   ]
  },
  {
   "cell_type": "code",
   "execution_count": 15,
   "metadata": {
    "collapsed": true
   },
   "outputs": [],
   "source": [
    "import time "
   ]
  },
  {
   "cell_type": "code",
   "execution_count": 2,
   "metadata": {
    "collapsed": true
   },
   "outputs": [],
   "source": [
    "import win32com"
   ]
  },
  {
   "cell_type": "code",
   "execution_count": 3,
   "metadata": {
    "collapsed": true
   },
   "outputs": [],
   "source": [
    "sys.path.append(r'F:\\PycharmProject\\PycomCAD')"
   ]
  },
  {
   "cell_type": "code",
   "execution_count": 4,
   "metadata": {
    "collapsed": true
   },
   "outputs": [],
   "source": [
    "from pycomcad import *"
   ]
  },
  {
   "cell_type": "code",
   "execution_count": 5,
   "metadata": {
    "collapsed": true
   },
   "outputs": [],
   "source": [
    "acad=Autocad()"
   ]
  },
  {
   "cell_type": "code",
   "execution_count": 6,
   "metadata": {
    "collapsed": false
   },
   "outputs": [
    {
     "data": {
      "text/plain": [
       "'综合水泵房.dwg'"
      ]
     },
     "execution_count": 6,
     "metadata": {},
     "output_type": "execute_result"
    }
   ],
   "source": [
    "acad.CurrentFilename"
   ]
  },
  {
   "cell_type": "code",
   "execution_count": 7,
   "metadata": {
    "collapsed": false
   },
   "outputs": [
    {
     "data": {
      "text/plain": [
       "True"
      ]
     },
     "execution_count": 7,
     "metadata": {},
     "output_type": "execute_result"
    }
   ],
   "source": [
    "acad.IsEarlyBind"
   ]
  },
  {
   "cell_type": "code",
   "execution_count": 8,
   "metadata": {
    "collapsed": true
   },
   "outputs": [],
   "source": [
    "# acad.TurnOnEarlyBind()"
   ]
  },
  {
   "cell_type": "code",
   "execution_count": 40,
   "metadata": {
    "collapsed": true
   },
   "outputs": [],
   "source": [
    "def dotRein(diameter=20,space=200,n=5,scale=50):\n",
    "    \"\"\"\n",
    "    diameter:点钢筋直径\n",
    "    space:点钢筋间距\n",
    "    n:一侧的钢筋数\n",
    "    scale:绘图比例\n",
    "    \"\"\"\n",
    "    blkname='bl'\n",
    "    space=space/scale\n",
    "    x1,y1,z1=acad.GetPoint()\n",
    "    x2,y2,z2=acad.GetPoint()\n",
    "    x3,y3,z3=acad.GetPoint()\n",
    "    vectorX=(x2-x1)/((y2-y1)**2+(x2-x1)**2)**0.5\n",
    "    vectorY=(y2-y1)/((y2-y1)**2+(x2-x1)**2)**0.5\n",
    "    nvectorX=1\n",
    "    if vectorY==0:\n",
    "        nvectorY=1\n",
    "        nvectorX=0\n",
    "    else:\n",
    "        nvectorY=-vectorX/vectorY\n",
    "    middlePnt=Apoint((x1+x2)/2,(y1+y2)/2)\n",
    "    mirrorPnt=Apoint((x1+x2)/2+nvectorX,(y1+y2)/2+nvectorY)\n",
    "    l=acad.AddLine(Apoint(x1,y1),Apoint(x3,y3))\n",
    "    for i in range(n):\n",
    "        coord=(x1+i*vectorX*space,y1+i*vectorY*space)\n",
    "        c=acad.AddCircle(Apoint(*coord),0.5)\n",
    "        hatch=acad.AddHatch(1,'SOLID',True,(c,))\n",
    "        c.Mirror(middlePnt,mirrorPnt)\n",
    "        hatch.Mirror(middlePnt,mirrorPnt)\n",
    "        ll=l.Copy()\n",
    "        ll.Move(Apoint(x1,y1),Apoint(*coord))\n",
    "        lm=ll.Mirror(middlePnt,mirrorPnt)\n",
    "        if i==0:\n",
    "            p1=ll.EndPoint\n",
    "            p2=lm.EndPoint\n",
    "            acad.AddLine(Apoint(*p1),Apoint(*p2))\n",
    "    \n",
    "    "
   ]
  },
  {
   "cell_type": "code",
   "execution_count": 42,
   "metadata": {
    "collapsed": false
   },
   "outputs": [],
   "source": [
    "dotRein()"
   ]
  },
  {
   "cell_type": "code",
   "execution_count": null,
   "metadata": {
    "collapsed": true
   },
   "outputs": [],
   "source": []
  }
 ],
 "metadata": {
  "kernelspec": {
   "display_name": "Python [conda root]",
   "language": "python",
   "name": "conda-root-py"
  },
  "language_info": {
   "codemirror_mode": {
    "name": "ipython",
    "version": 3
   },
   "file_extension": ".py",
   "mimetype": "text/x-python",
   "name": "python",
   "nbconvert_exporter": "python",
   "pygments_lexer": "ipython3",
   "version": "3.6.9"
  }
 },
 "nbformat": 4,
 "nbformat_minor": 2
}
