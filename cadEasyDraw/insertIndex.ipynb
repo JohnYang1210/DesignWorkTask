{
 "cells": [
  {
   "cell_type": "code",
   "execution_count": 1,
   "metadata": {
    "collapsed": true
   },
   "outputs": [],
   "source": [
    "import sys"
   ]
  },
  {
   "cell_type": "code",
   "execution_count": 2,
   "metadata": {
    "collapsed": true
   },
   "outputs": [],
   "source": [
    "sys.path.append(r'F:\\PycharmProject\\PycomCAD')"
   ]
  },
  {
   "cell_type": "code",
   "execution_count": 3,
   "metadata": {
    "collapsed": true
   },
   "outputs": [],
   "source": [
    "from pycomcad import *"
   ]
  },
  {
   "cell_type": "code",
   "execution_count": 4,
   "metadata": {
    "collapsed": true
   },
   "outputs": [],
   "source": [
    "acad=Autocad()"
   ]
  },
  {
   "cell_type": "code",
   "execution_count": 5,
   "metadata": {
    "collapsed": false
   },
   "outputs": [
    {
     "data": {
      "text/plain": [
       "'截洪沟灰场20200828.dwg'"
      ]
     },
     "execution_count": 5,
     "metadata": {},
     "output_type": "execute_result"
    }
   ],
   "source": [
    "acad.CurrentFilename"
   ]
  },
  {
   "cell_type": "code",
   "execution_count": 15,
   "metadata": {
    "collapsed": true
   },
   "outputs": [],
   "source": [
    "def doit(prefix='',height=3,rever=False):\n",
    "    while True:\n",
    "#         acad.InitializeUserInput(0,'q')\n",
    "#         q=acad.GetKeyword('q退出')\n",
    "#         if q=='q':\n",
    "#             break \n",
    "        num=acad.GetInteger('序号：')\n",
    "        if num<0:\n",
    "            break\n",
    "        index=prefix+str(num)\n",
    "        pnt=acad.GetPoint()\n",
    "        t=acad.AddText(index,Apoint(*pnt),height)\n",
    "        if rever:\n",
    "            t.Rotation=AngleDtoR(90)"
   ]
  },
  {
   "cell_type": "code",
   "execution_count": 16,
   "metadata": {
    "collapsed": false
   },
   "outputs": [
    {
     "ename": "com_error",
     "evalue": "(-2147352567, '发生意外。', (0, None, None, None, 0, -2147352567), None)",
     "output_type": "error",
     "traceback": [
      "\u001b[0;31m---------------------------------------------------------------------------\u001b[0m",
      "\u001b[0;31mcom_error\u001b[0m                                 Traceback (most recent call last)",
      "\u001b[0;32m<ipython-input-16-9e039e7b0d89>\u001b[0m in \u001b[0;36m<module>\u001b[0;34m()\u001b[0m\n\u001b[0;32m----> 1\u001b[0;31m \u001b[0mdoit\u001b[0m\u001b[1;33m(\u001b[0m\u001b[0mprefix\u001b[0m\u001b[1;33m=\u001b[0m\u001b[1;34m'J-'\u001b[0m\u001b[1;33m,\u001b[0m\u001b[0mheight\u001b[0m\u001b[1;33m=\u001b[0m\u001b[1;36m2.5\u001b[0m\u001b[1;33m,\u001b[0m\u001b[0mrever\u001b[0m\u001b[1;33m=\u001b[0m\u001b[1;32mTrue\u001b[0m\u001b[1;33m)\u001b[0m\u001b[1;33m\u001b[0m\u001b[1;33m\u001b[0m\u001b[0m\n\u001b[0m",
      "\u001b[0;32m<ipython-input-15-df38b3ed5028>\u001b[0m in \u001b[0;36mdoit\u001b[0;34m(prefix, height, rever)\u001b[0m\n\u001b[1;32m      5\u001b[0m \u001b[1;31m#         if q=='q':\u001b[0m\u001b[1;33m\u001b[0m\u001b[1;33m\u001b[0m\u001b[1;33m\u001b[0m\u001b[0m\n\u001b[1;32m      6\u001b[0m \u001b[1;31m#             break\u001b[0m\u001b[1;33m\u001b[0m\u001b[1;33m\u001b[0m\u001b[1;33m\u001b[0m\u001b[0m\n\u001b[0;32m----> 7\u001b[0;31m         \u001b[0mnum\u001b[0m\u001b[1;33m=\u001b[0m\u001b[0macad\u001b[0m\u001b[1;33m.\u001b[0m\u001b[0mGetInteger\u001b[0m\u001b[1;33m(\u001b[0m\u001b[1;34m'序号：'\u001b[0m\u001b[1;33m)\u001b[0m\u001b[1;33m\u001b[0m\u001b[1;33m\u001b[0m\u001b[0m\n\u001b[0m\u001b[1;32m      8\u001b[0m         \u001b[1;32mif\u001b[0m \u001b[0mnum\u001b[0m\u001b[1;33m<\u001b[0m\u001b[1;36m0\u001b[0m\u001b[1;33m:\u001b[0m\u001b[1;33m\u001b[0m\u001b[1;33m\u001b[0m\u001b[0m\n\u001b[1;32m      9\u001b[0m             \u001b[1;32mbreak\u001b[0m\u001b[1;33m\u001b[0m\u001b[1;33m\u001b[0m\u001b[0m\n",
      "\u001b[0;32mF:\\PycharmProject\\PycomCAD\\pycomcad.py\u001b[0m in \u001b[0;36mGetInteger\u001b[0;34m(self, prompt)\u001b[0m\n\u001b[1;32m   1306\u001b[0m                 \u001b[0mGets\u001b[0m \u001b[0man\u001b[0m \u001b[0minteger\u001b[0m \u001b[0mvalue\u001b[0m \u001b[1;32mfrom\u001b[0m \u001b[0mthe\u001b[0m \u001b[0muser\u001b[0m\u001b[1;33m.\u001b[0m\u001b[1;33m\u001b[0m\u001b[1;33m\u001b[0m\u001b[0m\n\u001b[1;32m   1307\u001b[0m \t\t\"\"\"\n\u001b[0;32m-> 1308\u001b[0;31m                 \u001b[1;32mreturn\u001b[0m \u001b[0mself\u001b[0m\u001b[1;33m.\u001b[0m\u001b[0macad\u001b[0m\u001b[1;33m.\u001b[0m\u001b[0mActiveDocument\u001b[0m\u001b[1;33m.\u001b[0m\u001b[0mUtility\u001b[0m\u001b[1;33m.\u001b[0m\u001b[0mGetInteger\u001b[0m\u001b[1;33m(\u001b[0m\u001b[0mprompt\u001b[0m\u001b[1;33m)\u001b[0m\u001b[1;33m\u001b[0m\u001b[1;33m\u001b[0m\u001b[0m\n\u001b[0m\u001b[1;32m   1309\u001b[0m \u001b[1;33m\u001b[0m\u001b[0m\n\u001b[1;32m   1310\u001b[0m \u001b[1;31m#       def GetSelectionSets(self,string):\u001b[0m\u001b[1;33m\u001b[0m\u001b[1;33m\u001b[0m\u001b[1;33m\u001b[0m\u001b[0m\n",
      "\u001b[0;32mE:\\software\\Anaconda\\lib\\site-packages\\win32com\\client\\dynamic.py\u001b[0m in \u001b[0;36mGetInteger\u001b[0;34m(self, Prompt)\u001b[0m\n",
      "\u001b[0;31mcom_error\u001b[0m: (-2147352567, '发生意外。', (0, None, None, None, 0, -2147352567), None)"
     ]
    }
   ],
   "source": [
    "doit(prefix='J-',height=2.5,rever=True)"
   ]
  },
  {
   "cell_type": "code",
   "execution_count": null,
   "metadata": {
    "collapsed": true
   },
   "outputs": [],
   "source": []
  }
 ],
 "metadata": {
  "kernelspec": {
   "display_name": "Python [conda root]",
   "language": "python",
   "name": "conda-root-py"
  },
  "language_info": {
   "codemirror_mode": {
    "name": "ipython",
    "version": 3
   },
   "file_extension": ".py",
   "mimetype": "text/x-python",
   "name": "python",
   "nbconvert_exporter": "python",
   "pygments_lexer": "ipython3",
   "version": "3.6.9"
  }
 },
 "nbformat": 4,
 "nbformat_minor": 2
}
