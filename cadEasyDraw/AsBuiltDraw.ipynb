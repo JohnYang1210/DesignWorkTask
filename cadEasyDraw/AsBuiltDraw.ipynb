{
 "cells": [
  {
   "cell_type": "code",
   "execution_count": 1,
   "metadata": {},
   "outputs": [],
   "source": [
    "import os"
   ]
  },
  {
   "cell_type": "code",
   "execution_count": 2,
   "metadata": {},
   "outputs": [],
   "source": [
    "import pandas as pd"
   ]
  },
  {
   "cell_type": "code",
   "execution_count": 3,
   "metadata": {},
   "outputs": [],
   "source": [
    "import docx"
   ]
  },
  {
   "cell_type": "code",
   "execution_count": 4,
   "metadata": {},
   "outputs": [],
   "source": [
    "import shutil"
   ]
  },
  {
   "cell_type": "code",
   "execution_count": 5,
   "metadata": {},
   "outputs": [],
   "source": [
    "import glob"
   ]
  },
  {
   "cell_type": "code",
   "execution_count": 6,
   "metadata": {},
   "outputs": [],
   "source": [
    "import numpy as np"
   ]
  },
  {
   "cell_type": "code",
   "execution_count": 7,
   "metadata": {},
   "outputs": [],
   "source": [
    "import sys"
   ]
  },
  {
   "cell_type": "code",
   "execution_count": 8,
   "metadata": {},
   "outputs": [],
   "source": [
    "import win32com.client"
   ]
  },
  {
   "cell_type": "code",
   "execution_count": 9,
   "metadata": {},
   "outputs": [],
   "source": [
    "sys.path.append(r'E:\\programming\\pycomcad\\PycomCAD')"
   ]
  },
  {
   "cell_type": "code",
   "execution_count": 10,
   "metadata": {},
   "outputs": [],
   "source": [
    "import os"
   ]
  },
  {
   "cell_type": "code",
   "execution_count": 11,
   "metadata": {},
   "outputs": [],
   "source": [
    "from pycomcad import *"
   ]
  },
  {
   "cell_type": "code",
   "execution_count": 12,
   "metadata": {},
   "outputs": [],
   "source": [
    "def createMN(path):\n",
    "    filename0=os.path.split(path)[1].split('-')[-1][:5]\n",
    "    filename='50-F07281Z-'+filename0+'-00.REV.0.docx'\n",
    "    filename=os.path.join(path,filename)\n",
    "    shutil.copyfile(r'E:\\工作\\印尼西加 竣工图\\Demo\\水工修改说明.docx',filename)\n",
    "    doc=docx.Document(filename)\n",
    "    tb=doc.tables[0]\n",
    "    p=tb.cell(13,10).add_paragraph('    ')\n",
    "    p.add_run('50-F07281Z-'+filename0+'-00').bold = True\n",
    "    doc.save(filename)\n",
    "    print(tb.cell(13,10).text)\n",
    "    print('新增文档分割线'.center(30,'-'))"
   ]
  },
  {
   "cell_type": "code",
   "execution_count": 13,
   "metadata": {},
   "outputs": [],
   "source": [
    "def batchCreateMN(path):\n",
    "    a=0\n",
    "    for curPath,nexPath,files in os.walk(path):\n",
    "        if 'REV' in curPath:\n",
    "            createMN(curPath)\n",
    "            a+=1\n",
    "        if nexPath:\n",
    "            for path in nexPath:\n",
    "                path=os.path.join(curPath,path)\n",
    "                batchCreateMN(path)\n",
    "    return '%s files have been created successfully and correctly' % a"
   ]
  },
  {
   "cell_type": "code",
   "execution_count": 14,
   "metadata": {
    "scrolled": true
   },
   "outputs": [],
   "source": [
    "# batchCreateMN(r'E:\\工作\\印尼西加 竣工图\\竣工图')"
   ]
  },
  {
   "cell_type": "code",
   "execution_count": 15,
   "metadata": {},
   "outputs": [],
   "source": [
    "import sys\n",
    "sys.path.append(r'E:\\programming\\pycomcad\\PycomCAD')\n",
    "from pycomcad import *"
   ]
  },
  {
   "cell_type": "code",
   "execution_count": 16,
   "metadata": {},
   "outputs": [],
   "source": [
    "acad=Autocad()"
   ]
  },
  {
   "cell_type": "code",
   "execution_count": 17,
   "metadata": {},
   "outputs": [],
   "source": [
    "if not acad.IsEarlyBind:\n",
    "    acad.TurnOnEarlyBind()"
   ]
  },
  {
   "cell_type": "code",
   "execution_count": 18,
   "metadata": {},
   "outputs": [],
   "source": [
    "blk=acad.GetEntity() #选择竣工图图标"
   ]
  },
  {
   "cell_type": "code",
   "execution_count": 19,
   "metadata": {},
   "outputs": [],
   "source": [
    "blk=blk[0]"
   ]
  },
  {
   "cell_type": "code",
   "execution_count": 20,
   "metadata": {},
   "outputs": [],
   "source": [
    "def is_Chinese(word):\n",
    "    for ch in word:\n",
    "        if '\\u4e00' <= ch <= '\\u9fff':\n",
    "            return True\n",
    "    return False"
   ]
  },
  {
   "cell_type": "code",
   "execution_count": 21,
   "metadata": {},
   "outputs": [],
   "source": [
    "def getSeleCoord(x,y,deltaX,deltaY):\n",
    "    \"\"\"\n",
    "    x,y：左下角选中点的坐标\n",
    "    deltax，deltay：与右上角点的坐标差，均为正值。\n",
    "    \"\"\"\n",
    "    ini=np.full((4,3),(x,y,0))\n",
    "    delt=np.array([[-deltaX,deltaY,0],\n",
    "                   [0,deltaY,0],\n",
    "                   [0,0,0],\n",
    "                  [-deltaX,0,0]])\n",
    "    return (ini+delt).flatten().tolist()"
   ]
  },
  {
   "cell_type": "code",
   "execution_count": 24,
   "metadata": {},
   "outputs": [],
   "source": [
    "def DealOne(acad,ent,i,jg):\n",
    "    texts=[]\n",
    "    data=[None]*11\n",
    "    data[0]=i+2\n",
    "    data[2]='xx专业'\n",
    "    data[5]=3152\n",
    "    data[6]=2641\n",
    "    data[9]='0版'\n",
    "    coords=np.array(ent.Coordinates).reshape((4,2))\n",
    "    x,y=coords.max(axis=0)[0],coords.min(axis=0)[1]\n",
    "    print('%s x,y-->'%i,(x,y))\n",
    "    sltDwNo=acad.GetSelectionSets('DwNo')\n",
    "    c=getSeleCoord(x-33.35,y+10,51,8.5)\n",
    "    print('图号范围：',c)\n",
    "    sltDwNo.SelectByPolygon(Mode=win32com.client.constants.acSelectionSetWindowPolygon,PointsList=VtVertex(*c))\n",
    "    # 提取，修正，保存图号\n",
    "    for j in range(sltDwNo.Count):\n",
    "        dwNo=acad.Handle2Object(sltDwNo.Item(j).Handle)\n",
    "        if dwNo.EntityName not in ['AcDbMText','AcDbText']:\n",
    "            continue \n",
    "        dwNoStr='50-F07281Z-'+dwNo.TextString[-8:-1]+dwNo.TextString[-1]\n",
    "        data[1]=dwNoStr\n",
    "        texts.append((dwNoStr,dwNo.Height,dwNo.InsertionPoint,dwNo.StyleName))\n",
    "    #提取，修正图名  \n",
    "    sltDwName=acad.GetSelectionSets('DwName')\n",
    "    c=getSeleCoord(x-10,y+18.5,86,17)\n",
    "    print('图名范围',c)\n",
    "    sltDwName.SelectByPolygon(Mode=win32com.client.constants.acSelectionSetWindowPolygon,PointsList=VtVertex(*c))\n",
    "    ch=''\n",
    "    en=''\n",
    "    for k in range(sltDwName.Count):\n",
    "        dwName=acad.Handle2Object(sltDwName.Item(k).Handle)\n",
    "        if dwName.EntityName not in ['AcDbMText','AcDbText']:\n",
    "            continue\n",
    "        content=dwName.TextString\n",
    "        if is_Chinese(content):\n",
    "            ch=ch+content.replace('施工图','竣工图')\n",
    "        else:\n",
    "            en=en+content\n",
    "        texts.append((content.replace('施工图','竣工图'),dwName.Height,dwName.InsertionPoint,dwName.StyleName))  #存储text信息\n",
    "    data[3]=ch\n",
    "    data[4]=en\n",
    "    \n",
    "    #选取施工图范围，删除施工图图标\n",
    "    sltSg=acad.GetSelectionSets('sltSg')\n",
    "    c=getSeleCoord(x-9,y+9,182,156)\n",
    "    print('施工图图标范围：',c)\n",
    "    sltSg.SelectByPolygon(Mode=win32com.client.constants.acSelectionSetWindowPolygon,PointsList=VtVertex(*c))\n",
    "    for m in range(sltSg.Count):\n",
    "        ent=sltSg.Item(m)\n",
    "        ent.Delete()\n",
    "    print('%s Delete...'% i)\n",
    "    sltDwNo.Delete()\n",
    "    sltDwName.Delete()\n",
    "    sltSg.Delete()\n",
    "    \n",
    "    #添加竣工图图标\n",
    "    jg.Copy()\n",
    "    jg.Move(Apoint(*jg.InsertionPoint),Apoint(x-10,y+10))\n",
    "    #添加图名，图号\n",
    "    for t in texts:\n",
    "        text=acad.AddText(t[0],Apoint(*t[2]),t[1])\n",
    "        text.StyleName=t[3]\n",
    "    return data\n",
    "    "
   ]
  },
  {
   "cell_type": "code",
   "execution_count": 25,
   "metadata": {},
   "outputs": [],
   "source": [
    "\n",
    "def batchModify(acad,path,blk):\n",
    "    \"\"\"\n",
    "    移除施工图图标，添加竣工图图标，并读取图纸名称，写入图纸清单\n",
    "    acad:cad app，需要注意的是需要先打开竣工图图标的图纸\n",
    "    path:cad路径\n",
    "    blk:竣工图图标\n",
    "    \"\"\"\n",
    "    dfFilename=path[:-4]+'.xlsx'\n",
    "    colName=['序号', '图号', '专业', '中文图名', '英文图名', '设计人', '校核人', '计划出处日期', '备注', '版本号', '业主图号']\n",
    "    acad.OpenFile(path)\n",
    "    acad.ActivateFile(0)\n",
    "    jg=acad.DeepClone((blk,),1)[0][0]\n",
    "    acad.ActivateFile(1)\n",
    "    slt=acad.GetSelectionSets('slt2')\n",
    "    slt.SelectOnScreen()               #选择施工的图框\n",
    "    df=pd.DataFrame(columns=colName,index=range(slt.Count+1)) #存放图号，图名的内容\n",
    "    df.iloc[0]=[1,None,'xx专业','修改说明','Description of modification',3132,2641,None,None,'0版',None]\n",
    "    for i in range(slt.Count):\n",
    "        ent=acad.Handle2Object(slt.Item(i).Handle)\n",
    "        if ent:\n",
    "            data=DealOne(acad,ent,i,jg)\n",
    "            print('data',data)\n",
    "            df.iloc[i+1]=data\n",
    "    df.to_excel(dfFilename,index=False)\n",
    "    slt.Delete()"
   ]
  },
  {
   "cell_type": "code",
   "execution_count": 26,
   "metadata": {
    "scrolled": true
   },
   "outputs": [
    {
     "name": "stdout",
     "output_type": "stream",
     "text": [
      "0 x,y--> (2399.9395300112155, 142.58980493826857)\n",
      "图号范围： [2315.5895300112156, 161.08980493826857, 0.0, 2366.5895300112156, 161.08980493826857, 0.0, 2366.5895300112156, 152.58980493826857, 0.0, 2315.5895300112156, 152.58980493826857, 0.0]\n",
      "图名范围 [2303.9395300112155, 178.08980493826857, 0.0, 2389.9395300112155, 178.08980493826857, 0.0, 2389.9395300112155, 161.08980493826857, 0.0, 2303.9395300112155, 161.08980493826857, 0.0]\n",
      "施工图图标范围： [2208.9395300112155, 307.58980493826857, 0.0, 2390.9395300112155, 307.58980493826857, 0.0, 2390.9395300112155, 151.58980493826857, 0.0, 2208.9395300112155, 151.58980493826857, 0.0]\n",
      "0 Delete...\n",
      "data [2, '50-F07281Z-20403-01', 'xx专业', '', '', 3152, 2641, None, None, '0版', None]\n",
      "1 x,y--> (3465.747232200316, 142.58980493826857)\n",
      "图号范围： [3381.397232200316, 161.08980493826857, 0.0, 3432.397232200316, 161.08980493826857, 0.0, 3432.397232200316, 152.58980493826857, 0.0, 3381.397232200316, 152.58980493826857, 0.0]\n",
      "图名范围 [3369.747232200316, 178.08980493826857, 0.0, 3455.747232200316, 178.08980493826857, 0.0, 3455.747232200316, 161.08980493826857, 0.0, 3369.747232200316, 161.08980493826857, 0.0]\n",
      "施工图图标范围： [3274.747232200316, 307.58980493826857, 0.0, 3456.747232200316, 307.58980493826857, 0.0, 3456.747232200316, 151.58980493826857, 0.0, 3274.747232200316, 151.58980493826857, 0.0]\n",
      "1 Delete...\n",
      "data [3, '50-F07281Z-20403-02', 'xx专业', '循环水泵房平面图', 'Layout for CW pump house ', 3152, 2641, None, None, '0版', None]\n",
      "2 x,y--> (4619.485731840416, 142.58980493826857)\n",
      "图号范围： [4535.135731840415, 161.08980493826857, 0.0, 4586.135731840415, 161.08980493826857, 0.0, 4586.135731840415, 152.58980493826857, 0.0, 4535.135731840415, 152.58980493826857, 0.0]\n",
      "图名范围 [4523.485731840416, 178.08980493826857, 0.0, 4609.485731840416, 178.08980493826857, 0.0, 4609.485731840416, 161.08980493826857, 0.0, 4523.485731840416, 161.08980493826857, 0.0]\n",
      "施工图图标范围： [4428.485731840416, 307.58980493826857, 0.0, 4610.485731840416, 307.58980493826857, 0.0, 4610.485731840416, 151.58980493826857, 0.0, 4428.485731840416, 151.58980493826857, 0.0]\n",
      "2 Delete...\n",
      "data [4, '50-F07281Z-20403-03', 'xx专业', '钢架支撑布置及节点图', 'The Arrangement and Details for Brace Components of Steel Frame', 3152, 2641, None, None, '0版', None]\n",
      "3 x,y--> (5726.6077196254955, 142.58980493826857)\n",
      "图号范围： [5642.257719625495, 161.08980493826857, 0.0, 5693.257719625495, 161.08980493826857, 0.0, 5693.257719625495, 152.58980493826857, 0.0, 5642.257719625495, 152.58980493826857, 0.0]\n",
      "图名范围 [5630.6077196254955, 178.08980493826857, 0.0, 5716.6077196254955, 178.08980493826857, 0.0, 5716.6077196254955, 161.08980493826857, 0.0, 5630.6077196254955, 161.08980493826857, 0.0]\n",
      "施工图图标范围： [5535.6077196254955, 307.58980493826857, 0.0, 5717.6077196254955, 307.58980493826857, 0.0, 5717.6077196254955, 151.58980493826857, 0.0, 5535.6077196254955, 151.58980493826857, 0.0]\n",
      "3 Delete...\n",
      "data [5, '50-F07281Z-20403-04', 'xx专业', '屋面支撑布置及节点图', 'The Arrangement and Details for Brace Components of Roofing', 3152, 2641, None, None, '0版', None]\n",
      "4 x,y--> (6738.5688656389575, 144.57519370529712)\n",
      "图号范围： [6654.218865638957, 163.07519370529712, 0.0, 6705.218865638957, 163.07519370529712, 0.0, 6705.218865638957, 154.57519370529712, 0.0, 6654.218865638957, 154.57519370529712, 0.0]\n",
      "图名范围 [6642.5688656389575, 180.07519370529712, 0.0, 6728.5688656389575, 180.07519370529712, 0.0, 6728.5688656389575, 163.07519370529712, 0.0, 6642.5688656389575, 163.07519370529712, 0.0]\n",
      "施工图图标范围： [6547.5688656389575, 309.5751937052971, 0.0, 6729.5688656389575, 309.5751937052971, 0.0, 6729.5688656389575, 153.57519370529712, 0.0, 6547.5688656389575, 153.57519370529712, 0.0]\n",
      "4 Delete...\n",
      "data [6, '50-F07281Z-20403-05', 'xx专业', '钢框架结构图(1)', ' Structure(1) for steel frame ', 3152, 2641, None, None, '0版', None]\n",
      "5 x,y--> (7776.884792420888, 140.02586972313634)\n",
      "图号范围： [7692.534792420887, 158.52586972313634, 0.0, 7743.534792420887, 158.52586972313634, 0.0, 7743.534792420887, 150.02586972313634, 0.0, 7692.534792420887, 150.02586972313634, 0.0]\n",
      "图名范围 [7680.884792420888, 175.52586972313634, 0.0, 7766.884792420888, 175.52586972313634, 0.0, 7766.884792420888, 158.52586972313634, 0.0, 7680.884792420888, 158.52586972313634, 0.0]\n",
      "施工图图标范围： [7585.884792420888, 305.02586972313634, 0.0, 7767.884792420888, 305.02586972313634, 0.0, 7767.884792420888, 149.02586972313634, 0.0, 7585.884792420888, 149.02586972313634, 0.0]\n",
      "5 Delete...\n",
      "data [7, '50-F07281Z-20403-06', 'xx专业', '钢框架结构图(2)', ' Structure(2) for steel frame ', 3152, 2641, None, None, '0版', None]\n",
      "6 x,y--> (2399.9395300112155, -654.5206103160617)\n",
      "图号范围： [2315.5895300112156, -636.0206103160617, 0.0, 2366.5895300112156, -636.0206103160617, 0.0, 2366.5895300112156, -644.5206103160617, 0.0, 2315.5895300112156, -644.5206103160617, 0.0]\n",
      "图名范围 [2303.9395300112155, -619.0206103160617, 0.0, 2389.9395300112155, -619.0206103160617, 0.0, 2389.9395300112155, -636.0206103160617, 0.0, 2303.9395300112155, -636.0206103160617, 0.0]\n",
      "施工图图标范围： [2208.9395300112155, -489.5206103160617, 0.0, 2390.9395300112155, -489.5206103160617, 0.0, 2390.9395300112155, -645.5206103160617, 0.0, 2208.9395300112155, -645.5206103160617, 0.0]\n",
      "6 Delete...\n",
      "data [8, '50-F07281Z-20403-07', 'xx专业', '吊车梁平面布置图', 'Plan of Crane Beam', 3152, 2641, None, None, '0版', None]\n",
      "7 x,y--> (3453.8721844607244, -654.5206103160617)\n",
      "图号范围： [3369.5221844607245, -636.0206103160617, 0.0, 3420.5221844607245, -636.0206103160617, 0.0, 3420.5221844607245, -644.5206103160617, 0.0, 3369.5221844607245, -644.5206103160617, 0.0]\n",
      "图名范围 [3357.8721844607244, -619.0206103160617, 0.0, 3443.8721844607244, -619.0206103160617, 0.0, 3443.8721844607244, -636.0206103160617, 0.0, 3357.8721844607244, -636.0206103160617, 0.0]\n",
      "施工图图标范围： [3262.8721844607244, -489.5206103160617, 0.0, 3444.8721844607244, -489.5206103160617, 0.0, 3444.8721844607244, -645.5206103160617, 0.0, 3262.8721844607244, -645.5206103160617, 0.0]\n",
      "7 Delete...\n",
      "data [9, '50-F07281Z-20403-08', 'xx专业', '吊车梁与轨道连接详图', 'Joint Detail between Crane and Rail', 3152, 2641, None, None, '0版', None]\n",
      "8 x,y--> (4221.463617009065, -651.966399430843)\n",
      "图号范围： [4137.113617009065, -633.466399430843, 0.0, 4188.113617009065, -633.466399430843, 0.0, 4188.113617009065, -641.966399430843, 0.0, 4137.113617009065, -641.966399430843, 0.0]\n",
      "图名范围 [4125.463617009065, -616.466399430843, 0.0, 4211.463617009065, -616.466399430843, 0.0, 4211.463617009065, -633.466399430843, 0.0, 4125.463617009065, -633.466399430843, 0.0]\n",
      "施工图图标范围： [4030.4636170090653, -486.966399430843, 0.0, 4212.463617009065, -486.966399430843, 0.0, 4212.463617009065, -642.966399430843, 0.0, 4030.4636170090653, -642.966399430843, 0.0]\n",
      "8 Delete...\n",
      "data [10, '50-F07281Z-20403-09', 'xx专业', 'GDL5.2-Z详图', 'The Detail Drawing for GDL5.2-Z', 3152, 2641, None, None, '0版', None]\n",
      "9 x,y--> (4904.493773398639, -651.966399430843)\n",
      "图号范围： [4820.143773398639, -633.466399430843, 0.0, 4871.143773398639, -633.466399430843, 0.0, 4871.143773398639, -641.966399430843, 0.0, 4820.143773398639, -641.966399430843, 0.0]\n",
      "图名范围 [4808.493773398639, -616.466399430843, 0.0, 4894.493773398639, -616.466399430843, 0.0, 4894.493773398639, -633.466399430843, 0.0, 4808.493773398639, -633.466399430843, 0.0]\n",
      "施工图图标范围： [4713.493773398639, -486.966399430843, 0.0, 4895.493773398639, -486.966399430843, 0.0, 4895.493773398639, -642.966399430843, 0.0, 4713.493773398639, -642.966399430843, 0.0]\n",
      "9 Delete...\n",
      "data [11, '50-F07281Z-20403-10', 'xx专业', 'GDL4.5-Z详图', 'The Detail Drawing for GDL4.5-Z', 3152, 2641, None, None, '0版', None]\n",
      "10 x,y--> (5655.966651789549, -651.966399430843)\n",
      "图号范围： [5571.616651789549, -633.466399430843, 0.0, 5622.616651789549, -633.466399430843, 0.0, 5622.616651789549, -641.966399430843, 0.0, 5571.616651789549, -641.966399430843, 0.0]\n",
      "图名范围 [5559.966651789549, -616.466399430843, 0.0, 5645.966651789549, -616.466399430843, 0.0, 5645.966651789549, -633.466399430843, 0.0, 5559.966651789549, -633.466399430843, 0.0]\n",
      "施工图图标范围： [5464.966651789549, -486.966399430843, 0.0, 5646.966651789549, -486.966399430843, 0.0, 5646.966651789549, -642.966399430843, 0.0, 5464.966651789549, -642.966399430843, 0.0]\n",
      "10 Delete...\n",
      "data [12, '50-F07281Z-20403-11', 'xx专业', 'GDL6.0-B详图', 'The Detail Drawing of GDL6.0-B', 3152, 2641, None, None, '0版', None]\n",
      "11 x,y--> (6338.996808179121, -651.966399430843)\n",
      "图号范围： [6254.646808179121, -633.466399430843, 0.0, 6305.646808179121, -633.466399430843, 0.0, 6305.646808179121, -641.966399430843, 0.0, 6254.646808179121, -641.966399430843, 0.0]\n",
      "图名范围 [6242.996808179121, -616.466399430843, 0.0, 6328.996808179121, -616.466399430843, 0.0, 6328.996808179121, -633.466399430843, 0.0, 6242.996808179121, -633.466399430843, 0.0]\n"
     ]
    },
    {
     "name": "stdout",
     "output_type": "stream",
     "text": [
      "施工图图标范围： [6147.996808179121, -486.966399430843, 0.0, 6329.996808179121, -486.966399430843, 0.0, 6329.996808179121, -642.966399430843, 0.0, 6147.996808179121, -642.966399430843, 0.0]\n",
      "11 Delete...\n",
      "data [13, '50-F07281Z-20403-12', 'xx专业', 'GDL4.5-B详图', 'The Detail Drawing of GDL4.5-B', 3152, 2641, None, None, '0版', None]\n",
      "12 x,y--> (7297.888892149605, -650.1282943664773)\n",
      "图号范围： [7213.538892149605, -631.6282943664773, 0.0, 7264.538892149605, -631.6282943664773, 0.0, 7264.538892149605, -640.1282943664773, 0.0, 7213.538892149605, -640.1282943664773, 0.0]\n",
      "图名范围 [7201.888892149605, -614.6282943664773, 0.0, 7287.888892149605, -614.6282943664773, 0.0, 7287.888892149605, -631.6282943664773, 0.0, 7201.888892149605, -631.6282943664773, 0.0]\n",
      "施工图图标范围： [7106.888892149605, -485.12829436647735, 0.0, 7288.888892149605, -485.12829436647735, 0.0, 7288.888892149605, -641.1282943664773, 0.0, 7106.888892149605, -641.1282943664773, 0.0]\n",
      "12 Delete...\n",
      "data [14, '50-F07281Z-20403-13', 'xx专业', '吊车梁安装节点详图', 'Joint Detail for Crane Beam', 3152, 2641, None, None, '0版', None]\n",
      "13 x,y--> (8477.053141615299, -650.1282943664773)\n",
      "图号范围： [8392.703141615299, -631.6282943664773, 0.0, 8443.703141615299, -631.6282943664773, 0.0, 8443.703141615299, -640.1282943664773, 0.0, 8392.703141615299, -640.1282943664773, 0.0]\n",
      "图名范围 [8381.053141615299, -614.6282943664773, 0.0, 8467.053141615299, -614.6282943664773, 0.0, 8467.053141615299, -631.6282943664773, 0.0, 8381.053141615299, -631.6282943664773, 0.0]\n",
      "施工图图标范围： [8286.053141615299, -485.12829436647735, 0.0, 8468.053141615299, -485.12829436647735, 0.0, 8468.053141615299, -641.1282943664773, 0.0, 8286.053141615299, -641.1282943664773, 0.0]\n",
      "13 Delete...\n",
      "data [15, '50-F07281Z-20403-14', 'xx专业', '走道板及车挡结构详图', '', 3152, 2641, None, None, '0版', None]\n"
     ]
    }
   ],
   "source": [
    "batchModify(acad,r'E:\\工作\\印尼西加 竣工图\\竣工图\\S52循环水系统\\S520403循环水泵房上部结构施工图\\50-F07281S-S520403 REV.0\\S520403循环水泵房上部土建施工图0版.dwg',blk)"
   ]
  },
  {
   "cell_type": "code",
   "execution_count": null,
   "metadata": {},
   "outputs": [],
   "source": []
  },
  {
   "cell_type": "code",
   "execution_count": null,
   "metadata": {},
   "outputs": [],
   "source": []
  }
 ],
 "metadata": {
  "kernelspec": {
   "display_name": "Python [conda env:root] *",
   "language": "python",
   "name": "conda-root-py"
  },
  "language_info": {
   "codemirror_mode": {
    "name": "ipython",
    "version": 3
   },
   "file_extension": ".py",
   "mimetype": "text/x-python",
   "name": "python",
   "nbconvert_exporter": "python",
   "pygments_lexer": "ipython3",
   "version": "3.7.0"
  }
 },
 "nbformat": 4,
 "nbformat_minor": 2
}
