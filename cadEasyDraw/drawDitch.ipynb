{
 "cells": [
  {
   "cell_type": "code",
   "execution_count": 1,
   "metadata": {
    "collapsed": true
   },
   "outputs": [],
   "source": [
    "import sys "
   ]
  },
  {
   "cell_type": "code",
   "execution_count": 2,
   "metadata": {
    "collapsed": true
   },
   "outputs": [],
   "source": [
    "sys.path.append(r'F:\\PycharmProject\\PycomCAD')"
   ]
  },
  {
   "cell_type": "code",
   "execution_count": 3,
   "metadata": {
    "collapsed": true
   },
   "outputs": [],
   "source": [
    "from pycomcad import *"
   ]
  },
  {
   "cell_type": "code",
   "execution_count": 16,
   "metadata": {
    "collapsed": true
   },
   "outputs": [],
   "source": [
    "import win32com"
   ]
  },
  {
   "cell_type": "code",
   "execution_count": 4,
   "metadata": {
    "collapsed": true
   },
   "outputs": [],
   "source": [
    "acad=Autocad()"
   ]
  },
  {
   "cell_type": "code",
   "execution_count": 5,
   "metadata": {
    "collapsed": false
   },
   "outputs": [
    {
     "data": {
      "text/plain": [
       "'截洪沟灰场附图-20200414R(鸿业道路).dwg'"
      ]
     },
     "execution_count": 5,
     "metadata": {},
     "output_type": "execute_result"
    }
   ],
   "source": [
    "acad.CurrentFilename"
   ]
  },
  {
   "cell_type": "code",
   "execution_count": 6,
   "metadata": {
    "collapsed": false
   },
   "outputs": [
    {
     "data": {
      "text/plain": [
       "True"
      ]
     },
     "execution_count": 6,
     "metadata": {},
     "output_type": "execute_result"
    }
   ],
   "source": [
    "acad.IsEarlyBind"
   ]
  },
  {
   "cell_type": "code",
   "execution_count": 51,
   "metadata": {
    "collapsed": false
   },
   "outputs": [],
   "source": [
    "def drawDitch(l,h,slabD,wallD,scale,cusionD=100,name=None,nameHeight=5,rePad=None):\n",
    "    \"\"\"\n",
    "    l:mm,净宽\n",
    "    h:mm,净高\n",
    "    slabD:mm,底板厚度\n",
    "    wallD:mm，壁板厚度\n",
    "    scale:绘图比例\n",
    "    cusionD:mm，垫层厚度\n",
    "    name:沟渠名称\n",
    "    nameHeight:沟渠名高度\n",
    "    rePad:mm,保护层厚度，仅作绘图用，若无，则不绘制钢筋。\n",
    "    \"\"\"\n",
    "    point=acad.GetPoint()\n",
    "    x=point[0]\n",
    "    y=point[1]\n",
    "    l=l/scale\n",
    "    h=h/scale\n",
    "    slabD=slabD/scale\n",
    "    wallD=wallD/scale\n",
    "    pointArray=[x,y,x+l/2,y,x+l/2,y+h,x+l/2+wallD,y+h,x+l/2+wallD,y-slabD,\n",
    "                x-l/2-wallD,y-slabD,x-l/2-wallD,y+h,x-l/2,y+h,x-l/2,y,x,y]\n",
    "    acad.AddLwpline(*pointArray)\n",
    "    cusionD=cusionD/scale\n",
    "    acad.AddLwpline(x+l/2+wallD,y-slabD,x+l/2+wallD+cusionD,y-slabD,x+l/2+wallD+cusionD,y-slabD-cusionD,x-l/2-wallD-cusionD,y-slabD-cusionD,\n",
    "                   x-l/2-wallD-cusionD,y-slabD,x-l/2-wallD,y-slabD)\n",
    "    \n",
    "    descripLine=acad.AddLwpline(x-15,y-slabD-cusionD-10,x+15,y-slabD-cusionD-10)\n",
    "    \n",
    "    descripL=descripLine.Copy()\n",
    "    descripL.Move(Apoint(0,1.5,0),Apoint(0,0,0))\n",
    "    descripLine.ConstantWidth=1\n",
    "    if name:\n",
    "        text=name\n",
    "    else:\n",
    "        text='Ditch'\n",
    "    \n",
    "    descripText=acad.AddText(text,Apoint(x,y-slabD-cusionD-9),nameHeight)\n",
    "    descripText.Alignment=win32com.client.constants.acAlignmentBottomCenter\n",
    "    descripText.TextAlignmentPoint=Apoint(x,y-slabD-cusionD-9)\n",
    "    \n",
    "    if nameHeight>3:\n",
    "        nameHeight-=2\n",
    "\n",
    "    scaleText=acad.AddText('1:%d'% scale,Apoint(x+15,y-slabD-cusionD-9),nameHeight)\n",
    "    scaleText.Alignment=win32com.client.constants.acAlignmentMiddleLeft \n",
    "    scaleText.TextAlignmentPoint=Apoint(x+15,y-slabD-cusionD-9)\n",
    "    if rePad:\n",
    "        rePad=rePad/scale\n",
    "        slabReBottom=acad.AddLwpline()\n",
    "    \n",
    "    \n",
    "    \n",
    "    \n",
    "    "
   ]
  },
  {
   "cell_type": "code",
   "execution_count": 54,
   "metadata": {
    "collapsed": false
   },
   "outputs": [
    {
     "ename": "com_error",
     "evalue": "(-2147352567, '发生意外。', (0, None, None, None, 0, -2147352567), None)",
     "output_type": "error",
     "traceback": [
      "\u001b[0;31m---------------------------------------------------------------------------\u001b[0m",
      "\u001b[0;31mcom_error\u001b[0m                                 Traceback (most recent call last)",
      "\u001b[0;32m<ipython-input-54-4adf3527a8b5>\u001b[0m in \u001b[0;36m<module>\u001b[0;34m()\u001b[0m\n\u001b[0;32m----> 1\u001b[0;31m \u001b[0mdrawDitch\u001b[0m\u001b[1;33m(\u001b[0m\u001b[1;36m2500\u001b[0m\u001b[1;33m,\u001b[0m\u001b[1;36m2000\u001b[0m\u001b[1;33m,\u001b[0m\u001b[1;36m300\u001b[0m\u001b[1;33m,\u001b[0m\u001b[1;36m250\u001b[0m\u001b[1;33m,\u001b[0m\u001b[1;36m50\u001b[0m\u001b[1;33m,\u001b[0m\u001b[0mname\u001b[0m\u001b[1;33m=\u001b[0m\u001b[1;34m'截洪沟'\u001b[0m\u001b[1;33m)\u001b[0m\u001b[1;33m\u001b[0m\u001b[1;33m\u001b[0m\u001b[0m\n\u001b[0m",
      "\u001b[0;32m<ipython-input-51-51968cccefd7>\u001b[0m in \u001b[0;36mdrawDitch\u001b[0;34m(l, h, slabD, wallD, scale, cusionD, name, nameHeight)\u001b[0m\n\u001b[1;32m     10\u001b[0m     \u001b[0mnameHeight\u001b[0m\u001b[1;33m:\u001b[0m\u001b[0m沟渠名高度\u001b[0m\u001b[1;33m\u001b[0m\u001b[1;33m\u001b[0m\u001b[0m\n\u001b[1;32m     11\u001b[0m     \"\"\"\n\u001b[0;32m---> 12\u001b[0;31m     \u001b[0mpoint\u001b[0m\u001b[1;33m=\u001b[0m\u001b[0macad\u001b[0m\u001b[1;33m.\u001b[0m\u001b[0mGetPoint\u001b[0m\u001b[1;33m(\u001b[0m\u001b[1;33m)\u001b[0m\u001b[1;33m\u001b[0m\u001b[1;33m\u001b[0m\u001b[0m\n\u001b[0m\u001b[1;32m     13\u001b[0m     \u001b[0mx\u001b[0m\u001b[1;33m=\u001b[0m\u001b[0mpoint\u001b[0m\u001b[1;33m[\u001b[0m\u001b[1;36m0\u001b[0m\u001b[1;33m]\u001b[0m\u001b[1;33m\u001b[0m\u001b[1;33m\u001b[0m\u001b[0m\n\u001b[1;32m     14\u001b[0m     \u001b[0my\u001b[0m\u001b[1;33m=\u001b[0m\u001b[0mpoint\u001b[0m\u001b[1;33m[\u001b[0m\u001b[1;36m1\u001b[0m\u001b[1;33m]\u001b[0m\u001b[1;33m\u001b[0m\u001b[1;33m\u001b[0m\u001b[0m\n",
      "\u001b[0;32mF:\\PycharmProject\\PycomCAD\\pycomcad.py\u001b[0m in \u001b[0;36mGetPoint\u001b[0;34m(self)\u001b[0m\n\u001b[1;32m   1258\u001b[0m                 \u001b[1;32mreturn\u001b[0m \u001b[0mself\u001b[0m\u001b[1;33m.\u001b[0m\u001b[0macad\u001b[0m\u001b[1;33m.\u001b[0m\u001b[0mActiveDocument\u001b[0m\u001b[1;33m.\u001b[0m\u001b[0mUtility\u001b[0m\u001b[1;33m.\u001b[0m\u001b[0mGetAngle\u001b[0m\u001b[1;33m(\u001b[0m\u001b[0mbasePnt\u001b[0m\u001b[1;33m,\u001b[0m\u001b[0mprompt\u001b[0m\u001b[1;33m)\u001b[0m\u001b[1;33m\u001b[0m\u001b[1;33m\u001b[0m\u001b[0m\n\u001b[1;32m   1259\u001b[0m         \u001b[1;32mdef\u001b[0m \u001b[0mGetPoint\u001b[0m\u001b[1;33m(\u001b[0m\u001b[0mself\u001b[0m\u001b[1;33m)\u001b[0m\u001b[1;33m:\u001b[0m\u001b[1;33m\u001b[0m\u001b[1;33m\u001b[0m\u001b[0m\n\u001b[0;32m-> 1260\u001b[0;31m                 \u001b[1;32mreturn\u001b[0m \u001b[0mself\u001b[0m\u001b[1;33m.\u001b[0m\u001b[0macad\u001b[0m\u001b[1;33m.\u001b[0m\u001b[0mActiveDocument\u001b[0m\u001b[1;33m.\u001b[0m\u001b[0mUtility\u001b[0m\u001b[1;33m.\u001b[0m\u001b[0mGetPoint\u001b[0m\u001b[1;33m(\u001b[0m\u001b[1;33m)\u001b[0m\u001b[1;33m\u001b[0m\u001b[1;33m\u001b[0m\u001b[0m\n\u001b[0m\u001b[1;32m   1261\u001b[0m         \u001b[1;32mdef\u001b[0m \u001b[0mGetDistance\u001b[0m\u001b[1;33m(\u001b[0m\u001b[0mself\u001b[0m\u001b[1;33m,\u001b[0m\u001b[0mpnt\u001b[0m\u001b[1;33m=\u001b[0m\u001b[1;34m''\u001b[0m\u001b[1;33m,\u001b[0m\u001b[0mprompt\u001b[0m\u001b[1;33m=\u001b[0m\u001b[1;34m''\u001b[0m\u001b[1;33m)\u001b[0m\u001b[1;33m:\u001b[0m\u001b[1;33m\u001b[0m\u001b[1;33m\u001b[0m\u001b[0m\n\u001b[1;32m   1262\u001b[0m \t\t\"\"\"\n",
      "\u001b[0;32mC:\\Users\\QQ\\AppData\\Local\\Temp\\gen_py\\3.6\\851A4561-F4EC-4631-9B0C-E7DC407512C9x0x1x0.py\u001b[0m in \u001b[0;36mGetPoint\u001b[0;34m(self, Point, Prompt)\u001b[0m\n\u001b[1;32m  17421\u001b[0m         \u001b[1;32mdef\u001b[0m \u001b[0mGetPoint\u001b[0m\u001b[1;33m(\u001b[0m\u001b[0mself\u001b[0m\u001b[1;33m,\u001b[0m \u001b[0mPoint\u001b[0m\u001b[1;33m=\u001b[0m\u001b[0mdefaultNamedOptArg\u001b[0m\u001b[1;33m,\u001b[0m \u001b[0mPrompt\u001b[0m\u001b[1;33m=\u001b[0m\u001b[0mdefaultNamedOptArg\u001b[0m\u001b[1;33m)\u001b[0m\u001b[1;33m:\u001b[0m\u001b[1;33m\u001b[0m\u001b[1;33m\u001b[0m\u001b[0m\n\u001b[1;32m  17422\u001b[0m \t\treturn self._ApplyTypes_(1610743824, 1, (12, 0), ((12, 17), (12, 17)), 'GetPoint', None,Point\n\u001b[0;32m> 17423\u001b[0;31m \t\t\t, Prompt)\n\u001b[0m\u001b[1;32m  17424\u001b[0m \u001b[1;33m\u001b[0m\u001b[0m\n\u001b[1;32m  17425\u001b[0m         \u001b[1;32mdef\u001b[0m \u001b[0mGetReal\u001b[0m\u001b[1;33m(\u001b[0m\u001b[0mself\u001b[0m\u001b[1;33m,\u001b[0m \u001b[0mPrompt\u001b[0m\u001b[1;33m=\u001b[0m\u001b[0mdefaultNamedOptArg\u001b[0m\u001b[1;33m)\u001b[0m\u001b[1;33m:\u001b[0m\u001b[1;33m\u001b[0m\u001b[1;33m\u001b[0m\u001b[0m\n",
      "\u001b[0;32mE:\\software\\Anaconda\\lib\\site-packages\\win32com\\client\\__init__.py\u001b[0m in \u001b[0;36m_ApplyTypes_\u001b[0;34m(self, dispid, wFlags, retType, argTypes, user, resultCLSID, *args)\u001b[0m\n\u001b[1;32m    457\u001b[0m         \u001b[1;32mdef\u001b[0m \u001b[0m_ApplyTypes_\u001b[0m\u001b[1;33m(\u001b[0m\u001b[0mself\u001b[0m\u001b[1;33m,\u001b[0m \u001b[0mdispid\u001b[0m\u001b[1;33m,\u001b[0m \u001b[0mwFlags\u001b[0m\u001b[1;33m,\u001b[0m \u001b[0mretType\u001b[0m\u001b[1;33m,\u001b[0m \u001b[0margTypes\u001b[0m\u001b[1;33m,\u001b[0m \u001b[0muser\u001b[0m\u001b[1;33m,\u001b[0m \u001b[0mresultCLSID\u001b[0m\u001b[1;33m,\u001b[0m \u001b[1;33m*\u001b[0m\u001b[0margs\u001b[0m\u001b[1;33m)\u001b[0m\u001b[1;33m:\u001b[0m\u001b[1;33m\u001b[0m\u001b[1;33m\u001b[0m\u001b[0m\n\u001b[1;32m    458\u001b[0m \t\treturn self._get_good_object_(\n\u001b[0;32m--> 459\u001b[0;31m                         \u001b[0mself\u001b[0m\u001b[1;33m.\u001b[0m\u001b[0m_oleobj_\u001b[0m\u001b[1;33m.\u001b[0m\u001b[0mInvokeTypes\u001b[0m\u001b[1;33m(\u001b[0m\u001b[0mdispid\u001b[0m\u001b[1;33m,\u001b[0m \u001b[1;36m0\u001b[0m\u001b[1;33m,\u001b[0m \u001b[0mwFlags\u001b[0m\u001b[1;33m,\u001b[0m \u001b[0mretType\u001b[0m\u001b[1;33m,\u001b[0m \u001b[0margTypes\u001b[0m\u001b[1;33m,\u001b[0m \u001b[1;33m*\u001b[0m\u001b[0margs\u001b[0m\u001b[1;33m)\u001b[0m\u001b[1;33m,\u001b[0m\u001b[1;33m\u001b[0m\u001b[1;33m\u001b[0m\u001b[0m\n\u001b[0m\u001b[1;32m    460\u001b[0m \t\t\tuser, resultCLSID)\n\u001b[1;32m    461\u001b[0m \u001b[1;33m\u001b[0m\u001b[0m\n",
      "\u001b[0;31mcom_error\u001b[0m: (-2147352567, '发生意外。', (0, None, None, None, 0, -2147352567), None)"
     ]
    }
   ],
   "source": [
    "drawDitch(2500,2000,300,250,50,name='截洪沟')"
   ]
  },
  {
   "cell_type": "code",
   "execution_count": null,
   "metadata": {
    "collapsed": true
   },
   "outputs": [],
   "source": []
  }
 ],
 "metadata": {
  "kernelspec": {
   "display_name": "Python [conda root]",
   "language": "python",
   "name": "conda-root-py"
  },
  "language_info": {
   "codemirror_mode": {
    "name": "ipython",
    "version": 3
   },
   "file_extension": ".py",
   "mimetype": "text/x-python",
   "name": "python",
   "nbconvert_exporter": "python",
   "pygments_lexer": "ipython3",
   "version": "3.6.9"
  }
 },
 "nbformat": 4,
 "nbformat_minor": 2
}
