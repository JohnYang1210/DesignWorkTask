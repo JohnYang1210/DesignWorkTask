{
 "cells": [
  {
   "cell_type": "code",
   "execution_count": 1,
   "metadata": {
    "collapsed": true
   },
   "outputs": [],
   "source": [
    "import sys"
   ]
  },
  {
   "cell_type": "code",
   "execution_count": 2,
   "metadata": {
    "collapsed": true
   },
   "outputs": [],
   "source": [
    "sys.path.append(r'F:\\PycharmProject\\PycomCAD')"
   ]
  },
  {
   "cell_type": "code",
   "execution_count": 3,
   "metadata": {
    "collapsed": true
   },
   "outputs": [],
   "source": [
    "from pycomcad import *"
   ]
  },
  {
   "cell_type": "code",
   "execution_count": 4,
   "metadata": {
    "collapsed": true
   },
   "outputs": [],
   "source": [
    "acad=Autocad()"
   ]
  },
  {
   "cell_type": "code",
   "execution_count": 5,
   "metadata": {
    "collapsed": false
   },
   "outputs": [
    {
     "data": {
      "text/plain": [
       "'截洪沟灰场20200827（水结）.dwg'"
      ]
     },
     "execution_count": 5,
     "metadata": {},
     "output_type": "execute_result"
    }
   ],
   "source": [
    "acad.CurrentFilename"
   ]
  },
  {
   "cell_type": "code",
   "execution_count": 13,
   "metadata": {
    "collapsed": true
   },
   "outputs": [],
   "source": [
    "def doit():\n",
    "    startLine=acad.GetEntity()\n",
    "    startLine=startLine[0]\n",
    "    endLine=acad.GetEntity()\n",
    "    endLine=endLine[0]\n",
    "    scFactor=endLine.Length/startLine.Length\n",
    "    xCoordStart=startLine.StartPoint[0]\n",
    "    xCoordEnd=endLine.StartPoint[0]\n",
    "    yCoordStart=startLine.StartPoint[1]\n",
    "    yCoordEnd=endLine.StartPoint[1]\n",
    "    slt=acad.GetSelectionSets('slt1')\n",
    "    slt.SelectOnScreen()\n",
    "    for i in range(slt.Count):\n",
    "        ele=slt.Item(i)\n",
    "        ele=acad.Handle2Object(ele.Handle)\n",
    "        if ele.EntityName=='AcDbText' or ele.EntityName=='AcDbMText':\n",
    "            eleCop=ele.Copy()\n",
    "            insP=ele.InsertionPoint\n",
    "            deltaX=scFactor*(insP[0]-xCoordStart)\n",
    "            X=deltaX+xCoordEnd\n",
    "            deltaY=insP[1]-yCoordStart\n",
    "            Y=deltaY+yCoordEnd\n",
    "            eleCop.Move(Apoint(*insP),Apoint(X,Y))\n",
    "    slt.Delete()\n",
    "            "
   ]
  },
  {
   "cell_type": "code",
   "execution_count": 15,
   "metadata": {
    "collapsed": false
   },
   "outputs": [],
   "source": [
    "\n",
    "doit()"
   ]
  },
  {
   "cell_type": "code",
   "execution_count": null,
   "metadata": {
    "collapsed": true
   },
   "outputs": [],
   "source": []
  }
 ],
 "metadata": {
  "kernelspec": {
   "display_name": "Python [conda root]",
   "language": "python",
   "name": "conda-root-py"
  },
  "language_info": {
   "codemirror_mode": {
    "name": "ipython",
    "version": 3
   },
   "file_extension": ".py",
   "mimetype": "text/x-python",
   "name": "python",
   "nbconvert_exporter": "python",
   "pygments_lexer": "ipython3",
   "version": "3.6.9"
  }
 },
 "nbformat": 4,
 "nbformat_minor": 2
}
