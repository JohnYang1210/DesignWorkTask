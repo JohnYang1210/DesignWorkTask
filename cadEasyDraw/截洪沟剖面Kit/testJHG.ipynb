{
 "cells": [
  {
   "cell_type": "markdown",
   "metadata": {},
   "source": [
    "ICD文件格式：\n",
    "\n",
    "| 格式                   | 说明                                                         |\n",
    "| ---------------------- | ------------------------------------------------------------ |\n",
    "| StartZH                | 起点桩号                                                     |\n",
    "| X,Y,Angle              | 起点坐标和方位角                                             |\n",
    "| 1、Length,[EndAngle]   | 1:直线标示符，长度，后续单元起始方位角（可选）               |\n",
    "| 2，R,Length,1/-1       | 2:圆曲线标示符，半径，长度，转向（1：右转；-1：左转）        |\n",
    "| 3，A,EndR,1/-1         | 3:完整缓和曲线（R在无穷大~R0时）标识符，回旋参数，终点半径，转向（1：右转；-1：左转） |\n",
    "| 4，A,StartR,1/-1       | 4:完整缓和曲线（R在R0~无穷大时）标识符，回旋参数，起点半径，转向（1：右转；-1：左转） |\n",
    "| 5，A,StartR EndR,1/-1  | 5：不完整缓和曲线（R在(R大-R 小)时）标识符，回旋参数起点半径，终点半径，转向（1：右转；-1：左转） |\n",
    "| 6，A ,StartR EndR,1/-1 | 6：不完整缓和曲线（R在(R大-R 小)时）标识符，回旋参数起点半径，终点半径，转向（1：右转；-1：左转） |\n",
    "| 0 0 0                  | 结束符                                                       |\n",
    "\n"
   ]
  },
  {
   "cell_type": "code",
   "execution_count": 1,
   "metadata": {},
   "outputs": [],
   "source": [
    "import numpy as np"
   ]
  },
  {
   "cell_type": "code",
   "execution_count": 2,
   "metadata": {},
   "outputs": [],
   "source": [
    "import math"
   ]
  },
  {
   "cell_type": "code",
   "execution_count": 3,
   "metadata": {},
   "outputs": [],
   "source": [
    "import sys"
   ]
  },
  {
   "cell_type": "code",
   "execution_count": 4,
   "metadata": {},
   "outputs": [],
   "source": [
    "sys.path.append(r'E:\\programming\\pycomcad\\PycomCAD')"
   ]
  },
  {
   "cell_type": "code",
   "execution_count": 5,
   "metadata": {},
   "outputs": [],
   "source": [
    "from pycomcad import *"
   ]
  },
  {
   "cell_type": "code",
   "execution_count": 51,
   "metadata": {
    "scrolled": true
   },
   "outputs": [
    {
     "data": {
      "text/plain": [
       "array([[   0.   , 1396.93 ,    0.   ],\n",
       "       [  96.089, 1394.716,    0.   ],\n",
       "       [ 125.   , 1377.823,    0.   ],\n",
       "       [ 200.   , 1356.949,    0.   ],\n",
       "       [ 283.326, 1328.885,    0.   ],\n",
       "       [ 298.821, 1327.56 ,    0.   ]])"
      ]
     },
     "execution_count": 51,
     "metadata": {},
     "output_type": "execute_result"
    }
   ],
   "source": [
    "test=np.loadtxt(r'bgs.txt');test"
   ]
  },
  {
   "cell_type": "code",
   "execution_count": 54,
   "metadata": {},
   "outputs": [
    {
     "data": {
      "text/plain": [
       "True"
      ]
     },
     "execution_count": 54,
     "metadata": {},
     "output_type": "execute_result"
    }
   ],
   "source": [
    "test.shape[-1]==3"
   ]
  },
  {
   "cell_type": "code",
   "execution_count": 6,
   "metadata": {},
   "outputs": [
    {
     "data": {
      "text/plain": [
       "array([[   0.   , 1396.93 ,    0.   ],\n",
       "       [  96.089, 1394.716,    0.   ],\n",
       "       [ 125.   , 1377.823,    0.   ],\n",
       "       [ 200.   , 1356.949,    0.   ],\n",
       "       [ 283.326, 1328.885,    0.   ],\n",
       "       [ 298.821, 1327.56 ,    0.   ]])"
      ]
     },
     "execution_count": 6,
     "metadata": {},
     "output_type": "execute_result"
    }
   ],
   "source": [
    "bgs=np.loadtxt(r'bgs.txt');bgs"
   ]
  },
  {
   "cell_type": "code",
   "execution_count": 7,
   "metadata": {},
   "outputs": [
    {
     "data": {
      "text/plain": [
       "array([[   0.   , 1396.93 ],\n",
       "       [  96.089, 1394.716],\n",
       "       [ 125.   , 1377.823],\n",
       "       [ 200.   , 1356.949],\n",
       "       [ 283.326, 1328.885],\n",
       "       [ 298.821, 1327.56 ]])"
      ]
     },
     "execution_count": 7,
     "metadata": {},
     "output_type": "execute_result"
    }
   ],
   "source": [
    "bgs=bgs[:,:2];bgs"
   ]
  },
  {
   "cell_type": "code",
   "execution_count": 8,
   "metadata": {},
   "outputs": [],
   "source": [
    "bgz=np.loadtxt(r'bgz.txt')"
   ]
  },
  {
   "cell_type": "code",
   "execution_count": 9,
   "metadata": {
    "scrolled": true
   },
   "outputs": [
    {
     "data": {
      "text/plain": [
       "array([[   0.   , 1400.   ],\n",
       "       [  25.   , 1401.   ],\n",
       "       [  50.   , 1405.484],\n",
       "       [  75.   , 1401.998],\n",
       "       [ 100.   , 1394.431],\n",
       "       [ 125.   , 1379.823],\n",
       "       [ 150.   , 1372.139],\n",
       "       [ 175.   , 1365.935],\n",
       "       [ 200.   , 1358.949],\n",
       "       [ 225.   , 1349.784],\n",
       "       [ 250.   , 1341.717],\n",
       "       [ 275.   , 1333.155],\n",
       "       [ 298.821, 1330.   ]])"
      ]
     },
     "execution_count": 9,
     "metadata": {},
     "output_type": "execute_result"
    }
   ],
   "source": [
    "bgz"
   ]
  },
  {
   "cell_type": "code",
   "execution_count": 10,
   "metadata": {},
   "outputs": [],
   "source": [
    "acad=Autocad()"
   ]
  },
  {
   "cell_type": "code",
   "execution_count": 11,
   "metadata": {},
   "outputs": [
    {
     "data": {
      "text/plain": [
       "True"
      ]
     },
     "execution_count": 11,
     "metadata": {},
     "output_type": "execute_result"
    }
   ],
   "source": [
    "acad.IsEarlyBind"
   ]
  },
  {
   "cell_type": "code",
   "execution_count": 12,
   "metadata": {},
   "outputs": [],
   "source": [
    "# acad.TurnOnEarlyBind()"
   ]
  },
  {
   "cell_type": "code",
   "execution_count": 13,
   "metadata": {},
   "outputs": [],
   "source": [
    "pnt=acad.GetPoint()"
   ]
  },
  {
   "cell_type": "code",
   "execution_count": 14,
   "metadata": {},
   "outputs": [],
   "source": [
    "def addColumn(acad,pnt,stylename,wordHeight=3.5):\n",
    "    x,y,z=pnt\n",
    "    acad.AddTable(Apoint(*pnt),7,1,11,35)\n",
    "    text=['转点编号/桩号','平面距离（m）','自然地面标高',\n",
    "         '沟顶标高(m)','设计沟内底标高（m）','坡度（%）','沟道型式及尺寸']\n",
    "    for t in text:\n",
    "        word=acad.AddText(t,Apoint(x,y-11*(text.index(t)+1)),wordHeight)\n",
    "        word.StyleName=stylename"
   ]
  },
  {
   "cell_type": "code",
   "execution_count": 15,
   "metadata": {},
   "outputs": [],
   "source": [
    "addColumn(acad,pnt,'WLZ')"
   ]
  },
  {
   "cell_type": "code",
   "execution_count": 16,
   "metadata": {},
   "outputs": [
    {
     "data": {
      "text/plain": [
       "array([   0.  , 1327.56])"
      ]
     },
     "execution_count": 16,
     "metadata": {},
     "output_type": "execute_result"
    }
   ],
   "source": [
    "bgs.min(axis=0)"
   ]
  },
  {
   "cell_type": "code",
   "execution_count": 62,
   "metadata": {},
   "outputs": [
    {
     "data": {
      "text/plain": [
       "array([   0., 1330.])"
      ]
     },
     "execution_count": 62,
     "metadata": {},
     "output_type": "execute_result"
    }
   ],
   "source": [
    "bgz.min(axis=0)"
   ]
  },
  {
   "cell_type": "code",
   "execution_count": 17,
   "metadata": {},
   "outputs": [],
   "source": [
    "bgsL=np.array([pnt[0]+35,pnt[1]])+(bgs-bgs.min(axis=0))*np.array([5,5])"
   ]
  },
  {
   "cell_type": "code",
   "execution_count": 18,
   "metadata": {},
   "outputs": [
    {
     "data": {
      "text/plain": [
       "array([[ 481669.48201716, 2808287.9069898 ],\n",
       "       [ 482149.92701716, 2808276.8369898 ],\n",
       "       [ 482294.48201716, 2808192.3719898 ],\n",
       "       [ 482669.48201716, 2808088.0019898 ],\n",
       "       [ 483086.11201716, 2807947.6819898 ],\n",
       "       [ 483163.58701716, 2807941.0569898 ]])"
      ]
     },
     "execution_count": 18,
     "metadata": {},
     "output_type": "execute_result"
    }
   ],
   "source": [
    "bgsL"
   ]
  },
  {
   "cell_type": "code",
   "execution_count": 19,
   "metadata": {},
   "outputs": [
    {
     "data": {
      "text/plain": [
       "[481669.48201715806,\n",
       " 2808287.906989805,\n",
       " 482149.9270171581,\n",
       " 2808276.8369898046,\n",
       " 482294.48201715806,\n",
       " 2808192.371989805,\n",
       " 482669.48201715806,\n",
       " 2808088.0019898047,\n",
       " 483086.11201715807,\n",
       " 2807947.681989805,\n",
       " 483163.58701715805,\n",
       " 2807941.056989805]"
      ]
     },
     "execution_count": 19,
     "metadata": {},
     "output_type": "execute_result"
    }
   ],
   "source": [
    "bgsL.flatten().tolist()"
   ]
  },
  {
   "cell_type": "code",
   "execution_count": 20,
   "metadata": {},
   "outputs": [
    {
     "data": {
      "text/plain": [
       "<win32com.gen_py.AutoCAD 2014 Type Library.IAcadLWPolyline instance at 0x2867665915016>"
      ]
     },
     "execution_count": 20,
     "metadata": {},
     "output_type": "execute_result"
    }
   ],
   "source": [
    "acad.AddLwpline(*bgsL.flatten().tolist())"
   ]
  },
  {
   "cell_type": "code",
   "execution_count": 21,
   "metadata": {},
   "outputs": [],
   "source": [
    "bgzL=np.array([pnt[0]+35,pnt[1]])+(bgz-bgs.min(axis=0))*np.array([5,5])"
   ]
  },
  {
   "cell_type": "code",
   "execution_count": 22,
   "metadata": {},
   "outputs": [
    {
     "data": {
      "text/plain": [
       "array([[   0.   , 1400.   ],\n",
       "       [  25.   , 1401.   ],\n",
       "       [  50.   , 1405.484],\n",
       "       [  75.   , 1401.998],\n",
       "       [ 100.   , 1394.431],\n",
       "       [ 125.   , 1379.823],\n",
       "       [ 150.   , 1372.139],\n",
       "       [ 175.   , 1365.935],\n",
       "       [ 200.   , 1358.949],\n",
       "       [ 225.   , 1349.784],\n",
       "       [ 250.   , 1341.717],\n",
       "       [ 275.   , 1333.155],\n",
       "       [ 298.821, 1330.   ]])"
      ]
     },
     "execution_count": 22,
     "metadata": {},
     "output_type": "execute_result"
    }
   ],
   "source": [
    "bgz"
   ]
  },
  {
   "cell_type": "code",
   "execution_count": 23,
   "metadata": {},
   "outputs": [
    {
     "data": {
      "text/plain": [
       "<win32com.gen_py.AutoCAD 2014 Type Library.IAcadLWPolyline instance at 0x2867665914512>"
      ]
     },
     "execution_count": 23,
     "metadata": {},
     "output_type": "execute_result"
    }
   ],
   "source": [
    "acad.AddLwpline(*bgzL.flatten().tolist())"
   ]
  },
  {
   "cell_type": "code",
   "execution_count": 24,
   "metadata": {},
   "outputs": [
    {
     "data": {
      "text/plain": [
       "<win32com.gen_py.AutoCAD 2014 Type Library.IAcadCircle instance at 0x2867668658048>"
      ]
     },
     "execution_count": 24,
     "metadata": {},
     "output_type": "execute_result"
    }
   ],
   "source": [
    "acad.AddCircle(Apoint(*pnt),10)"
   ]
  },
  {
   "cell_type": "code",
   "execution_count": 25,
   "metadata": {},
   "outputs": [
    {
     "data": {
      "text/plain": [
       "(481634.48201715806, 2807941.056989805, 0.0)"
      ]
     },
     "execution_count": 25,
     "metadata": {},
     "output_type": "execute_result"
    }
   ],
   "source": [
    "pnt"
   ]
  },
  {
   "cell_type": "code",
   "execution_count": 26,
   "metadata": {},
   "outputs": [],
   "source": [
    "LH=acad.AddLine(Apoint(pnt[0]+35,pnt[1]),Apoint(pnt[0]+35+bgz.max(axis=0)[0]*5,pnt[1]))"
   ]
  },
  {
   "cell_type": "code",
   "execution_count": 27,
   "metadata": {},
   "outputs": [],
   "source": [
    "for i in range(7):\n",
    "    LH.Offset(-11*(i+1))"
   ]
  },
  {
   "cell_type": "code",
   "execution_count": 28,
   "metadata": {},
   "outputs": [
    {
     "data": {
      "text/plain": [
       "array([[  1.      , 182.296587],\n",
       "       [  2.      ,  14.591133],\n",
       "       [  1.      ,   0.809412],\n",
       "       [  2.      ,  19.812314],\n",
       "       [  1.      ,  16.379723]])"
      ]
     },
     "execution_count": 28,
     "metadata": {},
     "output_type": "execute_result"
    }
   ],
   "source": [
    "ZH=np.loadtxt(r'pm.txt',delimiter=',');ZH"
   ]
  },
  {
   "cell_type": "code",
   "execution_count": 29,
   "metadata": {},
   "outputs": [
    {
     "data": {
      "text/plain": [
       "array([182.296587,  14.591133,   0.809412,  19.812314,  16.379723])"
      ]
     },
     "execution_count": 29,
     "metadata": {},
     "output_type": "execute_result"
    }
   ],
   "source": [
    "zh1=ZH[:,1];zh1"
   ]
  },
  {
   "cell_type": "code",
   "execution_count": 30,
   "metadata": {},
   "outputs": [
    {
     "data": {
      "text/plain": [
       "array([182.296587, 196.88772 , 197.697132, 217.509446, 233.889169])"
      ]
     },
     "execution_count": 30,
     "metadata": {},
     "output_type": "execute_result"
    }
   ],
   "source": [
    "zh1=np.cumsum(zh1);zh1"
   ]
  },
  {
   "cell_type": "code",
   "execution_count": 31,
   "metadata": {},
   "outputs": [],
   "source": [
    "zh1L=acad.AddLine(Apoint(pnt[0]+35,pnt[1]),Apoint(pnt[0]+35,pnt[1]-77))"
   ]
  },
  {
   "cell_type": "code",
   "execution_count": 32,
   "metadata": {},
   "outputs": [],
   "source": [
    "for i in zh1:\n",
    "    zh1L.Offset(i*5)"
   ]
  },
  {
   "cell_type": "code",
   "execution_count": 33,
   "metadata": {},
   "outputs": [
    {
     "data": {
      "text/plain": [
       "array([[   0.   , 1400.   ],\n",
       "       [  25.   , 1401.   ],\n",
       "       [  50.   , 1405.484],\n",
       "       [  75.   , 1401.998],\n",
       "       [ 100.   , 1394.431],\n",
       "       [ 125.   , 1379.823],\n",
       "       [ 150.   , 1372.139],\n",
       "       [ 175.   , 1365.935],\n",
       "       [ 200.   , 1358.949],\n",
       "       [ 225.   , 1349.784],\n",
       "       [ 250.   , 1341.717],\n",
       "       [ 275.   , 1333.155],\n",
       "       [ 298.821, 1330.   ]])"
      ]
     },
     "execution_count": 33,
     "metadata": {},
     "output_type": "execute_result"
    }
   ],
   "source": [
    "bgz"
   ]
  },
  {
   "cell_type": "code",
   "execution_count": 34,
   "metadata": {},
   "outputs": [
    {
     "data": {
      "text/plain": [
       "array([[   0.   , 1396.93 ],\n",
       "       [  96.089, 1394.716],\n",
       "       [ 125.   , 1377.823],\n",
       "       [ 200.   , 1356.949],\n",
       "       [ 283.326, 1328.885],\n",
       "       [ 298.821, 1327.56 ]])"
      ]
     },
     "execution_count": 34,
     "metadata": {},
     "output_type": "execute_result"
    }
   ],
   "source": [
    "bgs"
   ]
  },
  {
   "cell_type": "code",
   "execution_count": 35,
   "metadata": {},
   "outputs": [],
   "source": [
    "import pandas as pd"
   ]
  },
  {
   "cell_type": "code",
   "execution_count": 63,
   "metadata": {},
   "outputs": [],
   "source": [
    "a=[1,2,3];b=[3,4]"
   ]
  },
  {
   "cell_type": "code",
   "execution_count": 36,
   "metadata": {},
   "outputs": [],
   "source": [
    "distance=bgs[:,0].tolist()+zh1.tolist()+bgz[:,0].tolist()"
   ]
  },
  {
   "cell_type": "code",
   "execution_count": 37,
   "metadata": {},
   "outputs": [
    {
     "data": {
      "text/plain": [
       "[0.0,\n",
       " 96.089,\n",
       " 125.0,\n",
       " 200.0,\n",
       " 283.326,\n",
       " 298.821,\n",
       " 182.296587,\n",
       " 196.88772,\n",
       " 197.697132,\n",
       " 217.50944600000003,\n",
       " 233.88916900000004,\n",
       " 0.0,\n",
       " 25.0,\n",
       " 50.0,\n",
       " 75.0,\n",
       " 100.0,\n",
       " 125.0,\n",
       " 150.0,\n",
       " 175.0,\n",
       " 200.0,\n",
       " 225.0,\n",
       " 250.0,\n",
       " 275.0,\n",
       " 298.821]"
      ]
     },
     "execution_count": 37,
     "metadata": {},
     "output_type": "execute_result"
    }
   ],
   "source": [
    "distance"
   ]
  },
  {
   "cell_type": "code",
   "execution_count": 38,
   "metadata": {},
   "outputs": [],
   "source": [
    "np.interp?"
   ]
  },
  {
   "cell_type": "code",
   "execution_count": 39,
   "metadata": {},
   "outputs": [],
   "source": [
    "df=pd.DataFrame({'Distance':distance,'BGZ':np.interp(distance,bgz[:,0],bgz[:,1]),'BGS':np.interp(distance,bgs[:,0],bgs[:,1])})"
   ]
  },
  {
   "cell_type": "code",
   "execution_count": 40,
   "metadata": {},
   "outputs": [
    {
     "data": {
      "text/html": [
       "<div>\n",
       "<style scoped>\n",
       "    .dataframe tbody tr th:only-of-type {\n",
       "        vertical-align: middle;\n",
       "    }\n",
       "\n",
       "    .dataframe tbody tr th {\n",
       "        vertical-align: top;\n",
       "    }\n",
       "\n",
       "    .dataframe thead th {\n",
       "        text-align: right;\n",
       "    }\n",
       "</style>\n",
       "<table border=\"1\" class=\"dataframe\">\n",
       "  <thead>\n",
       "    <tr style=\"text-align: right;\">\n",
       "      <th></th>\n",
       "      <th>Distance</th>\n",
       "      <th>BGZ</th>\n",
       "      <th>BGS</th>\n",
       "    </tr>\n",
       "  </thead>\n",
       "  <tbody>\n",
       "    <tr>\n",
       "      <th>0</th>\n",
       "      <td>0.000000</td>\n",
       "      <td>1400.000000</td>\n",
       "      <td>1396.930000</td>\n",
       "    </tr>\n",
       "    <tr>\n",
       "      <th>1</th>\n",
       "      <td>96.089000</td>\n",
       "      <td>1395.614781</td>\n",
       "      <td>1394.716000</td>\n",
       "    </tr>\n",
       "    <tr>\n",
       "      <th>2</th>\n",
       "      <td>125.000000</td>\n",
       "      <td>1379.823000</td>\n",
       "      <td>1377.823000</td>\n",
       "    </tr>\n",
       "    <tr>\n",
       "      <th>3</th>\n",
       "      <td>200.000000</td>\n",
       "      <td>1358.949000</td>\n",
       "      <td>1356.949000</td>\n",
       "    </tr>\n",
       "    <tr>\n",
       "      <th>4</th>\n",
       "      <td>283.326000</td>\n",
       "      <td>1332.052253</td>\n",
       "      <td>1328.885000</td>\n",
       "    </tr>\n",
       "    <tr>\n",
       "      <th>5</th>\n",
       "      <td>298.821000</td>\n",
       "      <td>1330.000000</td>\n",
       "      <td>1327.560000</td>\n",
       "    </tr>\n",
       "    <tr>\n",
       "      <th>6</th>\n",
       "      <td>182.296587</td>\n",
       "      <td>1363.896042</td>\n",
       "      <td>1361.876214</td>\n",
       "    </tr>\n",
       "    <tr>\n",
       "      <th>7</th>\n",
       "      <td>196.887720</td>\n",
       "      <td>1359.818696</td>\n",
       "      <td>1357.815210</td>\n",
       "    </tr>\n",
       "    <tr>\n",
       "      <th>8</th>\n",
       "      <td>197.697132</td>\n",
       "      <td>1359.592513</td>\n",
       "      <td>1357.589934</td>\n",
       "    </tr>\n",
       "    <tr>\n",
       "      <th>9</th>\n",
       "      <td>217.509446</td>\n",
       "      <td>1352.530037</td>\n",
       "      <td>1351.051860</td>\n",
       "    </tr>\n",
       "    <tr>\n",
       "      <th>10</th>\n",
       "      <td>233.889169</td>\n",
       "      <td>1346.915643</td>\n",
       "      <td>1345.535208</td>\n",
       "    </tr>\n",
       "    <tr>\n",
       "      <th>11</th>\n",
       "      <td>0.000000</td>\n",
       "      <td>1400.000000</td>\n",
       "      <td>1396.930000</td>\n",
       "    </tr>\n",
       "    <tr>\n",
       "      <th>12</th>\n",
       "      <td>25.000000</td>\n",
       "      <td>1401.000000</td>\n",
       "      <td>1396.353972</td>\n",
       "    </tr>\n",
       "    <tr>\n",
       "      <th>13</th>\n",
       "      <td>50.000000</td>\n",
       "      <td>1405.484000</td>\n",
       "      <td>1395.777943</td>\n",
       "    </tr>\n",
       "    <tr>\n",
       "      <th>14</th>\n",
       "      <td>75.000000</td>\n",
       "      <td>1401.998000</td>\n",
       "      <td>1395.201915</td>\n",
       "    </tr>\n",
       "    <tr>\n",
       "      <th>15</th>\n",
       "      <td>100.000000</td>\n",
       "      <td>1394.431000</td>\n",
       "      <td>1392.430762</td>\n",
       "    </tr>\n",
       "    <tr>\n",
       "      <th>16</th>\n",
       "      <td>125.000000</td>\n",
       "      <td>1379.823000</td>\n",
       "      <td>1377.823000</td>\n",
       "    </tr>\n",
       "    <tr>\n",
       "      <th>17</th>\n",
       "      <td>150.000000</td>\n",
       "      <td>1372.139000</td>\n",
       "      <td>1370.865000</td>\n",
       "    </tr>\n",
       "    <tr>\n",
       "      <th>18</th>\n",
       "      <td>175.000000</td>\n",
       "      <td>1365.935000</td>\n",
       "      <td>1363.907000</td>\n",
       "    </tr>\n",
       "    <tr>\n",
       "      <th>19</th>\n",
       "      <td>200.000000</td>\n",
       "      <td>1358.949000</td>\n",
       "      <td>1356.949000</td>\n",
       "    </tr>\n",
       "    <tr>\n",
       "      <th>20</th>\n",
       "      <td>225.000000</td>\n",
       "      <td>1349.784000</td>\n",
       "      <td>1348.529059</td>\n",
       "    </tr>\n",
       "    <tr>\n",
       "      <th>21</th>\n",
       "      <td>250.000000</td>\n",
       "      <td>1341.717000</td>\n",
       "      <td>1340.109118</td>\n",
       "    </tr>\n",
       "    <tr>\n",
       "      <th>22</th>\n",
       "      <td>275.000000</td>\n",
       "      <td>1333.155000</td>\n",
       "      <td>1331.689177</td>\n",
       "    </tr>\n",
       "    <tr>\n",
       "      <th>23</th>\n",
       "      <td>298.821000</td>\n",
       "      <td>1330.000000</td>\n",
       "      <td>1327.560000</td>\n",
       "    </tr>\n",
       "  </tbody>\n",
       "</table>\n",
       "</div>"
      ],
      "text/plain": [
       "      Distance          BGZ          BGS\n",
       "0     0.000000  1400.000000  1396.930000\n",
       "1    96.089000  1395.614781  1394.716000\n",
       "2   125.000000  1379.823000  1377.823000\n",
       "3   200.000000  1358.949000  1356.949000\n",
       "4   283.326000  1332.052253  1328.885000\n",
       "5   298.821000  1330.000000  1327.560000\n",
       "6   182.296587  1363.896042  1361.876214\n",
       "7   196.887720  1359.818696  1357.815210\n",
       "8   197.697132  1359.592513  1357.589934\n",
       "9   217.509446  1352.530037  1351.051860\n",
       "10  233.889169  1346.915643  1345.535208\n",
       "11    0.000000  1400.000000  1396.930000\n",
       "12   25.000000  1401.000000  1396.353972\n",
       "13   50.000000  1405.484000  1395.777943\n",
       "14   75.000000  1401.998000  1395.201915\n",
       "15  100.000000  1394.431000  1392.430762\n",
       "16  125.000000  1379.823000  1377.823000\n",
       "17  150.000000  1372.139000  1370.865000\n",
       "18  175.000000  1365.935000  1363.907000\n",
       "19  200.000000  1358.949000  1356.949000\n",
       "20  225.000000  1349.784000  1348.529059\n",
       "21  250.000000  1341.717000  1340.109118\n",
       "22  275.000000  1333.155000  1331.689177\n",
       "23  298.821000  1330.000000  1327.560000"
      ]
     },
     "execution_count": 40,
     "metadata": {},
     "output_type": "execute_result"
    }
   ],
   "source": [
    "df"
   ]
  },
  {
   "cell_type": "code",
   "execution_count": 41,
   "metadata": {},
   "outputs": [
    {
     "data": {
      "text/plain": [
       "23"
      ]
     },
     "execution_count": 41,
     "metadata": {},
     "output_type": "execute_result"
    }
   ],
   "source": [
    "df.index.argmax()"
   ]
  },
  {
   "cell_type": "code",
   "execution_count": 42,
   "metadata": {},
   "outputs": [],
   "source": [
    "x,y,z=pnt"
   ]
  },
  {
   "cell_type": "code",
   "execution_count": 43,
   "metadata": {},
   "outputs": [],
   "source": [
    "acad.AddText?"
   ]
  },
  {
   "cell_type": "code",
   "execution_count": 44,
   "metadata": {},
   "outputs": [],
   "source": [
    "for i in range(df.index.argmax()+1):\n",
    "    distance,BGZ,BGS=df.iloc[i].values\n",
    "    zh1L.Offset(distance*5)\n",
    "    zhuanghao=acad.AddText('+'+str(round(distance,2)),Apoint(x+35+distance*5,y-5.5),2.5)\n",
    "    ziranbiaogao=acad.AddText(str(round(BGZ,2)),Apoint(x+35+distance*5,y-35),2.5)\n",
    "    shejibiaogao=acad.AddText(str(round(BGS,2)),Apoint(x+35+distance*5,y-55),2.5)\n",
    "    zhuanghao.Rotation=math.radians(90)\n",
    "    ziranbiaogao.Rotation=math.radians(90)\n",
    "    shejibiaogao.Rotation=math.radians(90)\n",
    "    "
   ]
  },
  {
   "cell_type": "code",
   "execution_count": 45,
   "metadata": {},
   "outputs": [],
   "source": [
    "def drawElevationRuler(acad,x,y,scale,maxH,minH,wordHeight,intern=1):\n",
    "    \"\"\"\n",
    "    x,y:标尺最低点的坐标\n",
    "    绘制标高尺\n",
    "    scale:标尺比例\n",
    "    intern:m,标尺间隔\n",
    "    maxH:最高,m\n",
    "    \"\"\"\n",
    "    n=math.floor((maxH-minH)/intern)+1\n",
    "    acad.AddLwpline(x,y,x+1,y,x+1,y+n*intern*1000/scale,x,y+n*intern*1000/scale,x,y)\n",
    "    texts=[str(minH+intern*i) for i in range(n)]\n",
    "    for i in range(n):\n",
    "        textPnt=Apoint(x-10,y+i*intern*1000/scale)  #字体距离标尺左边距离\n",
    "        text=acad.AddText(texts[i],textPnt,wordHeight)\n",
    "        ys=y+i*intern*1000/scale\n",
    "        ye=y+(i+1)*intern*1000/scale\n",
    "        if i%2==0:\n",
    "            xx=x+0.75\n",
    "        else:\n",
    "            xx=x+0.25\n",
    "        pl=acad.AddLwpline(xx,ys,xx,ye)\n",
    "        pl.ConstantWidth=0.5"
   ]
  },
  {
   "cell_type": "code",
   "execution_count": 46,
   "metadata": {},
   "outputs": [
    {
     "data": {
      "text/plain": [
       "(481634.48201715806, 2807941.056989805, 0.0)"
      ]
     },
     "execution_count": 46,
     "metadata": {},
     "output_type": "execute_result"
    }
   ],
   "source": [
    "pnt"
   ]
  },
  {
   "cell_type": "code",
   "execution_count": 47,
   "metadata": {},
   "outputs": [
    {
     "data": {
      "text/plain": [
       "array([[   0.   , 1396.93 ],\n",
       "       [  96.089, 1394.716],\n",
       "       [ 125.   , 1377.823],\n",
       "       [ 200.   , 1356.949],\n",
       "       [ 283.326, 1328.885],\n",
       "       [ 298.821, 1327.56 ]])"
      ]
     },
     "execution_count": 47,
     "metadata": {},
     "output_type": "execute_result"
    }
   ],
   "source": [
    "bgs"
   ]
  },
  {
   "cell_type": "code",
   "execution_count": 48,
   "metadata": {},
   "outputs": [
    {
     "data": {
      "text/plain": [
       "1327.56"
      ]
     },
     "execution_count": 48,
     "metadata": {},
     "output_type": "execute_result"
    }
   ],
   "source": [
    "ymin=bgs.min(axis=0)[1];ymin"
   ]
  },
  {
   "cell_type": "code",
   "execution_count": 49,
   "metadata": {},
   "outputs": [
    {
     "data": {
      "text/plain": [
       "1405.484"
      ]
     },
     "execution_count": 49,
     "metadata": {},
     "output_type": "execute_result"
    }
   ],
   "source": [
    "ymax=np.vstack((bgs,bgz)).max(axis=0)[1];ymax"
   ]
  },
  {
   "cell_type": "code",
   "execution_count": 50,
   "metadata": {},
   "outputs": [],
   "source": [
    "drawElevationRuler(acad,x-5,y-0.56*5,200,int(ymax)+1,int(ymin),2.5)"
   ]
  },
  {
   "cell_type": "code",
   "execution_count": null,
   "metadata": {},
   "outputs": [],
   "source": []
  }
 ],
 "metadata": {
  "kernelspec": {
   "display_name": "Python [conda env:root] *",
   "language": "python",
   "name": "conda-root-py"
  },
  "language_info": {
   "codemirror_mode": {
    "name": "ipython",
    "version": 3
   },
   "file_extension": ".py",
   "mimetype": "text/x-python",
   "name": "python",
   "nbconvert_exporter": "python",
   "pygments_lexer": "ipython3",
   "version": "3.7.0"
  }
 },
 "nbformat": 4,
 "nbformat_minor": 2
}
