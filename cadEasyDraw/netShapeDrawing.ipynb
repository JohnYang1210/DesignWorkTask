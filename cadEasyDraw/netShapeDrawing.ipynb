{
 "cells": [
  {
   "cell_type": "code",
   "execution_count": 1,
   "metadata": {
    "collapsed": true
   },
   "outputs": [],
   "source": [
    "import sys"
   ]
  },
  {
   "cell_type": "code",
   "execution_count": 2,
   "metadata": {
    "collapsed": true
   },
   "outputs": [],
   "source": [
    "import numpy as np"
   ]
  },
  {
   "cell_type": "code",
   "execution_count": 3,
   "metadata": {
    "collapsed": true
   },
   "outputs": [],
   "source": [
    "sys.path.append(r'F:\\PycharmProject\\PycomCAD')"
   ]
  },
  {
   "cell_type": "code",
   "execution_count": 4,
   "metadata": {
    "collapsed": true
   },
   "outputs": [],
   "source": [
    "from pycomcad import *"
   ]
  },
  {
   "cell_type": "code",
   "execution_count": 5,
   "metadata": {
    "collapsed": true
   },
   "outputs": [],
   "source": [
    "def getNodeSet(intervalLengths,sliceWidths):\n",
    "    \"\"\"\n",
    "    intervalLengths:网格开间，进深距离；比如，[1,1,3,4]\n",
    "    sliceWidths:网格依次宽度；比如，[1,1,3,4,5],必须比intervalLengths数目多一个\n",
    "    \"\"\"\n",
    "    nodeSets=[]\n",
    "    increments=0\n",
    "    if not (len(sliceWidths)-len(intervalLengths))==1:\n",
    "        raise Exception('sliceWidths number not matching intervalLengths number')\n",
    "    intervalLengths.insert(0,0)\n",
    "    for i in range(len(sliceWidths)):\n",
    "        increments+=intervalLengths[i]\n",
    "        nodeSets.append(increments-sliceWidths[i]/2)\n",
    "        nodeSets.append(increments+sliceWidths[i]/2)\n",
    "    small=nodeSets.pop(0)\n",
    "    large=nodeSets.pop(-1)\n",
    "    print('nodeSet,small,large',(nodeSets,small,large))\n",
    "    return nodeSets,small,large"
   ]
  },
  {
   "cell_type": "code",
   "execution_count": 6,
   "metadata": {
    "collapsed": true
   },
   "outputs": [],
   "source": [
    "def getNodeSeries(nodeSets):\n",
    "    \"\"\"\n",
    "    get the series needed to draw lines directly\n",
    "    \"\"\"\n",
    "    series=[]\n",
    "    nodes=nodeSets.copy()\n",
    "    while nodes:\n",
    "        n1=nodes.pop(0)\n",
    "        n2=nodes.pop(0)\n",
    "        series.append((n1,n2))\n",
    "#     for i in range(len(nodeSets)-1):\n",
    "#         series.append((nodeSets[i],nodeSets[i+1]))\n",
    "    print('series:',series)\n",
    "    return series"
   ]
  },
  {
   "cell_type": "code",
   "execution_count": 7,
   "metadata": {
    "collapsed": true
   },
   "outputs": [],
   "source": [
    "def drawNet(acad,intervalH,sliceH,intervalV,sliceV,scale=50):\n",
    "    interH=(np.array(intervalH)/scale).tolist()\n",
    "    slH=(np.array(sliceH)/scale).tolist()\n",
    "    interV=(np.array(intervalV)/scale).tolist()\n",
    "    slV=(np.array(sliceV)/scale).tolist()\n",
    "    xnodeSets,x1,x2=getNodeSet(interH,slH)\n",
    "    seriesH=getNodeSeries(xnodeSets)\n",
    "    ynodeSets,y1,y2=getNodeSet(interV,slV)\n",
    "    seriesV=getNodeSeries(ynodeSets)\n",
    "    point=acad.GetPoint()\n",
    "    x,y,z=point\n",
    "    for i in range(len(seriesH)):\n",
    "        for j in range(len(seriesV)):\n",
    "            coords=(x+seriesH[i][0],y+seriesV[j][0],\n",
    "                   x+seriesH[i][0],y+seriesV[j][1],\n",
    "                   x+seriesH[i][1],y+seriesV[j][1],\n",
    "                   x+seriesH[i][1],y+seriesV[j][0],\n",
    "                   x+seriesH[i][0],y+seriesV[j][0],)\n",
    "            print(coords)\n",
    "            acad.AddLwpline(*coords)\n",
    "    acad.AddLwpline(x+x1,y+y1,x+x1,y+y2,x+x2,y+y2,x+x2,y+y1,x+x1,y+y1)\n",
    "    "
   ]
  },
  {
   "cell_type": "code",
   "execution_count": 8,
   "metadata": {
    "collapsed": true
   },
   "outputs": [],
   "source": [
    "acad=Autocad()"
   ]
  },
  {
   "cell_type": "code",
   "execution_count": 9,
   "metadata": {
    "collapsed": false
   },
   "outputs": [
    {
     "data": {
      "text/plain": [
       "'综合水泵房.dwg'"
      ]
     },
     "execution_count": 9,
     "metadata": {},
     "output_type": "execute_result"
    }
   ],
   "source": [
    "acad.CurrentFilename"
   ]
  },
  {
   "cell_type": "code",
   "execution_count": 11,
   "metadata": {
    "collapsed": false,
    "scrolled": true
   },
   "outputs": [
    {
     "name": "stdout",
     "output_type": "stream",
     "text": [
      "nodeSet,small,large ([0.0, 433.0, 449.0, 541.0], 0.0, 565.0)\n",
      "series: [(0.0, 433.0), (449.0, 541.0)]\n",
      "nodeSet,small,large ([12.0, 56.0, 76.0, 120.0, 140.0, 184.0, 204.0, 248.0], -12.0, 272.0)\n",
      "series: [(12.0, 56.0), (76.0, 120.0), (140.0, 184.0), (204.0, 248.0)]\n",
      "(2500.7561579175217, -8388.11326622462, 2500.7561579175217, -8344.11326622462, 2933.7561579175217, -8344.11326622462, 2933.7561579175217, -8388.11326622462, 2500.7561579175217, -8388.11326622462)\n",
      "(2500.7561579175217, -8324.11326622462, 2500.7561579175217, -8280.11326622462, 2933.7561579175217, -8280.11326622462, 2933.7561579175217, -8324.11326622462, 2500.7561579175217, -8324.11326622462)\n",
      "(2500.7561579175217, -8260.11326622462, 2500.7561579175217, -8216.11326622462, 2933.7561579175217, -8216.11326622462, 2933.7561579175217, -8260.11326622462, 2500.7561579175217, -8260.11326622462)\n",
      "(2500.7561579175217, -8196.11326622462, 2500.7561579175217, -8152.11326622462, 2933.7561579175217, -8152.11326622462, 2933.7561579175217, -8196.11326622462, 2500.7561579175217, -8196.11326622462)\n",
      "(2949.7561579175217, -8388.11326622462, 2949.7561579175217, -8344.11326622462, 3041.7561579175217, -8344.11326622462, 3041.7561579175217, -8388.11326622462, 2949.7561579175217, -8388.11326622462)\n",
      "(2949.7561579175217, -8324.11326622462, 2949.7561579175217, -8280.11326622462, 3041.7561579175217, -8280.11326622462, 3041.7561579175217, -8324.11326622462, 2949.7561579175217, -8324.11326622462)\n",
      "(2949.7561579175217, -8260.11326622462, 2949.7561579175217, -8216.11326622462, 3041.7561579175217, -8216.11326622462, 3041.7561579175217, -8260.11326622462, 2949.7561579175217, -8260.11326622462)\n",
      "(2949.7561579175217, -8196.11326622462, 2949.7561579175217, -8152.11326622462, 3041.7561579175217, -8152.11326622462, 3041.7561579175217, -8196.11326622462, 2949.7561579175217, -8196.11326622462)\n"
     ]
    }
   ],
   "source": [
    "drawNet(acad,(22050,5600),(0,800,1200),(3300,3200,3200,3300),(1200,1000,1000,1000,1200),50)"
   ]
  },
  {
   "cell_type": "code",
   "execution_count": 12,
   "metadata": {
    "collapsed": false
   },
   "outputs": [
    {
     "name": "stdout",
     "output_type": "stream",
     "text": [
      "nodeSet,small,large ([12.0, 56.0, 76.0, 120.0, 140.0, 184.0, 204.0, 248.0], -12.0, 272.0)\n",
      "series: [(12.0, 56.0), (76.0, 120.0), (140.0, 184.0), (204.0, 248.0)]\n",
      "nodeSet,small,large ([12.0, 242.0], -12.0, 248.0)\n",
      "series: [(12.0, 242.0)]\n",
      "(4312.52141147194, -7000.815563485351, 4312.52141147194, -6770.815563485351, 4356.52141147194, -6770.815563485351, 4356.52141147194, -7000.815563485351, 4312.52141147194, -7000.815563485351)\n",
      "(4376.52141147194, -7000.815563485351, 4376.52141147194, -6770.815563485351, 4420.52141147194, -6770.815563485351, 4420.52141147194, -7000.815563485351, 4376.52141147194, -7000.815563485351)\n",
      "(4440.52141147194, -7000.815563485351, 4440.52141147194, -6770.815563485351, 4484.52141147194, -6770.815563485351, 4484.52141147194, -7000.815563485351, 4440.52141147194, -7000.815563485351)\n",
      "(4504.52141147194, -7000.815563485351, 4504.52141147194, -6770.815563485351, 4548.52141147194, -6770.815563485351, 4548.52141147194, -7000.815563485351, 4504.52141147194, -7000.815563485351)\n"
     ]
    }
   ],
   "source": [
    "drawNet(acad,(3300,3200,3200,3300),(1200,1000,1000,1000,1200),(12250,),(1200,300),50)"
   ]
  },
  {
   "cell_type": "code",
   "execution_count": 34,
   "metadata": {
    "collapsed": false
   },
   "outputs": [
    {
     "data": {
      "text/plain": [
       "[(1, 2), (2, 3), (3, 4), (4, 5)]"
      ]
     },
     "execution_count": 34,
     "metadata": {},
     "output_type": "execute_result"
    }
   ],
   "source": [
    "getNodeSeries([1,2,3,4,5])"
   ]
  },
  {
   "cell_type": "code",
   "execution_count": 106,
   "metadata": {
    "collapsed": false
   },
   "outputs": [
    {
     "name": "stdout",
     "output_type": "stream",
     "text": [
      "nodeSet,small,large ([0.5, 4.5, 5.5, 9.5], -0.5, 10.5)\n",
      "series: [(0.5, 4.5), (5.5, 9.5)]\n",
      "nodeSet,small,large ([0.5, 3.5, 4.5, 5.5], -0.5, 6.5)\n",
      "series: [(0.5, 3.5), (4.5, 5.5)]\n",
      "(8919.670504853855, -2172.2687459206472, 8919.670504853855, -2169.2687459206472, 8923.670504853855, -2169.2687459206472, 8923.670504853855, -2172.2687459206472, 8919.670504853855, -2172.2687459206472)\n",
      "(8919.670504853855, -2168.2687459206472, 8919.670504853855, -2167.2687459206472, 8923.670504853855, -2167.2687459206472, 8923.670504853855, -2168.2687459206472, 8919.670504853855, -2168.2687459206472)\n",
      "(8924.670504853855, -2172.2687459206472, 8924.670504853855, -2169.2687459206472, 8928.670504853855, -2169.2687459206472, 8928.670504853855, -2172.2687459206472, 8924.670504853855, -2172.2687459206472)\n",
      "(8924.670504853855, -2168.2687459206472, 8924.670504853855, -2167.2687459206472, 8928.670504853855, -2167.2687459206472, 8928.670504853855, -2168.2687459206472, 8924.670504853855, -2168.2687459206472)\n"
     ]
    }
   ],
   "source": [
    "drawNet(acad,(5,5),(1,1,1),(4,2),(1,1,1),scale=1)"
   ]
  },
  {
   "cell_type": "code",
   "execution_count": null,
   "metadata": {
    "collapsed": true
   },
   "outputs": [],
   "source": []
  }
 ],
 "metadata": {
  "kernelspec": {
   "display_name": "Python [conda root]",
   "language": "python",
   "name": "conda-root-py"
  },
  "language_info": {
   "codemirror_mode": {
    "name": "ipython",
    "version": 3
   },
   "file_extension": ".py",
   "mimetype": "text/x-python",
   "name": "python",
   "nbconvert_exporter": "python",
   "pygments_lexer": "ipython3",
   "version": "3.6.9"
  }
 },
 "nbformat": 4,
 "nbformat_minor": 2
}
