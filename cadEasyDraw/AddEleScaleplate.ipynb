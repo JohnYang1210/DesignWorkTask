{
 "cells": [
  {
   "cell_type": "code",
   "execution_count": 1,
   "metadata": {
    "collapsed": true
   },
   "outputs": [],
   "source": [
    "import sys"
   ]
  },
  {
   "cell_type": "code",
   "execution_count": null,
   "metadata": {
    "collapsed": true
   },
   "outputs": [],
   "source": [
    "import win32com"
   ]
  },
  {
   "cell_type": "code",
   "execution_count": null,
   "metadata": {
    "collapsed": true
   },
   "outputs": [],
   "source": [
    "import math"
   ]
  },
  {
   "cell_type": "code",
   "execution_count": 2,
   "metadata": {
    "collapsed": true
   },
   "outputs": [],
   "source": [
    "sys.path.append(r'F:\\PycharmProject\\PycomCAD')"
   ]
  },
  {
   "cell_type": "code",
   "execution_count": 3,
   "metadata": {
    "collapsed": true
   },
   "outputs": [],
   "source": [
    "from pycomcad import *"
   ]
  },
  {
   "cell_type": "code",
   "execution_count": 4,
   "metadata": {
    "collapsed": true
   },
   "outputs": [],
   "source": [
    "acad=Autocad()"
   ]
  },
  {
   "cell_type": "code",
   "execution_count": 5,
   "metadata": {
    "collapsed": false
   },
   "outputs": [
    {
     "data": {
      "text/plain": [
       "'贵州响水施工场地截洪沟.dwg'"
      ]
     },
     "execution_count": 5,
     "metadata": {},
     "output_type": "execute_result"
    }
   ],
   "source": [
    "acad.CurrentFilename"
   ]
  },
  {
   "cell_type": "code",
   "execution_count": 38,
   "metadata": {
    "collapsed": true
   },
   "outputs": [],
   "source": [
    "def doit(scale,maxH,minH,wordHeight,intern=1):\n",
    "    \"\"\"\n",
    "    scale:缩放比例\n",
    "    intern:m,标尺间隔\n",
    "    maxH:最高,m\n",
    "    \"\"\"\n",
    "    x,y,z=acad.GetPoint()\n",
    "    \n",
    "    n=math.floor((maxH-minH)/intern)+1\n",
    "    acad.AddLwpline(x,y,x+1,y,x+1,y+n*intern*1000/scale,x,y+n*intern*1000/scale,x,y)\n",
    "    texts=[str(minH+intern*i) for i in range(n)]\n",
    "    for i in range(n):\n",
    "        textPnt=Apoint(x-10,y+i*intern*1000/scale)  #字体距离标尺左边距离\n",
    "        text=acad.AddText(texts[i],textPnt,wordHeight)\n",
    "        ys=y+i*intern*1000/scale\n",
    "        ye=y+(i+1)*intern*1000/scale\n",
    "        if i%2==0:\n",
    "            xx=x+0.75\n",
    "        else:\n",
    "            xx=x+0.25\n",
    "        pl=acad.AddLwpline(xx,ys,xx,ye)\n",
    "        pl.ConstantWidth=0.5\n",
    "            \n"
   ]
  },
  {
   "cell_type": "code",
   "execution_count": 39,
   "metadata": {
    "collapsed": false
   },
   "outputs": [],
   "source": [
    "doit(250,1410,1321,3,1)"
   ]
  },
  {
   "cell_type": "code",
   "execution_count": null,
   "metadata": {
    "collapsed": true
   },
   "outputs": [],
   "source": []
  }
 ],
 "metadata": {
  "kernelspec": {
   "display_name": "Python [conda root]",
   "language": "python",
   "name": "conda-root-py"
  },
  "language_info": {
   "codemirror_mode": {
    "name": "ipython",
    "version": 3
   },
   "file_extension": ".py",
   "mimetype": "text/x-python",
   "name": "python",
   "nbconvert_exporter": "python",
   "pygments_lexer": "ipython3",
   "version": "3.6.9"
  }
 },
 "nbformat": 4,
 "nbformat_minor": 2
}
